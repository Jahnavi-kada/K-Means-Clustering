{
 "cells": [
  {
   "cell_type": "code",
   "execution_count": 1,
   "id": "2d32abb8-f986-482b-b42f-c0511add3de1",
   "metadata": {},
   "outputs": [],
   "source": [
    "import pandas as pd\n",
    "import numpy as np\n",
    "import matplotlib.pyplot as plt\n",
    "import seaborn as sns\n",
    "from sklearn.decomposition import PCA\n",
    "from sklearn.cluster import KMeans\n",
    "import sklearn.cluster as cluster\n",
    "from sklearn.cluster import DBSCAN\n",
    "from sklearn.preprocessing import StandardScaler\n",
    "from sklearn import metrics"
   ]
  },
  {
   "cell_type": "code",
   "execution_count": 2,
   "id": "407cb842-1cf8-4137-9612-53d17e8617a2",
   "metadata": {},
   "outputs": [],
   "source": [
    "cluster_customer = pd.read_csv('cluster_customer_data.csv')"
   ]
  },
  {
   "cell_type": "code",
   "execution_count": 3,
   "id": "3b66bb09-f6be-4e52-83dd-fdcf316ed4da",
   "metadata": {},
   "outputs": [
    {
     "data": {
      "text/html": [
       "<div>\n",
       "<style scoped>\n",
       "    .dataframe tbody tr th:only-of-type {\n",
       "        vertical-align: middle;\n",
       "    }\n",
       "\n",
       "    .dataframe tbody tr th {\n",
       "        vertical-align: top;\n",
       "    }\n",
       "\n",
       "    .dataframe thead th {\n",
       "        text-align: right;\n",
       "    }\n",
       "</style>\n",
       "<table border=\"1\" class=\"dataframe\">\n",
       "  <thead>\n",
       "    <tr style=\"text-align: right;\">\n",
       "      <th></th>\n",
       "      <th>Unnamed: 0</th>\n",
       "      <th>BALANCE</th>\n",
       "      <th>BALANCE_FREQUENCY</th>\n",
       "      <th>PURCHASES</th>\n",
       "      <th>ONEOFF_PURCHASES</th>\n",
       "      <th>INSTALLMENTS_PURCHASES</th>\n",
       "      <th>CASH_ADVANCE</th>\n",
       "      <th>PURCHASES_FREQUENCY</th>\n",
       "      <th>ONEOFF_PURCHASES_FREQUENCY</th>\n",
       "      <th>PURCHASES_INSTALLMENTS_FREQUENCY</th>\n",
       "      <th>CASH_ADVANCE_FREQUENCY</th>\n",
       "      <th>CASH_ADVANCE_TRX</th>\n",
       "      <th>PURCHASES_TRX</th>\n",
       "      <th>CREDIT_LIMIT</th>\n",
       "      <th>PAYMENTS</th>\n",
       "      <th>MINIMUM_PAYMENTS</th>\n",
       "      <th>PRC_FULL_PAYMENT</th>\n",
       "      <th>TENURE</th>\n",
       "    </tr>\n",
       "  </thead>\n",
       "  <tbody>\n",
       "    <tr>\n",
       "      <th>0</th>\n",
       "      <td>0</td>\n",
       "      <td>40.900749</td>\n",
       "      <td>0.818182</td>\n",
       "      <td>95.40</td>\n",
       "      <td>0.00</td>\n",
       "      <td>95.40</td>\n",
       "      <td>0.000000</td>\n",
       "      <td>0.166667</td>\n",
       "      <td>0.000000</td>\n",
       "      <td>0.083333</td>\n",
       "      <td>0.000000</td>\n",
       "      <td>0</td>\n",
       "      <td>2</td>\n",
       "      <td>1000.0</td>\n",
       "      <td>201.802084</td>\n",
       "      <td>139.509787</td>\n",
       "      <td>0.000000</td>\n",
       "      <td>12</td>\n",
       "    </tr>\n",
       "    <tr>\n",
       "      <th>1</th>\n",
       "      <td>1</td>\n",
       "      <td>3202.467416</td>\n",
       "      <td>0.909091</td>\n",
       "      <td>0.00</td>\n",
       "      <td>0.00</td>\n",
       "      <td>0.00</td>\n",
       "      <td>6442.945483</td>\n",
       "      <td>0.000000</td>\n",
       "      <td>0.000000</td>\n",
       "      <td>0.000000</td>\n",
       "      <td>0.250000</td>\n",
       "      <td>4</td>\n",
       "      <td>0</td>\n",
       "      <td>7000.0</td>\n",
       "      <td>4103.032597</td>\n",
       "      <td>1072.340217</td>\n",
       "      <td>0.222222</td>\n",
       "      <td>12</td>\n",
       "    </tr>\n",
       "    <tr>\n",
       "      <th>2</th>\n",
       "      <td>2</td>\n",
       "      <td>2495.148862</td>\n",
       "      <td>1.000000</td>\n",
       "      <td>773.17</td>\n",
       "      <td>773.17</td>\n",
       "      <td>0.00</td>\n",
       "      <td>0.000000</td>\n",
       "      <td>1.000000</td>\n",
       "      <td>1.000000</td>\n",
       "      <td>0.000000</td>\n",
       "      <td>0.000000</td>\n",
       "      <td>0</td>\n",
       "      <td>12</td>\n",
       "      <td>7500.0</td>\n",
       "      <td>622.066742</td>\n",
       "      <td>627.284787</td>\n",
       "      <td>0.000000</td>\n",
       "      <td>12</td>\n",
       "    </tr>\n",
       "    <tr>\n",
       "      <th>3</th>\n",
       "      <td>3</td>\n",
       "      <td>1666.670542</td>\n",
       "      <td>0.636364</td>\n",
       "      <td>1499.00</td>\n",
       "      <td>1499.00</td>\n",
       "      <td>0.00</td>\n",
       "      <td>205.788017</td>\n",
       "      <td>0.083333</td>\n",
       "      <td>0.083333</td>\n",
       "      <td>0.000000</td>\n",
       "      <td>0.083333</td>\n",
       "      <td>1</td>\n",
       "      <td>1</td>\n",
       "      <td>7500.0</td>\n",
       "      <td>0.000000</td>\n",
       "      <td>312.343947</td>\n",
       "      <td>0.000000</td>\n",
       "      <td>12</td>\n",
       "    </tr>\n",
       "    <tr>\n",
       "      <th>4</th>\n",
       "      <td>4</td>\n",
       "      <td>817.714335</td>\n",
       "      <td>1.000000</td>\n",
       "      <td>16.00</td>\n",
       "      <td>16.00</td>\n",
       "      <td>0.00</td>\n",
       "      <td>0.000000</td>\n",
       "      <td>0.083333</td>\n",
       "      <td>0.083333</td>\n",
       "      <td>0.000000</td>\n",
       "      <td>0.000000</td>\n",
       "      <td>0</td>\n",
       "      <td>1</td>\n",
       "      <td>1200.0</td>\n",
       "      <td>678.334763</td>\n",
       "      <td>244.791237</td>\n",
       "      <td>0.000000</td>\n",
       "      <td>12</td>\n",
       "    </tr>\n",
       "    <tr>\n",
       "      <th>5</th>\n",
       "      <td>5</td>\n",
       "      <td>1809.828751</td>\n",
       "      <td>1.000000</td>\n",
       "      <td>1333.28</td>\n",
       "      <td>0.00</td>\n",
       "      <td>1333.28</td>\n",
       "      <td>0.000000</td>\n",
       "      <td>0.666667</td>\n",
       "      <td>0.000000</td>\n",
       "      <td>0.583333</td>\n",
       "      <td>0.000000</td>\n",
       "      <td>0</td>\n",
       "      <td>8</td>\n",
       "      <td>1800.0</td>\n",
       "      <td>1400.057770</td>\n",
       "      <td>2407.246035</td>\n",
       "      <td>0.000000</td>\n",
       "      <td>12</td>\n",
       "    </tr>\n",
       "    <tr>\n",
       "      <th>6</th>\n",
       "      <td>6</td>\n",
       "      <td>627.260806</td>\n",
       "      <td>1.000000</td>\n",
       "      <td>7091.01</td>\n",
       "      <td>6402.63</td>\n",
       "      <td>688.38</td>\n",
       "      <td>0.000000</td>\n",
       "      <td>1.000000</td>\n",
       "      <td>1.000000</td>\n",
       "      <td>1.000000</td>\n",
       "      <td>0.000000</td>\n",
       "      <td>0</td>\n",
       "      <td>64</td>\n",
       "      <td>13500.0</td>\n",
       "      <td>6354.314328</td>\n",
       "      <td>198.065894</td>\n",
       "      <td>1.000000</td>\n",
       "      <td>12</td>\n",
       "    </tr>\n",
       "    <tr>\n",
       "      <th>7</th>\n",
       "      <td>7</td>\n",
       "      <td>1823.652743</td>\n",
       "      <td>1.000000</td>\n",
       "      <td>436.20</td>\n",
       "      <td>0.00</td>\n",
       "      <td>436.20</td>\n",
       "      <td>0.000000</td>\n",
       "      <td>1.000000</td>\n",
       "      <td>0.000000</td>\n",
       "      <td>1.000000</td>\n",
       "      <td>0.000000</td>\n",
       "      <td>0</td>\n",
       "      <td>12</td>\n",
       "      <td>2300.0</td>\n",
       "      <td>679.065082</td>\n",
       "      <td>532.033990</td>\n",
       "      <td>0.000000</td>\n",
       "      <td>12</td>\n",
       "    </tr>\n",
       "    <tr>\n",
       "      <th>8</th>\n",
       "      <td>8</td>\n",
       "      <td>1014.926473</td>\n",
       "      <td>1.000000</td>\n",
       "      <td>861.49</td>\n",
       "      <td>661.49</td>\n",
       "      <td>200.00</td>\n",
       "      <td>0.000000</td>\n",
       "      <td>0.333333</td>\n",
       "      <td>0.083333</td>\n",
       "      <td>0.250000</td>\n",
       "      <td>0.000000</td>\n",
       "      <td>0</td>\n",
       "      <td>5</td>\n",
       "      <td>7000.0</td>\n",
       "      <td>688.278568</td>\n",
       "      <td>311.963409</td>\n",
       "      <td>0.000000</td>\n",
       "      <td>12</td>\n",
       "    </tr>\n",
       "    <tr>\n",
       "      <th>9</th>\n",
       "      <td>9</td>\n",
       "      <td>152.225975</td>\n",
       "      <td>0.545455</td>\n",
       "      <td>1281.60</td>\n",
       "      <td>1281.60</td>\n",
       "      <td>0.00</td>\n",
       "      <td>0.000000</td>\n",
       "      <td>0.166667</td>\n",
       "      <td>0.166667</td>\n",
       "      <td>0.000000</td>\n",
       "      <td>0.000000</td>\n",
       "      <td>0</td>\n",
       "      <td>3</td>\n",
       "      <td>11000.0</td>\n",
       "      <td>1164.770591</td>\n",
       "      <td>100.302262</td>\n",
       "      <td>0.000000</td>\n",
       "      <td>12</td>\n",
       "    </tr>\n",
       "  </tbody>\n",
       "</table>\n",
       "</div>"
      ],
      "text/plain": [
       "   Unnamed: 0      BALANCE  BALANCE_FREQUENCY  PURCHASES  ONEOFF_PURCHASES  \\\n",
       "0           0    40.900749           0.818182      95.40              0.00   \n",
       "1           1  3202.467416           0.909091       0.00              0.00   \n",
       "2           2  2495.148862           1.000000     773.17            773.17   \n",
       "3           3  1666.670542           0.636364    1499.00           1499.00   \n",
       "4           4   817.714335           1.000000      16.00             16.00   \n",
       "5           5  1809.828751           1.000000    1333.28              0.00   \n",
       "6           6   627.260806           1.000000    7091.01           6402.63   \n",
       "7           7  1823.652743           1.000000     436.20              0.00   \n",
       "8           8  1014.926473           1.000000     861.49            661.49   \n",
       "9           9   152.225975           0.545455    1281.60           1281.60   \n",
       "\n",
       "   INSTALLMENTS_PURCHASES  CASH_ADVANCE  PURCHASES_FREQUENCY  \\\n",
       "0                   95.40      0.000000             0.166667   \n",
       "1                    0.00   6442.945483             0.000000   \n",
       "2                    0.00      0.000000             1.000000   \n",
       "3                    0.00    205.788017             0.083333   \n",
       "4                    0.00      0.000000             0.083333   \n",
       "5                 1333.28      0.000000             0.666667   \n",
       "6                  688.38      0.000000             1.000000   \n",
       "7                  436.20      0.000000             1.000000   \n",
       "8                  200.00      0.000000             0.333333   \n",
       "9                    0.00      0.000000             0.166667   \n",
       "\n",
       "   ONEOFF_PURCHASES_FREQUENCY  PURCHASES_INSTALLMENTS_FREQUENCY  \\\n",
       "0                    0.000000                          0.083333   \n",
       "1                    0.000000                          0.000000   \n",
       "2                    1.000000                          0.000000   \n",
       "3                    0.083333                          0.000000   \n",
       "4                    0.083333                          0.000000   \n",
       "5                    0.000000                          0.583333   \n",
       "6                    1.000000                          1.000000   \n",
       "7                    0.000000                          1.000000   \n",
       "8                    0.083333                          0.250000   \n",
       "9                    0.166667                          0.000000   \n",
       "\n",
       "   CASH_ADVANCE_FREQUENCY  CASH_ADVANCE_TRX  PURCHASES_TRX  CREDIT_LIMIT  \\\n",
       "0                0.000000                 0              2        1000.0   \n",
       "1                0.250000                 4              0        7000.0   \n",
       "2                0.000000                 0             12        7500.0   \n",
       "3                0.083333                 1              1        7500.0   \n",
       "4                0.000000                 0              1        1200.0   \n",
       "5                0.000000                 0              8        1800.0   \n",
       "6                0.000000                 0             64       13500.0   \n",
       "7                0.000000                 0             12        2300.0   \n",
       "8                0.000000                 0              5        7000.0   \n",
       "9                0.000000                 0              3       11000.0   \n",
       "\n",
       "      PAYMENTS  MINIMUM_PAYMENTS  PRC_FULL_PAYMENT  TENURE  \n",
       "0   201.802084        139.509787          0.000000      12  \n",
       "1  4103.032597       1072.340217          0.222222      12  \n",
       "2   622.066742        627.284787          0.000000      12  \n",
       "3     0.000000        312.343947          0.000000      12  \n",
       "4   678.334763        244.791237          0.000000      12  \n",
       "5  1400.057770       2407.246035          0.000000      12  \n",
       "6  6354.314328        198.065894          1.000000      12  \n",
       "7   679.065082        532.033990          0.000000      12  \n",
       "8   688.278568        311.963409          0.000000      12  \n",
       "9  1164.770591        100.302262          0.000000      12  "
      ]
     },
     "execution_count": 3,
     "metadata": {},
     "output_type": "execute_result"
    }
   ],
   "source": [
    "cluster_customer.head(10)"
   ]
  },
  {
   "cell_type": "code",
   "execution_count": 4,
   "id": "169aee05-d589-4ff0-af27-0d3d5af68f45",
   "metadata": {},
   "outputs": [
    {
     "data": {
      "text/plain": [
       "(8950, 18)"
      ]
     },
     "execution_count": 4,
     "metadata": {},
     "output_type": "execute_result"
    }
   ],
   "source": [
    "cluster_customer.shape"
   ]
  },
  {
   "cell_type": "code",
   "execution_count": 5,
   "id": "8b4894ff-d558-47dc-bc91-3c0e3b7620bf",
   "metadata": {},
   "outputs": [
    {
     "name": "stdout",
     "output_type": "stream",
     "text": [
      "<class 'pandas.core.frame.DataFrame'>\n",
      "RangeIndex: 8950 entries, 0 to 8949\n",
      "Data columns (total 18 columns):\n",
      " #   Column                            Non-Null Count  Dtype  \n",
      "---  ------                            --------------  -----  \n",
      " 0   Unnamed: 0                        8950 non-null   int64  \n",
      " 1   BALANCE                           8950 non-null   float64\n",
      " 2   BALANCE_FREQUENCY                 8950 non-null   float64\n",
      " 3   PURCHASES                         8950 non-null   float64\n",
      " 4   ONEOFF_PURCHASES                  8950 non-null   float64\n",
      " 5   INSTALLMENTS_PURCHASES            8950 non-null   float64\n",
      " 6   CASH_ADVANCE                      8950 non-null   float64\n",
      " 7   PURCHASES_FREQUENCY               8950 non-null   float64\n",
      " 8   ONEOFF_PURCHASES_FREQUENCY        8950 non-null   float64\n",
      " 9   PURCHASES_INSTALLMENTS_FREQUENCY  8950 non-null   float64\n",
      " 10  CASH_ADVANCE_FREQUENCY            8950 non-null   float64\n",
      " 11  CASH_ADVANCE_TRX                  8950 non-null   int64  \n",
      " 12  PURCHASES_TRX                     8950 non-null   int64  \n",
      " 13  CREDIT_LIMIT                      8950 non-null   float64\n",
      " 14  PAYMENTS                          8950 non-null   float64\n",
      " 15  MINIMUM_PAYMENTS                  8950 non-null   float64\n",
      " 16  PRC_FULL_PAYMENT                  8950 non-null   float64\n",
      " 17  TENURE                            8950 non-null   int64  \n",
      "dtypes: float64(14), int64(4)\n",
      "memory usage: 1.2 MB\n"
     ]
    }
   ],
   "source": [
    "cluster_customer.info()"
   ]
  },
  {
   "cell_type": "code",
   "execution_count": 6,
   "id": "99e3b454-6bb4-4b1e-98b0-010781e84b4a",
   "metadata": {},
   "outputs": [],
   "source": [
    "cluster_customer = cluster_customer.drop(columns = 'Unnamed: 0')"
   ]
  },
  {
   "cell_type": "code",
   "execution_count": 7,
   "id": "c0dc31f0-699d-43a6-b663-4813984c1f4c",
   "metadata": {},
   "outputs": [
    {
     "data": {
      "text/plain": [
       "0"
      ]
     },
     "execution_count": 7,
     "metadata": {},
     "output_type": "execute_result"
    }
   ],
   "source": [
    "cluster_customer.duplicated().sum()"
   ]
  },
  {
   "cell_type": "code",
   "execution_count": 8,
   "id": "900c2431-3d38-4211-b6e8-9817cf21238c",
   "metadata": {},
   "outputs": [
    {
     "data": {
      "text/plain": [
       "BALANCE                             0\n",
       "BALANCE_FREQUENCY                   0\n",
       "PURCHASES                           0\n",
       "ONEOFF_PURCHASES                    0\n",
       "INSTALLMENTS_PURCHASES              0\n",
       "CASH_ADVANCE                        0\n",
       "PURCHASES_FREQUENCY                 0\n",
       "ONEOFF_PURCHASES_FREQUENCY          0\n",
       "PURCHASES_INSTALLMENTS_FREQUENCY    0\n",
       "CASH_ADVANCE_FREQUENCY              0\n",
       "CASH_ADVANCE_TRX                    0\n",
       "PURCHASES_TRX                       0\n",
       "CREDIT_LIMIT                        0\n",
       "PAYMENTS                            0\n",
       "MINIMUM_PAYMENTS                    0\n",
       "PRC_FULL_PAYMENT                    0\n",
       "TENURE                              0\n",
       "dtype: int64"
      ]
     },
     "execution_count": 8,
     "metadata": {},
     "output_type": "execute_result"
    }
   ],
   "source": [
    "cluster_customer.isnull().sum()"
   ]
  },
  {
   "cell_type": "code",
   "execution_count": null,
   "id": "37492582-8853-41f9-afe9-315f20cd3fe6",
   "metadata": {},
   "outputs": [],
   "source": []
  },
  {
   "cell_type": "markdown",
   "id": "836a21e3-8941-4c84-a966-60fb1cdd9664",
   "metadata": {},
   "source": [
    "# ***Outlier Detection and Treatment***"
   ]
  },
  {
   "cell_type": "code",
   "execution_count": 9,
   "id": "baaa458f-f133-45c8-ae71-80ab4833ba48",
   "metadata": {},
   "outputs": [
    {
     "data": {
      "text/plain": [
       "Index(['BALANCE', 'BALANCE_FREQUENCY', 'PURCHASES', 'ONEOFF_PURCHASES',\n",
       "       'INSTALLMENTS_PURCHASES', 'CASH_ADVANCE', 'PURCHASES_FREQUENCY',\n",
       "       'ONEOFF_PURCHASES_FREQUENCY', 'PURCHASES_INSTALLMENTS_FREQUENCY',\n",
       "       'CASH_ADVANCE_FREQUENCY', 'CASH_ADVANCE_TRX', 'PURCHASES_TRX',\n",
       "       'CREDIT_LIMIT', 'PAYMENTS', 'MINIMUM_PAYMENTS', 'PRC_FULL_PAYMENT',\n",
       "       'TENURE'],\n",
       "      dtype='object')"
      ]
     },
     "execution_count": 9,
     "metadata": {},
     "output_type": "execute_result"
    }
   ],
   "source": [
    "cluster_customer.columns"
   ]
  },
  {
   "cell_type": "code",
   "execution_count": 10,
   "id": "4345f590-097a-4c18-ac50-ce8e6fb1e18e",
   "metadata": {},
   "outputs": [
    {
     "data": {
      "image/png": "[encoded data removed]",
      "text/plain": [
       "<Figure size 640x480 with 1 Axes>"
      ]
     },
     "metadata": {},
     "output_type": "display_data"
    },
    {
     "data": {
      "image/png": "[encoded data removed]",
      "text/plain": [
       "<Figure size 640x480 with 1 Axes>"
      ]
     },
     "metadata": {},
     "output_type": "display_data"
    },
    {
     "data": {
      "image/png": "[encoded data removed]",
      "text/plain": [
       "<Figure size 640x480 with 1 Axes>"
      ]
     },
     "metadata": {},
     "output_type": "display_data"
    },
    {
     "data": {
      "image/png": "[encoded data removed]",
      "text/plain": [
       "<Figure size 640x480 with 1 Axes>"
      ]
     },
     "metadata": {},
     "output_type": "display_data"
    },
    {
     "data": {
      "image/png": "[encoded data removed]",
      "text/plain": [
       "<Figure size 640x480 with 1 Axes>"
      ]
     },
     "metadata": {},
     "output_type": "display_data"
    },
    {
     "data": {
      "image/png": "[encoded data removed]",
      "text/plain": [
       "<Figure size 640x480 with 1 Axes>"
      ]
     },
     "metadata": {},
     "output_type": "display_data"
    },
    {
     "data": {
      "image/png": "[encoded data removed]",
      "text/plain": [
       "<Figure size 640x480 with 1 Axes>"
      ]
     },
     "metadata": {},
     "output_type": "display_data"
    },
    {
     "data": {
      "image/png": "[encoded data removed]",
      "text/plain": [
       "<Figure size 640x480 with 1 Axes>"
      ]
     },
     "metadata": {},
     "output_type": "display_data"
    },
    {
     "data": {
      "image/png": "[encoded data removed]",
      "text/plain": [
       "<Figure size 640x480 with 1 Axes>"
      ]
     },
     "metadata": {},
     "output_type": "display_data"
    },
    {
     "data": {
      "image/png": "[encoded data removed]",
      "text/plain": [
       "<Figure size 640x480 with 1 Axes>"
      ]
     },
     "metadata": {},
     "output_type": "display_data"
    },
    {
     "data": {
      "image/png": "[encoded data removed]",
      "text/plain": [
       "<Figure size 640x480 with 1 Axes>"
      ]
     },
     "metadata": {},
     "output_type": "display_data"
    },
    {
     "data": {
      "image/png": "[encoded data removed]",
      "text/plain": [
       "<Figure size 640x480 with 1 Axes>"
      ]
     },
     "metadata": {},
     "output_type": "display_data"
    },
    {
     "data": {
      "image/png": "[encoded data removed]",
      "text/plain": [
       "<Figure size 640x480 with 1 Axes>"
      ]
     },
     "metadata": {},
     "output_type": "display_data"
    },
    {
     "data": {
      "image/png": "[encoded data removed]",
      "text/plain": [
       "<Figure size 640x480 with 1 Axes>"
      ]
     },
     "metadata": {},
     "output_type": "display_data"
    },
    {
     "data": {
      "image/png": "[encoded data removed]",
      "text/plain": [
       "<Figure size 640x480 with 1 Axes>"
      ]
     },
     "metadata": {},
     "output_type": "display_data"
    },
    {
     "data": {
      "image/png": "[encoded data removed]",
      "text/plain": [
       "<Figure size 640x480 with 1 Axes>"
      ]
     },
     "metadata": {},
     "output_type": "display_data"
    },
    {
     "data": {
      "image/png": "[encoded data removed]",
      "text/plain": [
       "<Figure size 640x480 with 1 Axes>"
      ]
     },
     "metadata": {},
     "output_type": "display_data"
    }
   ],
   "source": [
    "for i in cluster_customer.columns:\n",
    "    sns.boxplot(cluster_customer[i])\n",
    "    plt.show()"
   ]
  },
  {
   "cell_type": "code",
   "execution_count": 11,
   "id": "c0b42459-a54c-4dea-8b84-9b967c2a64fd",
   "metadata": {},
   "outputs": [],
   "source": [
    "clust_copy = cluster_customer.copy()"
   ]
  },
  {
   "cell_type": "code",
   "execution_count": 12,
   "id": "fd0b6c23-dfda-4345-99d3-3bdc41195d94",
   "metadata": {},
   "outputs": [],
   "source": [
    "def outliertreat_IQR(d):\n",
    "    m = d.quantile(0.5)\n",
    "    q1 = d.quantile(0.25)\n",
    "    q3 = d.quantile(0.75)\n",
    "    q_1p = d.quantile(0.01)\n",
    "    q_99p = d.quantile(0.99)\n",
    "    iqr = q3 - q1\n",
    "    lc = q1 - 1.5*iqr\n",
    "    uc = q3 + 1.5*iqr\n",
    "    return lc,uc"
   ]
  },
  {
   "cell_type": "code",
   "execution_count": 13,
   "id": "7a137a50-5d35-4454-aa99-821fe0a5c947",
   "metadata": {},
   "outputs": [
    {
     "data": {
      "text/html": [
       "<div>\n",
       "<style scoped>\n",
       "    .dataframe tbody tr th:only-of-type {\n",
       "        vertical-align: middle;\n",
       "    }\n",
       "\n",
       "    .dataframe tbody tr th {\n",
       "        vertical-align: top;\n",
       "    }\n",
       "\n",
       "    .dataframe thead th {\n",
       "        text-align: right;\n",
       "    }\n",
       "</style>\n",
       "<table border=\"1\" class=\"dataframe\">\n",
       "  <thead>\n",
       "    <tr style=\"text-align: right;\">\n",
       "      <th></th>\n",
       "      <th>BALANCE</th>\n",
       "      <th>BALANCE_FREQUENCY</th>\n",
       "      <th>PURCHASES</th>\n",
       "      <th>ONEOFF_PURCHASES</th>\n",
       "      <th>INSTALLMENTS_PURCHASES</th>\n",
       "      <th>CASH_ADVANCE</th>\n",
       "      <th>PURCHASES_FREQUENCY</th>\n",
       "      <th>ONEOFF_PURCHASES_FREQUENCY</th>\n",
       "      <th>PURCHASES_INSTALLMENTS_FREQUENCY</th>\n",
       "      <th>CASH_ADVANCE_FREQUENCY</th>\n",
       "      <th>CASH_ADVANCE_TRX</th>\n",
       "      <th>PURCHASES_TRX</th>\n",
       "      <th>CREDIT_LIMIT</th>\n",
       "      <th>PAYMENTS</th>\n",
       "      <th>MINIMUM_PAYMENTS</th>\n",
       "      <th>PRC_FULL_PAYMENT</th>\n",
       "      <th>TENURE</th>\n",
       "    </tr>\n",
       "  </thead>\n",
       "  <tbody>\n",
       "    <tr>\n",
       "      <th>0</th>\n",
       "      <td>-2760.505265</td>\n",
       "      <td>0.722223</td>\n",
       "      <td>-1566.1075</td>\n",
       "      <td>-866.1075</td>\n",
       "      <td>-702.95625</td>\n",
       "      <td>-1670.731709</td>\n",
       "      <td>-1.166668</td>\n",
       "      <td>-0.45</td>\n",
       "      <td>-1.125</td>\n",
       "      <td>-0.333333</td>\n",
       "      <td>-6.0</td>\n",
       "      <td>-23.0</td>\n",
       "      <td>-5750.0</td>\n",
       "      <td>-1893.511060</td>\n",
       "      <td>-755.926115</td>\n",
       "      <td>-0.214286</td>\n",
       "      <td>12.0</td>\n",
       "    </tr>\n",
       "    <tr>\n",
       "      <th>1</th>\n",
       "      <td>4942.927215</td>\n",
       "      <td>1.166666</td>\n",
       "      <td>2715.8725</td>\n",
       "      <td>1443.5125</td>\n",
       "      <td>1171.59375</td>\n",
       "      <td>2784.552848</td>\n",
       "      <td>2.166668</td>\n",
       "      <td>0.75</td>\n",
       "      <td>1.875</td>\n",
       "      <td>0.555555</td>\n",
       "      <td>10.0</td>\n",
       "      <td>41.0</td>\n",
       "      <td>13850.0</td>\n",
       "      <td>4177.921543</td>\n",
       "      <td>1715.497271</td>\n",
       "      <td>0.357143</td>\n",
       "      <td>12.0</td>\n",
       "    </tr>\n",
       "  </tbody>\n",
       "</table>\n",
       "</div>"
      ],
      "text/plain": [
       "       BALANCE  BALANCE_FREQUENCY  PURCHASES  ONEOFF_PURCHASES  \\\n",
       "0 -2760.505265           0.722223 -1566.1075         -866.1075   \n",
       "1  4942.927215           1.166666  2715.8725         1443.5125   \n",
       "\n",
       "   INSTALLMENTS_PURCHASES  CASH_ADVANCE  PURCHASES_FREQUENCY  \\\n",
       "0              -702.95625  -1670.731709            -1.166668   \n",
       "1              1171.59375   2784.552848             2.166668   \n",
       "\n",
       "   ONEOFF_PURCHASES_FREQUENCY  PURCHASES_INSTALLMENTS_FREQUENCY  \\\n",
       "0                       -0.45                            -1.125   \n",
       "1                        0.75                             1.875   \n",
       "\n",
       "   CASH_ADVANCE_FREQUENCY  CASH_ADVANCE_TRX  PURCHASES_TRX  CREDIT_LIMIT  \\\n",
       "0               -0.333333              -6.0          -23.0       -5750.0   \n",
       "1                0.555555              10.0           41.0       13850.0   \n",
       "\n",
       "      PAYMENTS  MINIMUM_PAYMENTS  PRC_FULL_PAYMENT  TENURE  \n",
       "0 -1893.511060       -755.926115         -0.214286    12.0  \n",
       "1  4177.921543       1715.497271          0.357143    12.0  "
      ]
     },
     "execution_count": 13,
     "metadata": {},
     "output_type": "execute_result"
    }
   ],
   "source": [
    "clust_copy.apply(outliertreat_IQR)"
   ]
  },
  {
   "cell_type": "code",
   "execution_count": 14,
   "id": "9a329a9a-783c-4d37-bee8-87023d9f218c",
   "metadata": {},
   "outputs": [],
   "source": [
    "clust_copy['BALANCE'] = clust_copy['BALANCE'].clip(lower = -2760.505265, upper = 4942.927215)\n",
    "clust_copy['BALANCE_FREQUENCY'] = clust_copy['BALANCE_FREQUENCY'].clip(lower = 0.722223, upper = 1.166666)\n",
    "clust_copy['PURCHASES'] = clust_copy['PURCHASES'].clip(lower = -1566.1075, upper = 2715.8725)\n",
    "clust_copy['ONEOFF_PURCHASES'] = clust_copy['ONEOFF_PURCHASES'].clip(lower = -866.1075, upper = 1443.5125)\n",
    "clust_copy['INSTALLMENTS_PURCHASES'] = clust_copy['INSTALLMENTS_PURCHASES'].clip(lower = -702.95625, upper = 1171.59375)\n",
    "clust_copy['CASH_ADVANCE'] = clust_copy['CASH_ADVANCE'].clip(lower = -1670.731709, upper = 2784.552848)\n",
    "clust_copy['PURCHASES_FREQUENCY'] = clust_copy['PURCHASES_FREQUENCY'].clip(lower = -1.166668, upper = 2.166668)\n",
    "clust_copy['ONEOFF_PURCHASES_FREQUENCY'] = clust_copy['ONEOFF_PURCHASES_FREQUENCY'].clip(lower = -0.45, upper = 0.75)\n",
    "clust_copy['PURCHASES_INSTALLMENTS_FREQUENCY'] = clust_copy['PURCHASES_INSTALLMENTS_FREQUENCY'].clip(lower = -1.125, upper = 1.875)\n",
    "clust_copy['CASH_ADVANCE_FREQUENCY'] = clust_copy['CASH_ADVANCE_FREQUENCY'].clip(lower = -0.333333, upper = 0.555555)\n",
    "clust_copy['CASH_ADVANCE_TRX'] = clust_copy['CASH_ADVANCE_TRX'].clip(lower = -6.0, upper = 10.0)\n",
    "clust_copy['PURCHASES_TRX'] = clust_copy['PURCHASES_TRX'].clip(lower = -23.0, upper = 41.0)\n",
    "clust_copy['CREDIT_LIMIT'] = clust_copy['CREDIT_LIMIT'].clip(lower = -5750.0, upper = 13850.0)\n",
    "clust_copy['PAYMENTS'] = clust_copy['PAYMENTS'].clip(lower = -1893.511060, upper = 4177.921543)\n",
    "clust_copy['MINIMUM_PAYMENTS'] = clust_copy['MINIMUM_PAYMENTS'].clip(lower = -755.926115, upper = 1715.497271)\n",
    "clust_copy['PRC_FULL_PAYMENT'] = clust_copy['PRC_FULL_PAYMENT'].clip(lower = -0.214286, upper = 0.357143)"
   ]
  },
  {
   "cell_type": "code",
   "execution_count": 15,
   "id": "8941559c-8d8e-4791-a5d7-fe851a2d84b5",
   "metadata": {},
   "outputs": [
    {
     "data": {
      "image/png": "[encoded data removed]",
      "text/plain": [
       "<Figure size 640x480 with 1 Axes>"
      ]
     },
     "metadata": {},
     "output_type": "display_data"
    },
    {
     "data": {
      "image/png": "[encoded data removed]",
      "text/plain": [
       "<Figure size 640x480 with 1 Axes>"
      ]
     },
     "metadata": {},
     "output_type": "display_data"
    },
    {
     "data": {
      "image/png": "[encoded data removed]",
      "text/plain": [
       "<Figure size 640x480 with 1 Axes>"
      ]
     },
     "metadata": {},
     "output_type": "display_data"
    },
    {
     "data": {
      "image/png": "[encoded data removed]",
      "text/plain": [
       "<Figure size 640x480 with 1 Axes>"
      ]
     },
     "metadata": {},
     "output_type": "display_data"
    },
    {
     "data": {
      "image/png": "[encoded data removed]",
      "text/plain": [
       "<Figure size 640x480 with 1 Axes>"
      ]
     },
     "metadata": {},
     "output_type": "display_data"
    },
    {
     "data": {
      "image/png": "[encoded data removed]",
      "text/plain": [
       "<Figure size 640x480 with 1 Axes>"
      ]
     },
     "metadata": {},
     "output_type": "display_data"
    },
    {
     "data": {
      "image/png": "[encoded data removed]",
      "text/plain": [
       "<Figure size 640x480 with 1 Axes>"
      ]
     },
     "metadata": {},
     "output_type": "display_data"
    },
    {
     "data": {
      "image/png": "[encoded data removed]",
      "text/plain": [
       "<Figure size 640x480 with 1 Axes>"
      ]
     },
     "metadata": {},
     "output_type": "display_data"
    },
    {
     "data": {
      "image/png": "[encoded data removed]",
      "text/plain": [
       "<Figure size 640x480 with 1 Axes>"
      ]
     },
     "metadata": {},
     "output_type": "display_data"
    },
    {
     "data": {
      "image/png": "[encoded data removed]",
      "text/plain": [
       "<Figure size 640x480 with 1 Axes>"
      ]
     },
     "metadata": {},
     "output_type": "display_data"
    },
    {
     "data": {
      "image/png": "[encoded data removed]",
      "text/plain": [
       "<Figure size 640x480 with 1 Axes>"
      ]
     },
     "metadata": {},
     "output_type": "display_data"
    },
    {
     "data": {
      "image/png": "[encoded data removed]",
      "text/plain": [
       "<Figure size 640x480 with 1 Axes>"
      ]
     },
     "metadata": {},
     "output_type": "display_data"
    },
    {
     "data": {
      "image/png": "[encoded data removed]",
      "text/plain": [
       "<Figure size 640x480 with 1 Axes>"
      ]
     },
     "metadata": {},
     "output_type": "display_data"
    },
    {
     "data": {
      "image/png": "[encoded data removed]",
      "text/plain": [
       "<Figure size 640x480 with 1 Axes>"
      ]
     },
     "metadata": {},
     "output_type": "display_data"
    },
    {
     "data": {
      "image/png": "[encoded data removed]",
      "text/plain": [
       "<Figure size 640x480 with 1 Axes>"
      ]
     },
     "metadata": {},
     "output_type": "display_data"
    },
    {
     "data": {
      "image/png": "[encoded data removed]",
      "text/plain": [
       "<Figure size 640x480 with 1 Axes>"
      ]
     },
     "metadata": {},
     "output_type": "display_data"
    },
    {
     "data": {
      "image/png": "[encoded data removed]",
      "text/plain": [
       "<Figure size 640x480 with 1 Axes>"
      ]
     },
     "metadata": {},
     "output_type": "display_data"
    }
   ],
   "source": [
    "for i in clust_copy.columns:\n",
    "    sns.boxplot(clust_copy[i])\n",
    "    plt.show()"
   ]
  },
  {
   "cell_type": "code",
   "execution_count": null,
   "id": "6e1dcf9c-a20b-4c39-abdd-106f57afc969",
   "metadata": {},
   "outputs": [],
   "source": []
  },
  {
   "cell_type": "markdown",
   "id": "58165933-94e1-4379-b6fe-1152826d9687",
   "metadata": {},
   "source": [
    "# ***converting the data into standardization form***"
   ]
  },
  {
   "cell_type": "code",
   "execution_count": 16,
   "id": "d822c651-71ba-45cc-b588-3dd6c8ba8449",
   "metadata": {},
   "outputs": [],
   "source": [
    "# difference between StandardScaler() and MinMaxScaler()?\n",
    "# StandardScaler() is used for standardization of the data\n",
    "# z_scores = (x-x_mean)/x_stddev\n",
    "\n",
    "# MinMaxScaler() is used for normalization of the data ('when there is no mean and stddev')\n",
    "# normalized_scores = (x - x_min)/(x_max - x_min)"
   ]
  },
  {
   "cell_type": "code",
   "execution_count": 17,
   "id": "0a02befc-702b-469e-843f-c45ac5c58c02",
   "metadata": {},
   "outputs": [],
   "source": [
    "SS = StandardScaler()\n",
    "cust_scale = SS.fit_transform(clust_copy)"
   ]
  },
  {
   "cell_type": "code",
   "execution_count": 18,
   "id": "a34b670a-14ff-4842-9af6-d7932f413ee5",
   "metadata": {},
   "outputs": [
    {
     "data": {
      "text/html": [
       "<div>\n",
       "<style scoped>\n",
       "    .dataframe tbody tr th:only-of-type {\n",
       "        vertical-align: middle;\n",
       "    }\n",
       "\n",
       "    .dataframe tbody tr th {\n",
       "        vertical-align: top;\n",
       "    }\n",
       "\n",
       "    .dataframe thead th {\n",
       "        text-align: right;\n",
       "    }\n",
       "</style>\n",
       "<table border=\"1\" class=\"dataframe\">\n",
       "  <thead>\n",
       "    <tr style=\"text-align: right;\">\n",
       "      <th></th>\n",
       "      <th>0</th>\n",
       "      <th>1</th>\n",
       "      <th>2</th>\n",
       "      <th>3</th>\n",
       "      <th>4</th>\n",
       "      <th>5</th>\n",
       "      <th>6</th>\n",
       "      <th>7</th>\n",
       "      <th>8</th>\n",
       "      <th>9</th>\n",
       "      <th>10</th>\n",
       "      <th>11</th>\n",
       "      <th>12</th>\n",
       "      <th>13</th>\n",
       "      <th>14</th>\n",
       "      <th>15</th>\n",
       "      <th>16</th>\n",
       "    </tr>\n",
       "  </thead>\n",
       "  <tbody>\n",
       "    <tr>\n",
       "      <th>0</th>\n",
       "      <td>-0.877821</td>\n",
       "      <td>-1.021877</td>\n",
       "      <td>-0.729687</td>\n",
       "      <td>-0.692383</td>\n",
       "      <td>-0.505216</td>\n",
       "      <td>-0.673507</td>\n",
       "      <td>-0.806490</td>\n",
       "      <td>-0.722749</td>\n",
       "      <td>-0.707313</td>\n",
       "      <td>-0.730084</td>\n",
       "      <td>-0.697293</td>\n",
       "      <td>-0.737970</td>\n",
       "      <td>-1.010503</td>\n",
       "      <td>-0.899859</td>\n",
       "      <td>-0.784078</td>\n",
       "      <td>-0.629277</td>\n",
       "      <td>0.36068</td>\n",
       "    </tr>\n",
       "    <tr>\n",
       "      <th>1</th>\n",
       "      <td>1.178546</td>\n",
       "      <td>-0.202709</td>\n",
       "      <td>-0.838160</td>\n",
       "      <td>-0.692383</td>\n",
       "      <td>-0.746029</td>\n",
       "      <td>2.115343</td>\n",
       "      <td>-1.221758</td>\n",
       "      <td>-0.722749</td>\n",
       "      <td>-0.916995</td>\n",
       "      <td>0.717792</td>\n",
       "      <td>0.473089</td>\n",
       "      <td>-0.891333</td>\n",
       "      <td>0.762757</td>\n",
       "      <td>2.165375</td>\n",
       "      <td>0.968887</td>\n",
       "      <td>0.973960</td>\n",
       "      <td>0.36068</td>\n",
       "    </tr>\n",
       "    <tr>\n",
       "      <th>2</th>\n",
       "      <td>0.718487</td>\n",
       "      <td>0.616460</td>\n",
       "      <td>0.040957</td>\n",
       "      <td>0.818320</td>\n",
       "      <td>-0.746029</td>\n",
       "      <td>-0.673507</td>\n",
       "      <td>1.269843</td>\n",
       "      <td>2.210909</td>\n",
       "      <td>-0.916995</td>\n",
       "      <td>-0.730084</td>\n",
       "      <td>-0.697293</td>\n",
       "      <td>0.028848</td>\n",
       "      <td>0.910528</td>\n",
       "      <td>-0.569653</td>\n",
       "      <td>0.132544</td>\n",
       "      <td>-0.629277</td>\n",
       "      <td>0.36068</td>\n",
       "    </tr>\n",
       "    <tr>\n",
       "      <th>3</th>\n",
       "      <td>0.179623</td>\n",
       "      <td>-1.886551</td>\n",
       "      <td>0.866246</td>\n",
       "      <td>2.128108</td>\n",
       "      <td>-0.746029</td>\n",
       "      <td>-0.467401</td>\n",
       "      <td>-1.014125</td>\n",
       "      <td>-0.396788</td>\n",
       "      <td>-0.916995</td>\n",
       "      <td>-0.247460</td>\n",
       "      <td>-0.404697</td>\n",
       "      <td>-0.814651</td>\n",
       "      <td>0.910528</td>\n",
       "      <td>-1.058417</td>\n",
       "      <td>-0.459290</td>\n",
       "      <td>-0.629277</td>\n",
       "      <td>0.36068</td>\n",
       "    </tr>\n",
       "    <tr>\n",
       "      <th>4</th>\n",
       "      <td>-0.372561</td>\n",
       "      <td>0.616460</td>\n",
       "      <td>-0.819967</td>\n",
       "      <td>-0.661121</td>\n",
       "      <td>-0.746029</td>\n",
       "      <td>-0.673507</td>\n",
       "      <td>-1.014125</td>\n",
       "      <td>-0.396788</td>\n",
       "      <td>-0.916995</td>\n",
       "      <td>-0.730084</td>\n",
       "      <td>-0.697293</td>\n",
       "      <td>-0.814651</td>\n",
       "      <td>-0.951394</td>\n",
       "      <td>-0.525443</td>\n",
       "      <td>-0.586234</td>\n",
       "      <td>-0.629277</td>\n",
       "      <td>0.36068</td>\n",
       "    </tr>\n",
       "  </tbody>\n",
       "</table>\n",
       "</div>"
      ],
      "text/plain": [
       "         0         1         2         3         4         5         6   \\\n",
       "0 -0.877821 -1.021877 -0.729687 -0.692383 -0.505216 -0.673507 -0.806490   \n",
       "1  1.178546 -0.202709 -0.838160 -0.692383 -0.746029  2.115343 -1.221758   \n",
       "2  0.718487  0.616460  0.040957  0.818320 -0.746029 -0.673507  1.269843   \n",
       "3  0.179623 -1.886551  0.866246  2.128108 -0.746029 -0.467401 -1.014125   \n",
       "4 -0.372561  0.616460 -0.819967 -0.661121 -0.746029 -0.673507 -1.014125   \n",
       "\n",
       "         7         8         9         10        11        12        13  \\\n",
       "0 -0.722749 -0.707313 -0.730084 -0.697293 -0.737970 -1.010503 -0.899859   \n",
       "1 -0.722749 -0.916995  0.717792  0.473089 -0.891333  0.762757  2.165375   \n",
       "2  2.210909 -0.916995 -0.730084 -0.697293  0.028848  0.910528 -0.569653   \n",
       "3 -0.396788 -0.916995 -0.247460 -0.404697 -0.814651  0.910528 -1.058417   \n",
       "4 -0.396788 -0.916995 -0.730084 -0.697293 -0.814651 -0.951394 -0.525443   \n",
       "\n",
       "         14        15       16  \n",
       "0 -0.784078 -0.629277  0.36068  \n",
       "1  0.968887  0.973960  0.36068  \n",
       "2  0.132544 -0.629277  0.36068  \n",
       "3 -0.459290 -0.629277  0.36068  \n",
       "4 -0.586234 -0.629277  0.36068  "
      ]
     },
     "execution_count": 18,
     "metadata": {},
     "output_type": "execute_result"
    }
   ],
   "source": [
    "pd.DataFrame(cust_scale).head()"
   ]
  },
  {
   "cell_type": "code",
   "execution_count": null,
   "id": "2761d13e-c08c-4e4a-b68d-43de3d4da7c3",
   "metadata": {},
   "outputs": [],
   "source": []
  },
  {
   "cell_type": "markdown",
   "id": "79e5e87d-9bb2-4fdc-95bd-16ac4cb41228",
   "metadata": {},
   "source": [
    "# ***Dimensionality Reduction . applying PCA***"
   ]
  },
  {
   "cell_type": "code",
   "execution_count": 19,
   "id": "3152438f-39dd-4ba0-81e1-7f65d724a13b",
   "metadata": {},
   "outputs": [
    {
     "data": {
      "text/plain": [
       "(8950, 17)"
      ]
     },
     "execution_count": 19,
     "metadata": {},
     "output_type": "execute_result"
    }
   ],
   "source": [
    "cust_scale.shape"
   ]
  },
  {
   "cell_type": "code",
   "execution_count": 20,
   "id": "3b023fd1-d143-4e23-8813-7fbd1d7ceb3b",
   "metadata": {},
   "outputs": [],
   "source": [
    "pc = PCA (n_components = 17).fit(cust_scale)"
   ]
  },
  {
   "cell_type": "code",
   "execution_count": 21,
   "id": "2f657f54-0440-4501-aec4-3329d636c402",
   "metadata": {},
   "outputs": [
    {
     "data": {
      "text/plain": [
       "array([5.36457356, 4.06769018, 1.54530496, 1.35732426, 1.07839869,\n",
       "       0.86722646, 0.63797409, 0.53633488, 0.4264228 , 0.32255939,\n",
       "       0.21857531, 0.18508268, 0.13224091, 0.11709787, 0.06312968,\n",
       "       0.05359279, 0.02837115])"
      ]
     },
     "execution_count": 21,
     "metadata": {},
     "output_type": "execute_result"
    }
   ],
   "source": [
    "pc.explained_variance_   "
   ]
  },
  {
   "cell_type": "code",
   "execution_count": 22,
   "id": "75657e64-1dee-4a63-b6a0-d0d021fe9b6e",
   "metadata": {},
   "outputs": [
    {
     "data": {
      "text/plain": [
       "17.001899653592577"
      ]
     },
     "execution_count": 22,
     "metadata": {},
     "output_type": "execute_result"
    }
   ],
   "source": [
    "sum(pc.explained_variance_)"
   ]
  },
  {
   "cell_type": "code",
   "execution_count": 23,
   "id": "39fe9e86-8b05-4e45-b94d-a712d3920148",
   "metadata": {},
   "outputs": [
    {
     "data": {
      "text/plain": [
       "array([0.31552789, 0.23924916, 0.09089014, 0.07983368, 0.06342813,\n",
       "       0.05100762, 0.03752369, 0.03154559, 0.02508089, 0.01897196,\n",
       "       0.01285593, 0.010886  , 0.00777801, 0.00688734, 0.0037131 ,\n",
       "       0.00315216, 0.0016687 ])"
      ]
     },
     "execution_count": 23,
     "metadata": {},
     "output_type": "execute_result"
    }
   ],
   "source": [
    "pc.explained_variance_ / sum(pc.explained_variance_)"
   ]
  },
  {
   "cell_type": "code",
   "execution_count": 24,
   "id": "8030896d-eea4-40a2-a2db-f2f161bece34",
   "metadata": {},
   "outputs": [
    {
     "data": {
      "text/plain": [
       "array([0.31552789, 0.23924916, 0.09089014, 0.07983368, 0.06342813,\n",
       "       0.05100762, 0.03752369, 0.03154559, 0.02508089, 0.01897196,\n",
       "       0.01285593, 0.010886  , 0.00777801, 0.00688734, 0.0037131 ,\n",
       "       0.00315216, 0.0016687 ])"
      ]
     },
     "execution_count": 24,
     "metadata": {},
     "output_type": "execute_result"
    }
   ],
   "source": [
    "# amount of variance that each PC explains \n",
    "pc.explained_variance_ratio_"
   ]
  },
  {
   "cell_type": "code",
   "execution_count": 25,
   "id": "6bbd99bc-1424-4dc9-a09f-edd6c357170a",
   "metadata": {},
   "outputs": [
    {
     "data": {
      "text/plain": [
       "array([ 31.55,  55.48,  64.57,  72.55,  78.89,  83.99,  87.75,  90.9 ,\n",
       "        93.41,  95.31,  96.59,  97.68,  98.46,  99.15,  99.52,  99.83,\n",
       "       100.  ])"
      ]
     },
     "execution_count": 25,
     "metadata": {},
     "output_type": "execute_result"
    }
   ],
   "source": [
    "# cummulative variance explained \n",
    "var = np.round(np.cumsum(pc.explained_variance_ratio_) * 100, 2)\n",
    "var"
   ]
  },
  {
   "cell_type": "code",
   "execution_count": 26,
   "id": "3a9e6b63-1cfb-4418-9a5d-5914ab64f8b1",
   "metadata": {},
   "outputs": [
    {
     "data": {
      "text/html": [
       "<div>\n",
       "<style scoped>\n",
       "    .dataframe tbody tr th:only-of-type {\n",
       "        vertical-align: middle;\n",
       "    }\n",
       "\n",
       "    .dataframe tbody tr th {\n",
       "        vertical-align: top;\n",
       "    }\n",
       "\n",
       "    .dataframe thead th {\n",
       "        text-align: right;\n",
       "    }\n",
       "</style>\n",
       "<table border=\"1\" class=\"dataframe\">\n",
       "  <thead>\n",
       "    <tr style=\"text-align: right;\">\n",
       "      <th></th>\n",
       "      <th>Eigen_Values</th>\n",
       "      <th>VAR</th>\n",
       "      <th>Cumm_VAR</th>\n",
       "    </tr>\n",
       "  </thead>\n",
       "  <tbody>\n",
       "    <tr>\n",
       "      <th>1</th>\n",
       "      <td>5.364574</td>\n",
       "      <td>31.55</td>\n",
       "      <td>31.55</td>\n",
       "    </tr>\n",
       "    <tr>\n",
       "      <th>2</th>\n",
       "      <td>4.067690</td>\n",
       "      <td>23.92</td>\n",
       "      <td>55.48</td>\n",
       "    </tr>\n",
       "    <tr>\n",
       "      <th>3</th>\n",
       "      <td>1.545305</td>\n",
       "      <td>9.09</td>\n",
       "      <td>64.57</td>\n",
       "    </tr>\n",
       "    <tr>\n",
       "      <th>4</th>\n",
       "      <td>1.357324</td>\n",
       "      <td>7.98</td>\n",
       "      <td>72.55</td>\n",
       "    </tr>\n",
       "    <tr>\n",
       "      <th>5</th>\n",
       "      <td>1.078399</td>\n",
       "      <td>6.34</td>\n",
       "      <td>78.89</td>\n",
       "    </tr>\n",
       "    <tr>\n",
       "      <th>6</th>\n",
       "      <td>0.867226</td>\n",
       "      <td>5.10</td>\n",
       "      <td>83.99</td>\n",
       "    </tr>\n",
       "    <tr>\n",
       "      <th>7</th>\n",
       "      <td>0.637974</td>\n",
       "      <td>3.75</td>\n",
       "      <td>87.75</td>\n",
       "    </tr>\n",
       "    <tr>\n",
       "      <th>8</th>\n",
       "      <td>0.536335</td>\n",
       "      <td>3.15</td>\n",
       "      <td>90.90</td>\n",
       "    </tr>\n",
       "    <tr>\n",
       "      <th>9</th>\n",
       "      <td>0.426423</td>\n",
       "      <td>2.51</td>\n",
       "      <td>93.41</td>\n",
       "    </tr>\n",
       "    <tr>\n",
       "      <th>10</th>\n",
       "      <td>0.322559</td>\n",
       "      <td>1.90</td>\n",
       "      <td>95.31</td>\n",
       "    </tr>\n",
       "    <tr>\n",
       "      <th>11</th>\n",
       "      <td>0.218575</td>\n",
       "      <td>1.29</td>\n",
       "      <td>96.59</td>\n",
       "    </tr>\n",
       "    <tr>\n",
       "      <th>12</th>\n",
       "      <td>0.185083</td>\n",
       "      <td>1.09</td>\n",
       "      <td>97.68</td>\n",
       "    </tr>\n",
       "    <tr>\n",
       "      <th>13</th>\n",
       "      <td>0.132241</td>\n",
       "      <td>0.78</td>\n",
       "      <td>98.46</td>\n",
       "    </tr>\n",
       "    <tr>\n",
       "      <th>14</th>\n",
       "      <td>0.117098</td>\n",
       "      <td>0.69</td>\n",
       "      <td>99.15</td>\n",
       "    </tr>\n",
       "    <tr>\n",
       "      <th>15</th>\n",
       "      <td>0.063130</td>\n",
       "      <td>0.37</td>\n",
       "      <td>99.52</td>\n",
       "    </tr>\n",
       "    <tr>\n",
       "      <th>16</th>\n",
       "      <td>0.053593</td>\n",
       "      <td>0.32</td>\n",
       "      <td>99.83</td>\n",
       "    </tr>\n",
       "    <tr>\n",
       "      <th>17</th>\n",
       "      <td>0.028371</td>\n",
       "      <td>0.17</td>\n",
       "      <td>100.00</td>\n",
       "    </tr>\n",
       "  </tbody>\n",
       "</table>\n",
       "</div>"
      ],
      "text/plain": [
       "    Eigen_Values    VAR  Cumm_VAR\n",
       "1       5.364574  31.55     31.55\n",
       "2       4.067690  23.92     55.48\n",
       "3       1.545305   9.09     64.57\n",
       "4       1.357324   7.98     72.55\n",
       "5       1.078399   6.34     78.89\n",
       "6       0.867226   5.10     83.99\n",
       "7       0.637974   3.75     87.75\n",
       "8       0.536335   3.15     90.90\n",
       "9       0.426423   2.51     93.41\n",
       "10      0.322559   1.90     95.31\n",
       "11      0.218575   1.29     96.59\n",
       "12      0.185083   1.09     97.68\n",
       "13      0.132241   0.78     98.46\n",
       "14      0.117098   0.69     99.15\n",
       "15      0.063130   0.37     99.52\n",
       "16      0.053593   0.32     99.83\n",
       "17      0.028371   0.17    100.00"
      ]
     },
     "execution_count": 26,
     "metadata": {},
     "output_type": "execute_result"
    }
   ],
   "source": [
    "pd.DataFrame({'Eigen_Values': pc.explained_variance_, \n",
    "                  'VAR': np.round(pc.explained_variance_ratio_*100, 2), \n",
    "                      'Cumm_VAR': var}, index = range(1, 18))"
   ]
  },
  {
   "cell_type": "code",
   "execution_count": 27,
   "id": "327f5e7b-ab36-46d0-aba4-17c6c3fdf15f",
   "metadata": {},
   "outputs": [],
   "source": [
    "# **The number of Principal components have choosen as 6 based on cumulative variance is explaining > 75 % \n",
    "# and individual component having Eigen value > 0.8.**"
   ]
  },
  {
   "cell_type": "code",
   "execution_count": 28,
   "id": "474e0ddf-8bdb-4797-a4cb-fd2faf696ec5",
   "metadata": {},
   "outputs": [],
   "source": [
    "pc_final = PCA( n_components = 6 ).fit(cust_scale)"
   ]
  },
  {
   "cell_type": "code",
   "execution_count": 29,
   "id": "b4257f25-38c9-4238-8e8e-4f2b1d6a0408",
   "metadata": {},
   "outputs": [
    {
     "data": {
      "text/html": [
       "<style>#sk-container-id-1 {color: black;background-color: white;}#sk-container-id-1 pre{padding: 0;}#sk-container-id-1 div.sk-toggleable {background-color: white;}#sk-container-id-1 label.sk-toggleable__label {cursor: pointer;display: block;width: 100%;margin-bottom: 0;padding: 0.3em;box-sizing: border-box;text-align: center;}#sk-container-id-1 label.sk-toggleable__label-arrow:before {content: \"▸\";float: left;margin-right: 0.25em;color: #696969;}#sk-container-id-1 label.sk-toggleable__label-arrow:hover:before {color: black;}#sk-container-id-1 div.sk-estimator:hover label.sk-toggleable__label-arrow:before {color: black;}#sk-container-id-1 div.sk-toggleable__content {max-height: 0;max-width: 0;overflow: hidden;text-align: left;background-color: #f0f8ff;}#sk-container-id-1 div.sk-toggleable__content pre {margin: 0.2em;color: black;border-radius: 0.25em;background-color: #f0f8ff;}#sk-container-id-1 input.sk-toggleable__control:checked~div.sk-toggleable__content {max-height: 200px;max-width: 100%;overflow: auto;}#sk-container-id-1 input.sk-toggleable__control:checked~label.sk-toggleable__label-arrow:before {content: \"▾\";}#sk-container-id-1 div.sk-estimator input.sk-toggleable__control:checked~label.sk-toggleable__label {background-color: #d4ebff;}#sk-container-id-1 div.sk-label input.sk-toggleable__control:checked~label.sk-toggleable__label {background-color: #d4ebff;}#sk-container-id-1 input.sk-hidden--visually {border: 0;clip: rect(1px 1px 1px 1px);clip: rect(1px, 1px, 1px, 1px);height: 1px;margin: -1px;overflow: hidden;padding: 0;position: absolute;width: 1px;}#sk-container-id-1 div.sk-estimator {font-family: monospace;background-color: #f0f8ff;border: 1px dotted black;border-radius: 0.25em;box-sizing: border-box;margin-bottom: 0.5em;}#sk-container-id-1 div.sk-estimator:hover {background-color: #d4ebff;}#sk-container-id-1 div.sk-parallel-item::after {content: \"\";width: 100%;border-bottom: 1px solid gray;flex-grow: 1;}#sk-container-id-1 div.sk-label:hover label.sk-toggleable__label {background-color: #d4ebff;}#sk-container-id-1 div.sk-serial::before {content: \"\";position: absolute;border-left: 1px solid gray;box-sizing: border-box;top: 0;bottom: 0;left: 50%;z-index: 0;}#sk-container-id-1 div.sk-serial {display: flex;flex-direction: column;align-items: center;background-color: white;padding-right: 0.2em;padding-left: 0.2em;position: relative;}#sk-container-id-1 div.sk-item {position: relative;z-index: 1;}#sk-container-id-1 div.sk-parallel {display: flex;align-items: stretch;justify-content: center;background-color: white;position: relative;}#sk-container-id-1 div.sk-item::before, #sk-container-id-1 div.sk-parallel-item::before {content: \"\";position: absolute;border-left: 1px solid gray;box-sizing: border-box;top: 0;bottom: 0;left: 50%;z-index: -1;}#sk-container-id-1 div.sk-parallel-item {display: flex;flex-direction: column;z-index: 1;position: relative;background-color: white;}#sk-container-id-1 div.sk-parallel-item:first-child::after {align-self: flex-end;width: 50%;}#sk-container-id-1 div.sk-parallel-item:last-child::after {align-self: flex-start;width: 50%;}#sk-container-id-1 div.sk-parallel-item:only-child::after {width: 0;}#sk-container-id-1 div.sk-dashed-wrapped {border: 1px dashed gray;margin: 0 0.4em 0.5em 0.4em;box-sizing: border-box;padding-bottom: 0.4em;background-color: white;}#sk-container-id-1 div.sk-label label {font-family: monospace;font-weight: bold;display: inline-block;line-height: 1.2em;}#sk-container-id-1 div.sk-label-container {text-align: center;}#sk-container-id-1 div.sk-container {/* jupyter's `normalize.less` sets `[hidden] { display: none; }` but bootstrap.min.css set `[hidden] { display: none !important; }` so we also need the `!important` here to be able to override the default hidden behavior on the sphinx rendered scikit-learn.org. See: https://github.com/scikit-learn/scikit-learn/issues/21755 */display: inline-block !important;position: relative;}#sk-container-id-1 div.sk-text-repr-fallback {display: none;}</style><div id=\"sk-container-id-1\" class=\"sk-top-container\"><div class=\"sk-text-repr-fallback\"><pre>PCA(n_components=6)</pre><b>In a Jupyter environment, please rerun this cell to show the HTML representation or trust the notebook. <br />On GitHub, the HTML representation is unable to render, please try loading this page with nbviewer.org.</b></div><div class=\"sk-container\" hidden><div class=\"sk-item\"><div class=\"sk-estimator sk-toggleable\"><input class=\"sk-toggleable__control sk-hidden--visually\" id=\"sk-estimator-id-1\" type=\"checkbox\" checked><label for=\"sk-estimator-id-1\" class=\"sk-toggleable__label sk-toggleable__label-arrow\">PCA</label><div class=\"sk-toggleable__content\"><pre>PCA(n_components=6)</pre></div></div></div></div></div>"
      ],
      "text/plain": [
       "PCA(n_components=6)"
      ]
     },
     "execution_count": 29,
     "metadata": {},
     "output_type": "execute_result"
    }
   ],
   "source": [
    "pc_final"
   ]
  },
  {
   "cell_type": "code",
   "execution_count": 30,
   "id": "f7f3314c-9705-466c-8ac7-79f71b3c8228",
   "metadata": {},
   "outputs": [
    {
     "data": {
      "text/plain": [
       "array([5.36457356, 4.06769018, 1.54530496, 1.35732426, 1.07839869,\n",
       "       0.86722646])"
      ]
     },
     "execution_count": 30,
     "metadata": {},
     "output_type": "execute_result"
    }
   ],
   "source": [
    "pc_final.explained_variance_"
   ]
  },
  {
   "cell_type": "code",
   "execution_count": 31,
   "id": "d065c20d-bc21-4706-86ee-9455455d3620",
   "metadata": {},
   "outputs": [
    {
     "data": {
      "text/plain": [
       "(8950, 17)"
      ]
     },
     "execution_count": 31,
     "metadata": {},
     "output_type": "execute_result"
    }
   ],
   "source": [
    "cust_scale.shape"
   ]
  },
  {
   "cell_type": "code",
   "execution_count": 32,
   "id": "11e65f34-364f-4c27-9992-5614c1a79dbc",
   "metadata": {},
   "outputs": [],
   "source": [
    "reduced_cr = pc_final.transform(cust_scale)  # the out put is Components (P1, P2, ...)"
   ]
  },
  {
   "cell_type": "code",
   "execution_count": 33,
   "id": "50813375-979e-4682-b533-ab4e390572a6",
   "metadata": {},
   "outputs": [],
   "source": [
    "dimensions = pd.DataFrame(reduced_cr)"
   ]
  },
  {
   "cell_type": "code",
   "execution_count": 34,
   "id": "235f1119-98cd-44de-9192-5257cd49d14f",
   "metadata": {},
   "outputs": [
    {
     "data": {
      "text/plain": [
       "(8950, 6)"
      ]
     },
     "execution_count": 34,
     "metadata": {},
     "output_type": "execute_result"
    }
   ],
   "source": [
    "dimensions.shape"
   ]
  },
  {
   "cell_type": "code",
   "execution_count": 35,
   "id": "09aa153b-dcaf-41fd-9880-3fbc79a555e9",
   "metadata": {},
   "outputs": [],
   "source": [
    "dimensions.columns = [ \"P1\", \"P2\", \"P3\", \"P4\", \"P5\", \"P6\" ]  #these are not clusters, these are just variables 17 now 6."
   ]
  },
  {
   "cell_type": "code",
   "execution_count": 36,
   "id": "d058f77b-3bd3-4971-a767-512ab2f9d52d",
   "metadata": {},
   "outputs": [
    {
     "data": {
      "text/html": [
       "<div>\n",
       "<style scoped>\n",
       "    .dataframe tbody tr th:only-of-type {\n",
       "        vertical-align: middle;\n",
       "    }\n",
       "\n",
       "    .dataframe tbody tr th {\n",
       "        vertical-align: top;\n",
       "    }\n",
       "\n",
       "    .dataframe thead th {\n",
       "        text-align: right;\n",
       "    }\n",
       "</style>\n",
       "<table border=\"1\" class=\"dataframe\">\n",
       "  <thead>\n",
       "    <tr style=\"text-align: right;\">\n",
       "      <th></th>\n",
       "      <th>0</th>\n",
       "      <th>1</th>\n",
       "      <th>2</th>\n",
       "      <th>3</th>\n",
       "      <th>4</th>\n",
       "      <th>5</th>\n",
       "      <th>6</th>\n",
       "      <th>7</th>\n",
       "      <th>8</th>\n",
       "      <th>9</th>\n",
       "      <th>10</th>\n",
       "      <th>11</th>\n",
       "      <th>12</th>\n",
       "      <th>13</th>\n",
       "      <th>14</th>\n",
       "      <th>15</th>\n",
       "      <th>16</th>\n",
       "    </tr>\n",
       "  </thead>\n",
       "  <tbody>\n",
       "    <tr>\n",
       "      <th>0</th>\n",
       "      <td>-0.877821</td>\n",
       "      <td>-1.021877</td>\n",
       "      <td>-0.729687</td>\n",
       "      <td>-0.692383</td>\n",
       "      <td>-0.505216</td>\n",
       "      <td>-0.673507</td>\n",
       "      <td>-0.806490</td>\n",
       "      <td>-0.722749</td>\n",
       "      <td>-0.707313</td>\n",
       "      <td>-0.730084</td>\n",
       "      <td>-0.697293</td>\n",
       "      <td>-0.737970</td>\n",
       "      <td>-1.010503</td>\n",
       "      <td>-0.899859</td>\n",
       "      <td>-0.784078</td>\n",
       "      <td>-0.629277</td>\n",
       "      <td>0.36068</td>\n",
       "    </tr>\n",
       "    <tr>\n",
       "      <th>1</th>\n",
       "      <td>1.178546</td>\n",
       "      <td>-0.202709</td>\n",
       "      <td>-0.838160</td>\n",
       "      <td>-0.692383</td>\n",
       "      <td>-0.746029</td>\n",
       "      <td>2.115343</td>\n",
       "      <td>-1.221758</td>\n",
       "      <td>-0.722749</td>\n",
       "      <td>-0.916995</td>\n",
       "      <td>0.717792</td>\n",
       "      <td>0.473089</td>\n",
       "      <td>-0.891333</td>\n",
       "      <td>0.762757</td>\n",
       "      <td>2.165375</td>\n",
       "      <td>0.968887</td>\n",
       "      <td>0.973960</td>\n",
       "      <td>0.36068</td>\n",
       "    </tr>\n",
       "    <tr>\n",
       "      <th>2</th>\n",
       "      <td>0.718487</td>\n",
       "      <td>0.616460</td>\n",
       "      <td>0.040957</td>\n",
       "      <td>0.818320</td>\n",
       "      <td>-0.746029</td>\n",
       "      <td>-0.673507</td>\n",
       "      <td>1.269843</td>\n",
       "      <td>2.210909</td>\n",
       "      <td>-0.916995</td>\n",
       "      <td>-0.730084</td>\n",
       "      <td>-0.697293</td>\n",
       "      <td>0.028848</td>\n",
       "      <td>0.910528</td>\n",
       "      <td>-0.569653</td>\n",
       "      <td>0.132544</td>\n",
       "      <td>-0.629277</td>\n",
       "      <td>0.36068</td>\n",
       "    </tr>\n",
       "    <tr>\n",
       "      <th>3</th>\n",
       "      <td>0.179623</td>\n",
       "      <td>-1.886551</td>\n",
       "      <td>0.866246</td>\n",
       "      <td>2.128108</td>\n",
       "      <td>-0.746029</td>\n",
       "      <td>-0.467401</td>\n",
       "      <td>-1.014125</td>\n",
       "      <td>-0.396788</td>\n",
       "      <td>-0.916995</td>\n",
       "      <td>-0.247460</td>\n",
       "      <td>-0.404697</td>\n",
       "      <td>-0.814651</td>\n",
       "      <td>0.910528</td>\n",
       "      <td>-1.058417</td>\n",
       "      <td>-0.459290</td>\n",
       "      <td>-0.629277</td>\n",
       "      <td>0.36068</td>\n",
       "    </tr>\n",
       "    <tr>\n",
       "      <th>4</th>\n",
       "      <td>-0.372561</td>\n",
       "      <td>0.616460</td>\n",
       "      <td>-0.819967</td>\n",
       "      <td>-0.661121</td>\n",
       "      <td>-0.746029</td>\n",
       "      <td>-0.673507</td>\n",
       "      <td>-1.014125</td>\n",
       "      <td>-0.396788</td>\n",
       "      <td>-0.916995</td>\n",
       "      <td>-0.730084</td>\n",
       "      <td>-0.697293</td>\n",
       "      <td>-0.814651</td>\n",
       "      <td>-0.951394</td>\n",
       "      <td>-0.525443</td>\n",
       "      <td>-0.586234</td>\n",
       "      <td>-0.629277</td>\n",
       "      <td>0.36068</td>\n",
       "    </tr>\n",
       "  </tbody>\n",
       "</table>\n",
       "</div>"
      ],
      "text/plain": [
       "         0         1         2         3         4         5         6   \\\n",
       "0 -0.877821 -1.021877 -0.729687 -0.692383 -0.505216 -0.673507 -0.806490   \n",
       "1  1.178546 -0.202709 -0.838160 -0.692383 -0.746029  2.115343 -1.221758   \n",
       "2  0.718487  0.616460  0.040957  0.818320 -0.746029 -0.673507  1.269843   \n",
       "3  0.179623 -1.886551  0.866246  2.128108 -0.746029 -0.467401 -1.014125   \n",
       "4 -0.372561  0.616460 -0.819967 -0.661121 -0.746029 -0.673507 -1.014125   \n",
       "\n",
       "         7         8         9         10        11        12        13  \\\n",
       "0 -0.722749 -0.707313 -0.730084 -0.697293 -0.737970 -1.010503 -0.899859   \n",
       "1 -0.722749 -0.916995  0.717792  0.473089 -0.891333  0.762757  2.165375   \n",
       "2  2.210909 -0.916995 -0.730084 -0.697293  0.028848  0.910528 -0.569653   \n",
       "3 -0.396788 -0.916995 -0.247460 -0.404697 -0.814651  0.910528 -1.058417   \n",
       "4 -0.396788 -0.916995 -0.730084 -0.697293 -0.814651 -0.951394 -0.525443   \n",
       "\n",
       "         14        15       16  \n",
       "0 -0.784078 -0.629277  0.36068  \n",
       "1  0.968887  0.973960  0.36068  \n",
       "2  0.132544 -0.629277  0.36068  \n",
       "3 -0.459290 -0.629277  0.36068  \n",
       "4 -0.586234 -0.629277  0.36068  "
      ]
     },
     "execution_count": 36,
     "metadata": {},
     "output_type": "execute_result"
    }
   ],
   "source": [
    "pd.DataFrame(cust_scale).head()"
   ]
  },
  {
   "cell_type": "code",
   "execution_count": 37,
   "id": "48d8f8db-6579-48d5-b5dd-4874bc200d32",
   "metadata": {},
   "outputs": [
    {
     "data": {
      "text/html": [
       "<div>\n",
       "<style scoped>\n",
       "    .dataframe tbody tr th:only-of-type {\n",
       "        vertical-align: middle;\n",
       "    }\n",
       "\n",
       "    .dataframe tbody tr th {\n",
       "        vertical-align: top;\n",
       "    }\n",
       "\n",
       "    .dataframe thead th {\n",
       "        text-align: right;\n",
       "    }\n",
       "</style>\n",
       "<table border=\"1\" class=\"dataframe\">\n",
       "  <thead>\n",
       "    <tr style=\"text-align: right;\">\n",
       "      <th></th>\n",
       "      <th>P1</th>\n",
       "      <th>P2</th>\n",
       "      <th>P3</th>\n",
       "      <th>P4</th>\n",
       "      <th>P5</th>\n",
       "      <th>P6</th>\n",
       "    </tr>\n",
       "  </thead>\n",
       "  <tbody>\n",
       "    <tr>\n",
       "      <th>0</th>\n",
       "      <td>-1.637876</td>\n",
       "      <td>-2.369803</td>\n",
       "      <td>0.237368</td>\n",
       "      <td>-0.673316</td>\n",
       "      <td>-0.172906</td>\n",
       "      <td>0.008891</td>\n",
       "    </tr>\n",
       "    <tr>\n",
       "      <th>1</th>\n",
       "      <td>-2.149811</td>\n",
       "      <td>2.351193</td>\n",
       "      <td>0.542645</td>\n",
       "      <td>0.992185</td>\n",
       "      <td>-2.203215</td>\n",
       "      <td>0.104840</td>\n",
       "    </tr>\n",
       "    <tr>\n",
       "      <th>2</th>\n",
       "      <td>1.198834</td>\n",
       "      <td>0.301369</td>\n",
       "      <td>1.508361</td>\n",
       "      <td>-1.982372</td>\n",
       "      <td>0.786107</td>\n",
       "      <td>0.173647</td>\n",
       "    </tr>\n",
       "    <tr>\n",
       "      <th>3</th>\n",
       "      <td>-0.469129</td>\n",
       "      <td>-0.537878</td>\n",
       "      <td>2.456555</td>\n",
       "      <td>-0.730582</td>\n",
       "      <td>-0.292396</td>\n",
       "      <td>1.114697</td>\n",
       "    </tr>\n",
       "    <tr>\n",
       "      <th>4</th>\n",
       "      <td>-1.642396</td>\n",
       "      <td>-1.574645</td>\n",
       "      <td>0.177495</td>\n",
       "      <td>-1.443635</td>\n",
       "      <td>0.112804</td>\n",
       "      <td>-0.555603</td>\n",
       "    </tr>\n",
       "  </tbody>\n",
       "</table>\n",
       "</div>"
      ],
      "text/plain": [
       "         P1        P2        P3        P4        P5        P6\n",
       "0 -1.637876 -2.369803  0.237368 -0.673316 -0.172906  0.008891\n",
       "1 -2.149811  2.351193  0.542645  0.992185 -2.203215  0.104840\n",
       "2  1.198834  0.301369  1.508361 -1.982372  0.786107  0.173647\n",
       "3 -0.469129 -0.537878  2.456555 -0.730582 -0.292396  1.114697\n",
       "4 -1.642396 -1.574645  0.177495 -1.443635  0.112804 -0.555603"
      ]
     },
     "execution_count": 37,
     "metadata": {},
     "output_type": "execute_result"
    }
   ],
   "source": [
    "dimensions.head()"
   ]
  },
  {
   "cell_type": "code",
   "execution_count": 38,
   "id": "84021678-34fa-4a89-8f7f-607fa0fb884c",
   "metadata": {},
   "outputs": [],
   "source": [
    "# pc_final.components_\n",
    "# print pd.DataFrame(pc_final.components_,columns=telco_num.columns).T\n",
    "Loadings =  pd.DataFrame((pc_final.components_.T * np.sqrt(pc_final.explained_variance_)).T,\n",
    "                         columns = clust_copy.columns).T"
   ]
  },
  {
   "cell_type": "code",
   "execution_count": 39,
   "id": "8c765cc8-aa16-4769-8f22-6ae8b0a7e689",
   "metadata": {},
   "outputs": [],
   "source": [
    "Loadings.to_excel(\"Loadings.xlsx\")"
   ]
  },
  {
   "cell_type": "code",
   "execution_count": 40,
   "id": "c54e1e57-fde0-4af7-ae49-86cf7a79456d",
   "metadata": {},
   "outputs": [
    {
     "data": {
      "text/plain": [
       "(8950, 6)"
      ]
     },
     "execution_count": 40,
     "metadata": {},
     "output_type": "execute_result"
    }
   ],
   "source": [
    "dimensions.shape"
   ]
  },
  {
   "cell_type": "code",
   "execution_count": 41,
   "id": "82d7a545-0a25-4ecc-ba96-b639fa5cd862",
   "metadata": {},
   "outputs": [
    {
     "name": "stderr",
     "output_type": "stream",
     "text": [
      "C:\\Users\\VJahn\\anaconda3\\Lib\\site-packages\\sklearn\\cluster\\_kmeans.py:870: FutureWarning: The default value of `n_init` will change from 10 to 'auto' in 1.4. Set the value of `n_init` explicitly to suppress the warning\n",
      "  warnings.warn(\n",
      "C:\\Users\\VJahn\\anaconda3\\Lib\\site-packages\\sklearn\\cluster\\_kmeans.py:870: FutureWarning: The default value of `n_init` will change from 10 to 'auto' in 1.4. Set the value of `n_init` explicitly to suppress the warning\n",
      "  warnings.warn(\n",
      "C:\\Users\\VJahn\\anaconda3\\Lib\\site-packages\\sklearn\\cluster\\_kmeans.py:870: FutureWarning: The default value of `n_init` will change from 10 to 'auto' in 1.4. Set the value of `n_init` explicitly to suppress the warning\n",
      "  warnings.warn(\n",
      "C:\\Users\\VJahn\\anaconda3\\Lib\\site-packages\\sklearn\\cluster\\_kmeans.py:870: FutureWarning: The default value of `n_init` will change from 10 to 'auto' in 1.4. Set the value of `n_init` explicitly to suppress the warning\n",
      "  warnings.warn(\n",
      "C:\\Users\\VJahn\\anaconda3\\Lib\\site-packages\\sklearn\\cluster\\_kmeans.py:870: FutureWarning: The default value of `n_init` will change from 10 to 'auto' in 1.4. Set the value of `n_init` explicitly to suppress the warning\n",
      "  warnings.warn(\n",
      "C:\\Users\\VJahn\\anaconda3\\Lib\\site-packages\\sklearn\\cluster\\_kmeans.py:870: FutureWarning: The default value of `n_init` will change from 10 to 'auto' in 1.4. Set the value of `n_init` explicitly to suppress the warning\n",
      "  warnings.warn(\n",
      "C:\\Users\\VJahn\\anaconda3\\Lib\\site-packages\\sklearn\\cluster\\_kmeans.py:870: FutureWarning: The default value of `n_init` will change from 10 to 'auto' in 1.4. Set the value of `n_init` explicitly to suppress the warning\n",
      "  warnings.warn(\n",
      "C:\\Users\\VJahn\\anaconda3\\Lib\\site-packages\\sklearn\\cluster\\_kmeans.py:870: FutureWarning: The default value of `n_init` will change from 10 to 'auto' in 1.4. Set the value of `n_init` explicitly to suppress the warning\n",
      "  warnings.warn(\n"
     ]
    }
   ],
   "source": [
    "km_3 = KMeans(n_clusters = 3, random_state = 123).fit(dimensions)\n",
    "km_4 = KMeans( n_clusters = 4, random_state = 123).fit(dimensions)\n",
    "km_5 = KMeans( n_clusters = 5, random_state = 123).fit(dimensions)\n",
    "km_6 = KMeans( n_clusters = 6, random_state = 123).fit(dimensions)\n",
    "km_7 = KMeans( n_clusters = 7, random_state = 123).fit(dimensions)\n",
    "km_8 = KMeans( n_clusters = 8, random_state = 123).fit(dimensions)\n",
    "km_9 = KMeans( n_clusters = 9, random_state = 123).fit(dimensions)\n",
    "km_10 = KMeans( n_clusters = 10, random_state = 123).fit(dimensions)"
   ]
  },
  {
   "cell_type": "code",
   "execution_count": 42,
   "id": "56247472-87e1-4791-83fd-f3dc58848d34",
   "metadata": {},
   "outputs": [],
   "source": [
    "# save the cluster labels and sort by cluster\n",
    "clust_copy['cluster_3'] = km_3.labels_\n",
    "clust_copy['cluster_4'] = km_4.labels_\n",
    "clust_copy['cluster_5'] = km_5.labels_\n",
    "clust_copy['cluster_6'] = km_6.labels_\n",
    "clust_copy['cluster_7'] = km_7.labels_\n",
    "clust_copy['cluster_8'] = km_8.labels_\n",
    "clust_copy['cluster_9'] = km_9.labels_\n",
    "clust_copy['cluster_10'] = km_10.labels_"
   ]
  },
  {
   "cell_type": "code",
   "execution_count": 43,
   "id": "5609f9e4-a6ca-49e7-8c62-4be62bca4797",
   "metadata": {},
   "outputs": [
    {
     "data": {
      "text/html": [
       "<div>\n",
       "<style scoped>\n",
       "    .dataframe tbody tr th:only-of-type {\n",
       "        vertical-align: middle;\n",
       "    }\n",
       "\n",
       "    .dataframe tbody tr th {\n",
       "        vertical-align: top;\n",
       "    }\n",
       "\n",
       "    .dataframe thead th {\n",
       "        text-align: right;\n",
       "    }\n",
       "</style>\n",
       "<table border=\"1\" class=\"dataframe\">\n",
       "  <thead>\n",
       "    <tr style=\"text-align: right;\">\n",
       "      <th></th>\n",
       "      <th>BALANCE</th>\n",
       "      <th>BALANCE_FREQUENCY</th>\n",
       "      <th>PURCHASES</th>\n",
       "      <th>ONEOFF_PURCHASES</th>\n",
       "      <th>INSTALLMENTS_PURCHASES</th>\n",
       "      <th>CASH_ADVANCE</th>\n",
       "      <th>PURCHASES_FREQUENCY</th>\n",
       "      <th>ONEOFF_PURCHASES_FREQUENCY</th>\n",
       "      <th>PURCHASES_INSTALLMENTS_FREQUENCY</th>\n",
       "      <th>CASH_ADVANCE_FREQUENCY</th>\n",
       "      <th>...</th>\n",
       "      <th>PRC_FULL_PAYMENT</th>\n",
       "      <th>TENURE</th>\n",
       "      <th>cluster_3</th>\n",
       "      <th>cluster_4</th>\n",
       "      <th>cluster_5</th>\n",
       "      <th>cluster_6</th>\n",
       "      <th>cluster_7</th>\n",
       "      <th>cluster_8</th>\n",
       "      <th>cluster_9</th>\n",
       "      <th>cluster_10</th>\n",
       "    </tr>\n",
       "  </thead>\n",
       "  <tbody>\n",
       "    <tr>\n",
       "      <th>0</th>\n",
       "      <td>40.900749</td>\n",
       "      <td>0.818182</td>\n",
       "      <td>95.4000</td>\n",
       "      <td>0.0000</td>\n",
       "      <td>95.40000</td>\n",
       "      <td>0.000000</td>\n",
       "      <td>0.166667</td>\n",
       "      <td>0.000000</td>\n",
       "      <td>0.083333</td>\n",
       "      <td>0.000000</td>\n",
       "      <td>...</td>\n",
       "      <td>0.000000</td>\n",
       "      <td>12</td>\n",
       "      <td>0</td>\n",
       "      <td>1</td>\n",
       "      <td>4</td>\n",
       "      <td>5</td>\n",
       "      <td>3</td>\n",
       "      <td>4</td>\n",
       "      <td>2</td>\n",
       "      <td>3</td>\n",
       "    </tr>\n",
       "    <tr>\n",
       "      <th>1</th>\n",
       "      <td>3202.467416</td>\n",
       "      <td>0.909091</td>\n",
       "      <td>0.0000</td>\n",
       "      <td>0.0000</td>\n",
       "      <td>0.00000</td>\n",
       "      <td>2784.552848</td>\n",
       "      <td>0.000000</td>\n",
       "      <td>0.000000</td>\n",
       "      <td>0.000000</td>\n",
       "      <td>0.250000</td>\n",
       "      <td>...</td>\n",
       "      <td>0.222222</td>\n",
       "      <td>12</td>\n",
       "      <td>1</td>\n",
       "      <td>2</td>\n",
       "      <td>0</td>\n",
       "      <td>4</td>\n",
       "      <td>6</td>\n",
       "      <td>1</td>\n",
       "      <td>6</td>\n",
       "      <td>7</td>\n",
       "    </tr>\n",
       "    <tr>\n",
       "      <th>2</th>\n",
       "      <td>2495.148862</td>\n",
       "      <td>1.000000</td>\n",
       "      <td>773.1700</td>\n",
       "      <td>773.1700</td>\n",
       "      <td>0.00000</td>\n",
       "      <td>0.000000</td>\n",
       "      <td>1.000000</td>\n",
       "      <td>0.750000</td>\n",
       "      <td>0.000000</td>\n",
       "      <td>0.000000</td>\n",
       "      <td>...</td>\n",
       "      <td>0.000000</td>\n",
       "      <td>12</td>\n",
       "      <td>2</td>\n",
       "      <td>0</td>\n",
       "      <td>2</td>\n",
       "      <td>3</td>\n",
       "      <td>5</td>\n",
       "      <td>3</td>\n",
       "      <td>0</td>\n",
       "      <td>2</td>\n",
       "    </tr>\n",
       "    <tr>\n",
       "      <th>3</th>\n",
       "      <td>1666.670542</td>\n",
       "      <td>0.722223</td>\n",
       "      <td>1499.0000</td>\n",
       "      <td>1443.5125</td>\n",
       "      <td>0.00000</td>\n",
       "      <td>205.788017</td>\n",
       "      <td>0.083333</td>\n",
       "      <td>0.083333</td>\n",
       "      <td>0.000000</td>\n",
       "      <td>0.083333</td>\n",
       "      <td>...</td>\n",
       "      <td>0.000000</td>\n",
       "      <td>12</td>\n",
       "      <td>0</td>\n",
       "      <td>1</td>\n",
       "      <td>4</td>\n",
       "      <td>5</td>\n",
       "      <td>3</td>\n",
       "      <td>4</td>\n",
       "      <td>2</td>\n",
       "      <td>2</td>\n",
       "    </tr>\n",
       "    <tr>\n",
       "      <th>4</th>\n",
       "      <td>817.714335</td>\n",
       "      <td>1.000000</td>\n",
       "      <td>16.0000</td>\n",
       "      <td>16.0000</td>\n",
       "      <td>0.00000</td>\n",
       "      <td>0.000000</td>\n",
       "      <td>0.083333</td>\n",
       "      <td>0.083333</td>\n",
       "      <td>0.000000</td>\n",
       "      <td>0.000000</td>\n",
       "      <td>...</td>\n",
       "      <td>0.000000</td>\n",
       "      <td>12</td>\n",
       "      <td>0</td>\n",
       "      <td>1</td>\n",
       "      <td>2</td>\n",
       "      <td>1</td>\n",
       "      <td>2</td>\n",
       "      <td>3</td>\n",
       "      <td>5</td>\n",
       "      <td>4</td>\n",
       "    </tr>\n",
       "    <tr>\n",
       "      <th>5</th>\n",
       "      <td>1809.828751</td>\n",
       "      <td>1.000000</td>\n",
       "      <td>1333.2800</td>\n",
       "      <td>0.0000</td>\n",
       "      <td>1171.59375</td>\n",
       "      <td>0.000000</td>\n",
       "      <td>0.666667</td>\n",
       "      <td>0.000000</td>\n",
       "      <td>0.583333</td>\n",
       "      <td>0.000000</td>\n",
       "      <td>...</td>\n",
       "      <td>0.000000</td>\n",
       "      <td>12</td>\n",
       "      <td>0</td>\n",
       "      <td>3</td>\n",
       "      <td>1</td>\n",
       "      <td>0</td>\n",
       "      <td>1</td>\n",
       "      <td>0</td>\n",
       "      <td>3</td>\n",
       "      <td>1</td>\n",
       "    </tr>\n",
       "    <tr>\n",
       "      <th>6</th>\n",
       "      <td>627.260806</td>\n",
       "      <td>1.000000</td>\n",
       "      <td>2715.8725</td>\n",
       "      <td>1443.5125</td>\n",
       "      <td>688.38000</td>\n",
       "      <td>0.000000</td>\n",
       "      <td>1.000000</td>\n",
       "      <td>0.750000</td>\n",
       "      <td>1.000000</td>\n",
       "      <td>0.000000</td>\n",
       "      <td>...</td>\n",
       "      <td>0.357143</td>\n",
       "      <td>12</td>\n",
       "      <td>2</td>\n",
       "      <td>0</td>\n",
       "      <td>3</td>\n",
       "      <td>3</td>\n",
       "      <td>5</td>\n",
       "      <td>2</td>\n",
       "      <td>1</td>\n",
       "      <td>9</td>\n",
       "    </tr>\n",
       "    <tr>\n",
       "      <th>7</th>\n",
       "      <td>1823.652743</td>\n",
       "      <td>1.000000</td>\n",
       "      <td>436.2000</td>\n",
       "      <td>0.0000</td>\n",
       "      <td>436.20000</td>\n",
       "      <td>0.000000</td>\n",
       "      <td>1.000000</td>\n",
       "      <td>0.000000</td>\n",
       "      <td>1.000000</td>\n",
       "      <td>0.000000</td>\n",
       "      <td>...</td>\n",
       "      <td>0.000000</td>\n",
       "      <td>12</td>\n",
       "      <td>0</td>\n",
       "      <td>3</td>\n",
       "      <td>1</td>\n",
       "      <td>0</td>\n",
       "      <td>1</td>\n",
       "      <td>0</td>\n",
       "      <td>3</td>\n",
       "      <td>1</td>\n",
       "    </tr>\n",
       "    <tr>\n",
       "      <th>8</th>\n",
       "      <td>1014.926473</td>\n",
       "      <td>1.000000</td>\n",
       "      <td>861.4900</td>\n",
       "      <td>661.4900</td>\n",
       "      <td>200.00000</td>\n",
       "      <td>0.000000</td>\n",
       "      <td>0.333333</td>\n",
       "      <td>0.083333</td>\n",
       "      <td>0.250000</td>\n",
       "      <td>0.000000</td>\n",
       "      <td>...</td>\n",
       "      <td>0.000000</td>\n",
       "      <td>12</td>\n",
       "      <td>0</td>\n",
       "      <td>1</td>\n",
       "      <td>2</td>\n",
       "      <td>1</td>\n",
       "      <td>2</td>\n",
       "      <td>3</td>\n",
       "      <td>5</td>\n",
       "      <td>4</td>\n",
       "    </tr>\n",
       "    <tr>\n",
       "      <th>9</th>\n",
       "      <td>152.225975</td>\n",
       "      <td>0.722223</td>\n",
       "      <td>1281.6000</td>\n",
       "      <td>1281.6000</td>\n",
       "      <td>0.00000</td>\n",
       "      <td>0.000000</td>\n",
       "      <td>0.166667</td>\n",
       "      <td>0.166667</td>\n",
       "      <td>0.000000</td>\n",
       "      <td>0.000000</td>\n",
       "      <td>...</td>\n",
       "      <td>0.000000</td>\n",
       "      <td>12</td>\n",
       "      <td>0</td>\n",
       "      <td>1</td>\n",
       "      <td>4</td>\n",
       "      <td>5</td>\n",
       "      <td>3</td>\n",
       "      <td>4</td>\n",
       "      <td>2</td>\n",
       "      <td>3</td>\n",
       "    </tr>\n",
       "  </tbody>\n",
       "</table>\n",
       "<p>10 rows × 25 columns</p>\n",
       "</div>"
      ],
      "text/plain": [
       "       BALANCE  BALANCE_FREQUENCY  PURCHASES  ONEOFF_PURCHASES  \\\n",
       "0    40.900749           0.818182    95.4000            0.0000   \n",
       "1  3202.467416           0.909091     0.0000            0.0000   \n",
       "2  2495.148862           1.000000   773.1700          773.1700   \n",
       "3  1666.670542           0.722223  1499.0000         1443.5125   \n",
       "4   817.714335           1.000000    16.0000           16.0000   \n",
       "5  1809.828751           1.000000  1333.2800            0.0000   \n",
       "6   627.260806           1.000000  2715.8725         1443.5125   \n",
       "7  1823.652743           1.000000   436.2000            0.0000   \n",
       "8  1014.926473           1.000000   861.4900          661.4900   \n",
       "9   152.225975           0.722223  1281.6000         1281.6000   \n",
       "\n",
       "   INSTALLMENTS_PURCHASES  CASH_ADVANCE  PURCHASES_FREQUENCY  \\\n",
       "0                95.40000      0.000000             0.166667   \n",
       "1                 0.00000   2784.552848             0.000000   \n",
       "2                 0.00000      0.000000             1.000000   \n",
       "3                 0.00000    205.788017             0.083333   \n",
       "4                 0.00000      0.000000             0.083333   \n",
       "5              1171.59375      0.000000             0.666667   \n",
       "6               688.38000      0.000000             1.000000   \n",
       "7               436.20000      0.000000             1.000000   \n",
       "8               200.00000      0.000000             0.333333   \n",
       "9                 0.00000      0.000000             0.166667   \n",
       "\n",
       "   ONEOFF_PURCHASES_FREQUENCY  PURCHASES_INSTALLMENTS_FREQUENCY  \\\n",
       "0                    0.000000                          0.083333   \n",
       "1                    0.000000                          0.000000   \n",
       "2                    0.750000                          0.000000   \n",
       "3                    0.083333                          0.000000   \n",
       "4                    0.083333                          0.000000   \n",
       "5                    0.000000                          0.583333   \n",
       "6                    0.750000                          1.000000   \n",
       "7                    0.000000                          1.000000   \n",
       "8                    0.083333                          0.250000   \n",
       "9                    0.166667                          0.000000   \n",
       "\n",
       "   CASH_ADVANCE_FREQUENCY  ...  PRC_FULL_PAYMENT  TENURE  cluster_3  \\\n",
       "0                0.000000  ...          0.000000      12          0   \n",
       "1                0.250000  ...          0.222222      12          1   \n",
       "2                0.000000  ...          0.000000      12          2   \n",
       "3                0.083333  ...          0.000000      12          0   \n",
       "4                0.000000  ...          0.000000      12          0   \n",
       "5                0.000000  ...          0.000000      12          0   \n",
       "6                0.000000  ...          0.357143      12          2   \n",
       "7                0.000000  ...          0.000000      12          0   \n",
       "8                0.000000  ...          0.000000      12          0   \n",
       "9                0.000000  ...          0.000000      12          0   \n",
       "\n",
       "   cluster_4  cluster_5  cluster_6  cluster_7  cluster_8  cluster_9  \\\n",
       "0          1          4          5          3          4          2   \n",
       "1          2          0          4          6          1          6   \n",
       "2          0          2          3          5          3          0   \n",
       "3          1          4          5          3          4          2   \n",
       "4          1          2          1          2          3          5   \n",
       "5          3          1          0          1          0          3   \n",
       "6          0          3          3          5          2          1   \n",
       "7          3          1          0          1          0          3   \n",
       "8          1          2          1          2          3          5   \n",
       "9          1          4          5          3          4          2   \n",
       "\n",
       "   cluster_10  \n",
       "0           3  \n",
       "1           7  \n",
       "2           2  \n",
       "3           2  \n",
       "4           4  \n",
       "5           1  \n",
       "6           9  \n",
       "7           1  \n",
       "8           4  \n",
       "9           3  \n",
       "\n",
       "[10 rows x 25 columns]"
      ]
     },
     "execution_count": 43,
     "metadata": {},
     "output_type": "execute_result"
    }
   ],
   "source": [
    "clust_copy.head(10)"
   ]
  },
  {
   "cell_type": "code",
   "execution_count": null,
   "id": "921f3e08-cc71-411e-88c2-912e52d1ce00",
   "metadata": {},
   "outputs": [],
   "source": []
  },
  {
   "cell_type": "markdown",
   "id": "e88f598f-e045-41e0-9ad1-b98e3b18ab9f",
   "metadata": {},
   "source": [
    "# **Quantitative evaluation of number of clusters**"
   ]
  },
  {
   "cell_type": "markdown",
   "id": "daa6f39a-e982-4b1f-8af7-d71ee411076f",
   "metadata": {},
   "source": [
    "# **1. Analysis of the cluster size**"
   ]
  },
  {
   "cell_type": "code",
   "execution_count": 44,
   "id": "cc28f24c-048b-4a64-96f9-15a863b91223",
   "metadata": {},
   "outputs": [
    {
     "data": {
      "text/plain": [
       "0    4585\n",
       "1    2305\n",
       "2    2060\n",
       "Name: count, dtype: int64"
      ]
     },
     "execution_count": 44,
     "metadata": {},
     "output_type": "execute_result"
    }
   ],
   "source": [
    "pd.Series(km_3.labels_).value_counts()"
   ]
  },
  {
   "cell_type": "code",
   "execution_count": 45,
   "id": "7c824eb6-ec57-4955-ae3f-f04835759332",
   "metadata": {},
   "outputs": [
    {
     "data": {
      "text/plain": [
       "0    0.512291\n",
       "1    0.257542\n",
       "2    0.230168\n",
       "Name: count, dtype: float64"
      ]
     },
     "execution_count": 45,
     "metadata": {},
     "output_type": "execute_result"
    }
   ],
   "source": [
    "pd.Series(km_3.labels_).value_counts()/sum(pd.Series(km_3.labels_).value_counts())"
   ]
  },
  {
   "cell_type": "code",
   "execution_count": 46,
   "id": "90217a1f-80ed-4822-80b4-3eab7d5ae75b",
   "metadata": {},
   "outputs": [
    {
     "data": {
      "text/plain": [
       "0    51.22905\n",
       "1    25.75419\n",
       "2    23.01676\n",
       "Name: count, dtype: float64"
      ]
     },
     "execution_count": 46,
     "metadata": {},
     "output_type": "execute_result"
    }
   ],
   "source": [
    "pd.Series(km_3.labels_).value_counts()/sum(pd.Series(km_3.labels_).value_counts())* 100"
   ]
  },
  {
   "cell_type": "code",
   "execution_count": 47,
   "id": "961cc68c-454d-40ed-b425-f52099745f0b",
   "metadata": {},
   "outputs": [
    {
     "data": {
      "text/plain": [
       "1    37.418994\n",
       "3    23.162011\n",
       "2    20.826816\n",
       "0    18.592179\n",
       "Name: count, dtype: float64"
      ]
     },
     "execution_count": 47,
     "metadata": {},
     "output_type": "execute_result"
    }
   ],
   "source": [
    "pd.Series(km_4.labels_).value_counts()/sum(pd.Series(km_4.labels_).value_counts())* 100"
   ]
  },
  {
   "cell_type": "code",
   "execution_count": 48,
   "id": "cfe2ed8a-507a-4e96-86f7-9d961961e4da",
   "metadata": {},
   "outputs": [
    {
     "data": {
      "text/plain": [
       "2    24.670391\n",
       "1    20.279330\n",
       "4    19.251397\n",
       "0    17.977654\n",
       "3    17.821229\n",
       "Name: count, dtype: float64"
      ]
     },
     "execution_count": 48,
     "metadata": {},
     "output_type": "execute_result"
    }
   ],
   "source": [
    "pd.Series(km_5.labels_).value_counts()/sum(pd.Series(km_5.labels_).value_counts())* 100"
   ]
  },
  {
   "cell_type": "code",
   "execution_count": 49,
   "id": "04641c32-6ad4-42e1-936f-c4b338091526",
   "metadata": {},
   "outputs": [
    {
     "data": {
      "text/plain": [
       "1    23.955307\n",
       "0    19.608939\n",
       "5    18.413408\n",
       "4    17.229050\n",
       "3    13.486034\n",
       "2     7.307263\n",
       "Name: count, dtype: float64"
      ]
     },
     "execution_count": 49,
     "metadata": {},
     "output_type": "execute_result"
    }
   ],
   "source": [
    "pd.Series(km_6.labels_).value_counts()/sum(pd.Series(km_6.labels_).value_counts())* 100"
   ]
  },
  {
   "cell_type": "code",
   "execution_count": 50,
   "id": "bce7d19c-546b-49f2-8be4-f431c0ef0b5c",
   "metadata": {},
   "outputs": [
    {
     "data": {
      "text/plain": [
       "2    23.776536\n",
       "1    18.469274\n",
       "6    15.541899\n",
       "3    15.363128\n",
       "5    13.139665\n",
       "4     7.117318\n",
       "0     6.592179\n",
       "Name: count, dtype: float64"
      ]
     },
     "execution_count": 50,
     "metadata": {},
     "output_type": "execute_result"
    }
   ],
   "source": [
    "pd.Series(km_7.labels_).value_counts()/sum(pd.Series(km_7.labels_).value_counts())* 100"
   ]
  },
  {
   "cell_type": "code",
   "execution_count": 51,
   "id": "fee739f1-d48c-4f88-ba45-02c264309c5d",
   "metadata": {},
   "outputs": [
    {
     "data": {
      "text/plain": [
       "3    20.256983\n",
       "0    18.134078\n",
       "4    14.849162\n",
       "2    12.614525\n",
       "7    11.944134\n",
       "1     9.027933\n",
       "5     7.005587\n",
       "6     6.167598\n",
       "Name: count, dtype: float64"
      ]
     },
     "execution_count": 51,
     "metadata": {},
     "output_type": "execute_result"
    }
   ],
   "source": [
    "pd.Series(km_8.labels_).value_counts()/sum(pd.Series(km_8.labels_).value_counts())* 100"
   ]
  },
  {
   "cell_type": "code",
   "execution_count": 52,
   "id": "f5a8c27c-d1f7-4432-a600-af00d5ac57fd",
   "metadata": {},
   "outputs": [
    {
     "data": {
      "text/plain": [
       "3    18.000000\n",
       "5    17.921788\n",
       "2    13.977654\n",
       "4    10.703911\n",
       "0     9.530726\n",
       "6     8.972067\n",
       "1     8.625698\n",
       "7     6.178771\n",
       "8     6.089385\n",
       "Name: count, dtype: float64"
      ]
     },
     "execution_count": 52,
     "metadata": {},
     "output_type": "execute_result"
    }
   ],
   "source": [
    "pd.Series(km_9.labels_).value_counts()/sum(pd.Series(km_9.labels_).value_counts())* 100"
   ]
  },
  {
   "cell_type": "code",
   "execution_count": 53,
   "id": "dfe58c0c-617f-4fdf-a6f3-c788f0e52972",
   "metadata": {},
   "outputs": [
    {
     "data": {
      "text/plain": [
       "1    17.754190\n",
       "4    17.564246\n",
       "3    13.832402\n",
       "5    10.279330\n",
       "2     9.195531\n",
       "7     8.145251\n",
       "9     7.318436\n",
       "0     5.977654\n",
       "6     5.217877\n",
       "8     4.715084\n",
       "Name: count, dtype: float64"
      ]
     },
     "execution_count": 53,
     "metadata": {},
     "output_type": "execute_result"
    }
   ],
   "source": [
    "pd.Series(km_10.labels_).value_counts()/sum(pd.Series(km_10.labels_).value_counts())* 100"
   ]
  },
  {
   "cell_type": "code",
   "execution_count": 54,
   "id": "82da93a5-a419-44e6-bbe8-5a14855be28b",
   "metadata": {},
   "outputs": [],
   "source": [
    "# based on the size of the clusters i am going ahead with cluster 4 ,5, 6"
   ]
  },
  {
   "cell_type": "code",
   "execution_count": null,
   "id": "494e88ec-05ba-4e1b-8faa-98cad8406da3",
   "metadata": {},
   "outputs": [],
   "source": []
  },
  {
   "cell_type": "markdown",
   "id": "75b59ec6-1127-4d9d-98ac-eb998cc649dd",
   "metadata": {},
   "source": [
    "# **2. Silhouette Coefficient -- SC**"
   ]
  },
  {
   "cell_type": "code",
   "execution_count": 55,
   "id": "6fe2ed6b-c3b7-4ece-a53e-944aea62d092",
   "metadata": {},
   "outputs": [
    {
     "data": {
      "text/plain": [
       "0.2497105763886903"
      ]
     },
     "execution_count": 55,
     "metadata": {},
     "output_type": "execute_result"
    }
   ],
   "source": [
    "metrics.silhouette_score( dimensions, km_4.labels_ )"
   ]
  },
  {
   "cell_type": "code",
   "execution_count": 56,
   "id": "62944e36-692d-40ff-b5b8-1adc0d9f5659",
   "metadata": {},
   "outputs": [
    {
     "data": {
      "text/plain": [
       "0.2332591984070682"
      ]
     },
     "execution_count": 56,
     "metadata": {},
     "output_type": "execute_result"
    }
   ],
   "source": [
    "metrics.silhouette_score( dimensions, km_5.labels_ )"
   ]
  },
  {
   "cell_type": "code",
   "execution_count": 57,
   "id": "02b58aac-af8a-44fa-afa2-3564da5dd833",
   "metadata": {},
   "outputs": [
    {
     "data": {
      "text/plain": [
       "0.23735175802642522"
      ]
     },
     "execution_count": 57,
     "metadata": {},
     "output_type": "execute_result"
    }
   ],
   "source": [
    "metrics.silhouette_score( dimensions, km_6.labels_ )"
   ]
  },
  {
   "cell_type": "code",
   "execution_count": 58,
   "id": "6af4f1b7-6754-455a-8b34-131c5496f924",
   "metadata": {},
   "outputs": [],
   "source": [
    "# based on the SC Score also i am going ahead with cluster 4, 5, 6"
   ]
  },
  {
   "cell_type": "code",
   "execution_count": 59,
   "id": "0407f6f9-67a1-40eb-9355-c2e2a469fbfc",
   "metadata": {},
   "outputs": [
    {
     "name": "stderr",
     "output_type": "stream",
     "text": [
      "C:\\Users\\VJahn\\anaconda3\\Lib\\site-packages\\sklearn\\cluster\\_kmeans.py:870: FutureWarning: The default value of `n_init` will change from 10 to 'auto' in 1.4. Set the value of `n_init` explicitly to suppress the warning\n",
      "  warnings.warn(\n",
      "C:\\Users\\VJahn\\anaconda3\\Lib\\site-packages\\sklearn\\cluster\\_kmeans.py:870: FutureWarning: The default value of `n_init` will change from 10 to 'auto' in 1.4. Set the value of `n_init` explicitly to suppress the warning\n",
      "  warnings.warn(\n",
      "C:\\Users\\VJahn\\anaconda3\\Lib\\site-packages\\sklearn\\cluster\\_kmeans.py:870: FutureWarning: The default value of `n_init` will change from 10 to 'auto' in 1.4. Set the value of `n_init` explicitly to suppress the warning\n",
      "  warnings.warn(\n",
      "C:\\Users\\VJahn\\anaconda3\\Lib\\site-packages\\sklearn\\cluster\\_kmeans.py:870: FutureWarning: The default value of `n_init` will change from 10 to 'auto' in 1.4. Set the value of `n_init` explicitly to suppress the warning\n",
      "  warnings.warn(\n",
      "C:\\Users\\VJahn\\anaconda3\\Lib\\site-packages\\sklearn\\cluster\\_kmeans.py:870: FutureWarning: The default value of `n_init` will change from 10 to 'auto' in 1.4. Set the value of `n_init` explicitly to suppress the warning\n",
      "  warnings.warn(\n",
      "C:\\Users\\VJahn\\anaconda3\\Lib\\site-packages\\sklearn\\cluster\\_kmeans.py:870: FutureWarning: The default value of `n_init` will change from 10 to 'auto' in 1.4. Set the value of `n_init` explicitly to suppress the warning\n",
      "  warnings.warn(\n",
      "C:\\Users\\VJahn\\anaconda3\\Lib\\site-packages\\sklearn\\cluster\\_kmeans.py:870: FutureWarning: The default value of `n_init` will change from 10 to 'auto' in 1.4. Set the value of `n_init` explicitly to suppress the warning\n",
      "  warnings.warn(\n",
      "C:\\Users\\VJahn\\anaconda3\\Lib\\site-packages\\sklearn\\cluster\\_kmeans.py:870: FutureWarning: The default value of `n_init` will change from 10 to 'auto' in 1.4. Set the value of `n_init` explicitly to suppress the warning\n",
      "  warnings.warn(\n",
      "C:\\Users\\VJahn\\anaconda3\\Lib\\site-packages\\sklearn\\cluster\\_kmeans.py:870: FutureWarning: The default value of `n_init` will change from 10 to 'auto' in 1.4. Set the value of `n_init` explicitly to suppress the warning\n",
      "  warnings.warn(\n",
      "C:\\Users\\VJahn\\anaconda3\\Lib\\site-packages\\sklearn\\cluster\\_kmeans.py:870: FutureWarning: The default value of `n_init` will change from 10 to 'auto' in 1.4. Set the value of `n_init` explicitly to suppress the warning\n",
      "  warnings.warn(\n",
      "C:\\Users\\VJahn\\anaconda3\\Lib\\site-packages\\sklearn\\cluster\\_kmeans.py:870: FutureWarning: The default value of `n_init` will change from 10 to 'auto' in 1.4. Set the value of `n_init` explicitly to suppress the warning\n",
      "  warnings.warn(\n",
      "C:\\Users\\VJahn\\anaconda3\\Lib\\site-packages\\sklearn\\cluster\\_kmeans.py:870: FutureWarning: The default value of `n_init` will change from 10 to 'auto' in 1.4. Set the value of `n_init` explicitly to suppress the warning\n",
      "  warnings.warn(\n",
      "C:\\Users\\VJahn\\anaconda3\\Lib\\site-packages\\sklearn\\cluster\\_kmeans.py:870: FutureWarning: The default value of `n_init` will change from 10 to 'auto' in 1.4. Set the value of `n_init` explicitly to suppress the warning\n",
      "  warnings.warn(\n",
      "C:\\Users\\VJahn\\anaconda3\\Lib\\site-packages\\sklearn\\cluster\\_kmeans.py:870: FutureWarning: The default value of `n_init` will change from 10 to 'auto' in 1.4. Set the value of `n_init` explicitly to suppress the warning\n",
      "  warnings.warn(\n",
      "C:\\Users\\VJahn\\anaconda3\\Lib\\site-packages\\sklearn\\cluster\\_kmeans.py:870: FutureWarning: The default value of `n_init` will change from 10 to 'auto' in 1.4. Set the value of `n_init` explicitly to suppress the warning\n",
      "  warnings.warn(\n",
      "C:\\Users\\VJahn\\anaconda3\\Lib\\site-packages\\sklearn\\cluster\\_kmeans.py:870: FutureWarning: The default value of `n_init` will change from 10 to 'auto' in 1.4. Set the value of `n_init` explicitly to suppress the warning\n",
      "  warnings.warn(\n",
      "C:\\Users\\VJahn\\anaconda3\\Lib\\site-packages\\sklearn\\cluster\\_kmeans.py:870: FutureWarning: The default value of `n_init` will change from 10 to 'auto' in 1.4. Set the value of `n_init` explicitly to suppress the warning\n",
      "  warnings.warn(\n",
      "C:\\Users\\VJahn\\anaconda3\\Lib\\site-packages\\sklearn\\cluster\\_kmeans.py:870: FutureWarning: The default value of `n_init` will change from 10 to 'auto' in 1.4. Set the value of `n_init` explicitly to suppress the warning\n",
      "  warnings.warn(\n"
     ]
    }
   ],
   "source": [
    "# calculate SC for K=3 through K=20\n",
    "k_range = range(3, 21)\n",
    "scores = []\n",
    "for k in k_range:\n",
    "    km = KMeans(n_clusters = k, random_state = 123)\n",
    "    km.fit(dimensions)\n",
    "    scores.append(metrics.silhouette_score(dimensions, km.labels_))"
   ]
  },
  {
   "cell_type": "code",
   "execution_count": 60,
   "id": "096024bd-1e50-48b5-9c2c-fcd73a4a21b5",
   "metadata": {},
   "outputs": [
    {
     "data": {
      "text/plain": [
       "[0.2706966892996858,\n",
       " 0.2497105763886903,\n",
       " 0.2332591984070682,\n",
       " 0.23735175802642522,\n",
       " 0.25018978233841477,\n",
       " 0.23928980087569923,\n",
       " 0.24439715313079016,\n",
       " 0.2467575223099629,\n",
       " 0.23729541002418345,\n",
       " 0.23822242286544695,\n",
       " 0.24177137167035262,\n",
       " 0.21760360061462575,\n",
       " 0.22107199045782663,\n",
       " 0.23345636472842518,\n",
       " 0.2376778950558559,\n",
       " 0.23399553788648803,\n",
       " 0.2424640076475517,\n",
       " 0.2362452669291352]"
      ]
     },
     "execution_count": 60,
     "metadata": {},
     "output_type": "execute_result"
    }
   ],
   "source": [
    "scores"
   ]
  },
  {
   "cell_type": "code",
   "execution_count": 61,
   "id": "74e84b2a-b3cf-4c9f-889f-4b34e5abf724",
   "metadata": {},
   "outputs": [
    {
     "data": {
      "image/png": "[encoded data removed]",
      "text/plain": [
       "<Figure size 640x480 with 1 Axes>"
      ]
     },
     "metadata": {},
     "output_type": "display_data"
    }
   ],
   "source": [
    "# plot the results\n",
    "plt.plot(k_range, scores, marker = \"o\")\n",
    "plt.xlabel('Number of clusters')\n",
    "plt.ylabel('Silhouette Coefficient')\n",
    "plt.grid(True)"
   ]
  },
  {
   "cell_type": "code",
   "execution_count": null,
   "id": "4ab771be-8002-413a-806c-e58a58bf11b4",
   "metadata": {},
   "outputs": [],
   "source": []
  },
  {
   "cell_type": "markdown",
   "id": "0284cfb4-b1a5-45e2-928a-ab767cffcf94",
   "metadata": {},
   "source": [
    "# **3. Elbow Analysis**"
   ]
  },
  {
   "cell_type": "code",
   "execution_count": 62,
   "id": "809c47a2-ad10-4822-bb1c-c38d4daefdf9",
   "metadata": {},
   "outputs": [
    {
     "name": "stderr",
     "output_type": "stream",
     "text": [
      "C:\\Users\\VJahn\\anaconda3\\Lib\\site-packages\\sklearn\\cluster\\_kmeans.py:870: FutureWarning: The default value of `n_init` will change from 10 to 'auto' in 1.4. Set the value of `n_init` explicitly to suppress the warning\n",
      "  warnings.warn(\n",
      "C:\\Users\\VJahn\\anaconda3\\Lib\\site-packages\\sklearn\\cluster\\_kmeans.py:870: FutureWarning: The default value of `n_init` will change from 10 to 'auto' in 1.4. Set the value of `n_init` explicitly to suppress the warning\n",
      "  warnings.warn(\n",
      "C:\\Users\\VJahn\\anaconda3\\Lib\\site-packages\\sklearn\\cluster\\_kmeans.py:870: FutureWarning: The default value of `n_init` will change from 10 to 'auto' in 1.4. Set the value of `n_init` explicitly to suppress the warning\n",
      "  warnings.warn(\n",
      "C:\\Users\\VJahn\\anaconda3\\Lib\\site-packages\\sklearn\\cluster\\_kmeans.py:870: FutureWarning: The default value of `n_init` will change from 10 to 'auto' in 1.4. Set the value of `n_init` explicitly to suppress the warning\n",
      "  warnings.warn(\n",
      "C:\\Users\\VJahn\\anaconda3\\Lib\\site-packages\\sklearn\\cluster\\_kmeans.py:870: FutureWarning: The default value of `n_init` will change from 10 to 'auto' in 1.4. Set the value of `n_init` explicitly to suppress the warning\n",
      "  warnings.warn(\n",
      "C:\\Users\\VJahn\\anaconda3\\Lib\\site-packages\\sklearn\\cluster\\_kmeans.py:870: FutureWarning: The default value of `n_init` will change from 10 to 'auto' in 1.4. Set the value of `n_init` explicitly to suppress the warning\n",
      "  warnings.warn(\n",
      "C:\\Users\\VJahn\\anaconda3\\Lib\\site-packages\\sklearn\\cluster\\_kmeans.py:870: FutureWarning: The default value of `n_init` will change from 10 to 'auto' in 1.4. Set the value of `n_init` explicitly to suppress the warning\n",
      "  warnings.warn(\n",
      "C:\\Users\\VJahn\\anaconda3\\Lib\\site-packages\\sklearn\\cluster\\_kmeans.py:870: FutureWarning: The default value of `n_init` will change from 10 to 'auto' in 1.4. Set the value of `n_init` explicitly to suppress the warning\n",
      "  warnings.warn(\n",
      "C:\\Users\\VJahn\\anaconda3\\Lib\\site-packages\\sklearn\\cluster\\_kmeans.py:870: FutureWarning: The default value of `n_init` will change from 10 to 'auto' in 1.4. Set the value of `n_init` explicitly to suppress the warning\n",
      "  warnings.warn(\n",
      "C:\\Users\\VJahn\\anaconda3\\Lib\\site-packages\\sklearn\\cluster\\_kmeans.py:870: FutureWarning: The default value of `n_init` will change from 10 to 'auto' in 1.4. Set the value of `n_init` explicitly to suppress the warning\n",
      "  warnings.warn(\n",
      "C:\\Users\\VJahn\\anaconda3\\Lib\\site-packages\\sklearn\\cluster\\_kmeans.py:870: FutureWarning: The default value of `n_init` will change from 10 to 'auto' in 1.4. Set the value of `n_init` explicitly to suppress the warning\n",
      "  warnings.warn(\n",
      "C:\\Users\\VJahn\\anaconda3\\Lib\\site-packages\\sklearn\\cluster\\_kmeans.py:870: FutureWarning: The default value of `n_init` will change from 10 to 'auto' in 1.4. Set the value of `n_init` explicitly to suppress the warning\n",
      "  warnings.warn(\n",
      "C:\\Users\\VJahn\\anaconda3\\Lib\\site-packages\\sklearn\\cluster\\_kmeans.py:870: FutureWarning: The default value of `n_init` will change from 10 to 'auto' in 1.4. Set the value of `n_init` explicitly to suppress the warning\n",
      "  warnings.warn(\n",
      "C:\\Users\\VJahn\\anaconda3\\Lib\\site-packages\\sklearn\\cluster\\_kmeans.py:870: FutureWarning: The default value of `n_init` will change from 10 to 'auto' in 1.4. Set the value of `n_init` explicitly to suppress the warning\n",
      "  warnings.warn(\n",
      "C:\\Users\\VJahn\\anaconda3\\Lib\\site-packages\\sklearn\\cluster\\_kmeans.py:870: FutureWarning: The default value of `n_init` will change from 10 to 'auto' in 1.4. Set the value of `n_init` explicitly to suppress the warning\n",
      "  warnings.warn(\n",
      "C:\\Users\\VJahn\\anaconda3\\Lib\\site-packages\\sklearn\\cluster\\_kmeans.py:870: FutureWarning: The default value of `n_init` will change from 10 to 'auto' in 1.4. Set the value of `n_init` explicitly to suppress the warning\n",
      "  warnings.warn(\n",
      "C:\\Users\\VJahn\\anaconda3\\Lib\\site-packages\\sklearn\\cluster\\_kmeans.py:870: FutureWarning: The default value of `n_init` will change from 10 to 'auto' in 1.4. Set the value of `n_init` explicitly to suppress the warning\n",
      "  warnings.warn(\n",
      "C:\\Users\\VJahn\\anaconda3\\Lib\\site-packages\\sklearn\\cluster\\_kmeans.py:870: FutureWarning: The default value of `n_init` will change from 10 to 'auto' in 1.4. Set the value of `n_init` explicitly to suppress the warning\n",
      "  warnings.warn(\n",
      "C:\\Users\\VJahn\\anaconda3\\Lib\\site-packages\\sklearn\\cluster\\_kmeans.py:870: FutureWarning: The default value of `n_init` will change from 10 to 'auto' in 1.4. Set the value of `n_init` explicitly to suppress the warning\n",
      "  warnings.warn(\n"
     ]
    }
   ],
   "source": [
    "cluster_range = range(2, 21)\n",
    "cluster_errors = []\n",
    "\n",
    "for num_clusters in cluster_range:\n",
    "    clusters = KMeans(num_clusters).fit(dimensions)\n",
    "    cluster_errors.append(clusters.inertia_)"
   ]
  },
  {
   "cell_type": "code",
   "execution_count": 63,
   "id": "d710a806-d94f-4cec-ad1b-218faf437590",
   "metadata": {},
   "outputs": [
    {
     "data": {
      "text/html": [
       "<div>\n",
       "<style scoped>\n",
       "    .dataframe tbody tr th:only-of-type {\n",
       "        vertical-align: middle;\n",
       "    }\n",
       "\n",
       "    .dataframe tbody tr th {\n",
       "        vertical-align: top;\n",
       "    }\n",
       "\n",
       "    .dataframe thead th {\n",
       "        text-align: right;\n",
       "    }\n",
       "</style>\n",
       "<table border=\"1\" class=\"dataframe\">\n",
       "  <thead>\n",
       "    <tr style=\"text-align: right;\">\n",
       "      <th></th>\n",
       "      <th>num_clusters</th>\n",
       "      <th>cluster_errors</th>\n",
       "    </tr>\n",
       "  </thead>\n",
       "  <tbody>\n",
       "    <tr>\n",
       "      <th>0</th>\n",
       "      <td>2</td>\n",
       "      <td>93994.363633</td>\n",
       "    </tr>\n",
       "    <tr>\n",
       "      <th>1</th>\n",
       "      <td>3</td>\n",
       "      <td>72065.233645</td>\n",
       "    </tr>\n",
       "    <tr>\n",
       "      <th>2</th>\n",
       "      <td>4</td>\n",
       "      <td>61532.183331</td>\n",
       "    </tr>\n",
       "    <tr>\n",
       "      <th>3</th>\n",
       "      <td>5</td>\n",
       "      <td>55939.362503</td>\n",
       "    </tr>\n",
       "    <tr>\n",
       "      <th>4</th>\n",
       "      <td>6</td>\n",
       "      <td>51020.736366</td>\n",
       "    </tr>\n",
       "    <tr>\n",
       "      <th>5</th>\n",
       "      <td>7</td>\n",
       "      <td>46422.613825</td>\n",
       "    </tr>\n",
       "    <tr>\n",
       "      <th>6</th>\n",
       "      <td>8</td>\n",
       "      <td>42905.244729</td>\n",
       "    </tr>\n",
       "    <tr>\n",
       "      <th>7</th>\n",
       "      <td>9</td>\n",
       "      <td>40165.507824</td>\n",
       "    </tr>\n",
       "    <tr>\n",
       "      <th>8</th>\n",
       "      <td>10</td>\n",
       "      <td>38054.035256</td>\n",
       "    </tr>\n",
       "    <tr>\n",
       "      <th>9</th>\n",
       "      <td>11</td>\n",
       "      <td>35934.785286</td>\n",
       "    </tr>\n",
       "    <tr>\n",
       "      <th>10</th>\n",
       "      <td>12</td>\n",
       "      <td>34611.297057</td>\n",
       "    </tr>\n",
       "    <tr>\n",
       "      <th>11</th>\n",
       "      <td>13</td>\n",
       "      <td>33382.007821</td>\n",
       "    </tr>\n",
       "    <tr>\n",
       "      <th>12</th>\n",
       "      <td>14</td>\n",
       "      <td>32051.027959</td>\n",
       "    </tr>\n",
       "    <tr>\n",
       "      <th>13</th>\n",
       "      <td>15</td>\n",
       "      <td>31014.692983</td>\n",
       "    </tr>\n",
       "    <tr>\n",
       "      <th>14</th>\n",
       "      <td>16</td>\n",
       "      <td>30066.831577</td>\n",
       "    </tr>\n",
       "    <tr>\n",
       "      <th>15</th>\n",
       "      <td>17</td>\n",
       "      <td>29090.795090</td>\n",
       "    </tr>\n",
       "    <tr>\n",
       "      <th>16</th>\n",
       "      <td>18</td>\n",
       "      <td>28013.525519</td>\n",
       "    </tr>\n",
       "    <tr>\n",
       "      <th>17</th>\n",
       "      <td>19</td>\n",
       "      <td>27330.849841</td>\n",
       "    </tr>\n",
       "    <tr>\n",
       "      <th>18</th>\n",
       "      <td>20</td>\n",
       "      <td>26500.470924</td>\n",
       "    </tr>\n",
       "  </tbody>\n",
       "</table>\n",
       "</div>"
      ],
      "text/plain": [
       "    num_clusters  cluster_errors\n",
       "0              2    93994.363633\n",
       "1              3    72065.233645\n",
       "2              4    61532.183331\n",
       "3              5    55939.362503\n",
       "4              6    51020.736366\n",
       "5              7    46422.613825\n",
       "6              8    42905.244729\n",
       "7              9    40165.507824\n",
       "8             10    38054.035256\n",
       "9             11    35934.785286\n",
       "10            12    34611.297057\n",
       "11            13    33382.007821\n",
       "12            14    32051.027959\n",
       "13            15    31014.692983\n",
       "14            16    30066.831577\n",
       "15            17    29090.795090\n",
       "16            18    28013.525519\n",
       "17            19    27330.849841\n",
       "18            20    26500.470924"
      ]
     },
     "execution_count": 63,
     "metadata": {},
     "output_type": "execute_result"
    }
   ],
   "source": [
    "clusters_df = pd.DataFrame( { \"num_clusters\": cluster_range, \"cluster_errors\": cluster_errors } )\n",
    "clusters_df"
   ]
  },
  {
   "cell_type": "code",
   "execution_count": 64,
   "id": "9259b028-9887-4df2-893d-b524db06c8cf",
   "metadata": {},
   "outputs": [
    {
     "data": {
      "image/png": "[encoded data removed]",
      "text/plain": [
       "<Figure size 1200x600 with 1 Axes>"
      ]
     },
     "metadata": {},
     "output_type": "display_data"
    }
   ],
   "source": [
    "%matplotlib inline\n",
    "import matplotlib.pyplot as plt\n",
    "plt.figure(figsize=(12,6))\n",
    "plt.plot( clusters_df.num_clusters, clusters_df.cluster_errors, marker = \"o\" )\n",
    "plt.show()"
   ]
  },
  {
   "cell_type": "code",
   "execution_count": 65,
   "id": "a5f0b8a9-22ce-4ab9-b7ef-b0e50a8f784e",
   "metadata": {},
   "outputs": [],
   "source": [
    "# The elbow diagram shows that the gain in explained variance reduces significantly from 1 to 4.\n",
    "# after 4 the difference in inertia is getting lesser and lesser So, \n",
    "# optimal number of clusters could either 4 or 5"
   ]
  },
  {
   "cell_type": "code",
   "execution_count": null,
   "id": "ac91ac3b-8e80-4707-a85e-59fa31522931",
   "metadata": {},
   "outputs": [],
   "source": []
  },
  {
   "cell_type": "code",
   "execution_count": 66,
   "id": "a68ae45c-838f-4d86-aa9e-7b88b53e8e74",
   "metadata": {},
   "outputs": [
    {
     "data": {
      "text/html": [
       "<div>\n",
       "<style scoped>\n",
       "    .dataframe tbody tr th:only-of-type {\n",
       "        vertical-align: middle;\n",
       "    }\n",
       "\n",
       "    .dataframe tbody tr th {\n",
       "        vertical-align: top;\n",
       "    }\n",
       "\n",
       "    .dataframe thead th {\n",
       "        text-align: right;\n",
       "    }\n",
       "</style>\n",
       "<table border=\"1\" class=\"dataframe\">\n",
       "  <thead>\n",
       "    <tr style=\"text-align: right;\">\n",
       "      <th></th>\n",
       "      <th>BALANCE</th>\n",
       "      <th>BALANCE_FREQUENCY</th>\n",
       "      <th>PURCHASES</th>\n",
       "      <th>ONEOFF_PURCHASES</th>\n",
       "      <th>INSTALLMENTS_PURCHASES</th>\n",
       "      <th>CASH_ADVANCE</th>\n",
       "      <th>PURCHASES_FREQUENCY</th>\n",
       "      <th>ONEOFF_PURCHASES_FREQUENCY</th>\n",
       "      <th>PURCHASES_INSTALLMENTS_FREQUENCY</th>\n",
       "      <th>CASH_ADVANCE_FREQUENCY</th>\n",
       "      <th>...</th>\n",
       "      <th>MINIMUM_PAYMENTS</th>\n",
       "      <th>PRC_FULL_PAYMENT</th>\n",
       "      <th>TENURE</th>\n",
       "      <th>cluster_4</th>\n",
       "      <th>cluster_5</th>\n",
       "      <th>cluster_6</th>\n",
       "      <th>cluster_7</th>\n",
       "      <th>cluster_8</th>\n",
       "      <th>cluster_9</th>\n",
       "      <th>cluster_10</th>\n",
       "    </tr>\n",
       "    <tr>\n",
       "      <th>cluster_3</th>\n",
       "      <th></th>\n",
       "      <th></th>\n",
       "      <th></th>\n",
       "      <th></th>\n",
       "      <th></th>\n",
       "      <th></th>\n",
       "      <th></th>\n",
       "      <th></th>\n",
       "      <th></th>\n",
       "      <th></th>\n",
       "      <th></th>\n",
       "      <th></th>\n",
       "      <th></th>\n",
       "      <th></th>\n",
       "      <th></th>\n",
       "      <th></th>\n",
       "      <th></th>\n",
       "      <th></th>\n",
       "      <th></th>\n",
       "      <th></th>\n",
       "      <th></th>\n",
       "    </tr>\n",
       "  </thead>\n",
       "  <tbody>\n",
       "    <tr>\n",
       "      <th>0</th>\n",
       "      <td>563.883521</td>\n",
       "      <td>0.895128</td>\n",
       "      <td>391.063068</td>\n",
       "      <td>172.564842</td>\n",
       "      <td>207.142375</td>\n",
       "      <td>171.835916</td>\n",
       "      <td>0.456683</td>\n",
       "      <td>0.100633</td>\n",
       "      <td>0.347641</td>\n",
       "      <td>0.042268</td>\n",
       "      <td>...</td>\n",
       "      <td>320.371611</td>\n",
       "      <td>0.098837</td>\n",
       "      <td>11.437077</td>\n",
       "      <td>1.722792</td>\n",
       "      <td>2.402181</td>\n",
       "      <td>2.093348</td>\n",
       "      <td>1.887459</td>\n",
       "      <td>2.755071</td>\n",
       "      <td>3.468920</td>\n",
       "      <td>2.413086</td>\n",
       "    </tr>\n",
       "    <tr>\n",
       "      <th>1</th>\n",
       "      <td>2746.401943</td>\n",
       "      <td>0.961252</td>\n",
       "      <td>230.364043</td>\n",
       "      <td>139.715687</td>\n",
       "      <td>78.795787</td>\n",
       "      <td>1918.750672</td>\n",
       "      <td>0.184778</td>\n",
       "      <td>0.078145</td>\n",
       "      <td>0.109674</td>\n",
       "      <td>0.341634</td>\n",
       "      <td>...</td>\n",
       "      <td>940.790488</td>\n",
       "      <td>0.027320</td>\n",
       "      <td>11.364425</td>\n",
       "      <td>1.819523</td>\n",
       "      <td>0.718004</td>\n",
       "      <td>3.195228</td>\n",
       "      <td>4.322343</td>\n",
       "      <td>4.300217</td>\n",
       "      <td>5.104555</td>\n",
       "      <td>5.360954</td>\n",
       "    </tr>\n",
       "    <tr>\n",
       "      <th>2</th>\n",
       "      <td>1713.200430</td>\n",
       "      <td>0.979542</td>\n",
       "      <td>2074.501559</td>\n",
       "      <td>999.150914</td>\n",
       "      <td>734.838123</td>\n",
       "      <td>392.237330</td>\n",
       "      <td>0.907200</td>\n",
       "      <td>0.491358</td>\n",
       "      <td>0.686884</td>\n",
       "      <td>0.071351</td>\n",
       "      <td>...</td>\n",
       "      <td>653.159192</td>\n",
       "      <td>0.128401</td>\n",
       "      <td>11.866990</td>\n",
       "      <td>0.583981</td>\n",
       "      <td>2.543204</td>\n",
       "      <td>2.193204</td>\n",
       "      <td>3.976214</td>\n",
       "      <td>2.527670</td>\n",
       "      <td>2.590777</td>\n",
       "      <td>5.627184</td>\n",
       "    </tr>\n",
       "  </tbody>\n",
       "</table>\n",
       "<p>3 rows × 24 columns</p>\n",
       "</div>"
      ],
      "text/plain": [
       "               BALANCE  BALANCE_FREQUENCY    PURCHASES  ONEOFF_PURCHASES  \\\n",
       "cluster_3                                                                  \n",
       "0           563.883521           0.895128   391.063068        172.564842   \n",
       "1          2746.401943           0.961252   230.364043        139.715687   \n",
       "2          1713.200430           0.979542  2074.501559        999.150914   \n",
       "\n",
       "           INSTALLMENTS_PURCHASES  CASH_ADVANCE  PURCHASES_FREQUENCY  \\\n",
       "cluster_3                                                              \n",
       "0                      207.142375    171.835916             0.456683   \n",
       "1                       78.795787   1918.750672             0.184778   \n",
       "2                      734.838123    392.237330             0.907200   \n",
       "\n",
       "           ONEOFF_PURCHASES_FREQUENCY  PURCHASES_INSTALLMENTS_FREQUENCY  \\\n",
       "cluster_3                                                                 \n",
       "0                            0.100633                          0.347641   \n",
       "1                            0.078145                          0.109674   \n",
       "2                            0.491358                          0.686884   \n",
       "\n",
       "           CASH_ADVANCE_FREQUENCY  ...  MINIMUM_PAYMENTS  PRC_FULL_PAYMENT  \\\n",
       "cluster_3                          ...                                       \n",
       "0                        0.042268  ...        320.371611          0.098837   \n",
       "1                        0.341634  ...        940.790488          0.027320   \n",
       "2                        0.071351  ...        653.159192          0.128401   \n",
       "\n",
       "              TENURE  cluster_4  cluster_5  cluster_6  cluster_7  cluster_8  \\\n",
       "cluster_3                                                                     \n",
       "0          11.437077   1.722792   2.402181   2.093348   1.887459   2.755071   \n",
       "1          11.364425   1.819523   0.718004   3.195228   4.322343   4.300217   \n",
       "2          11.866990   0.583981   2.543204   2.193204   3.976214   2.527670   \n",
       "\n",
       "           cluster_9  cluster_10  \n",
       "cluster_3                         \n",
       "0           3.468920    2.413086  \n",
       "1           5.104555    5.360954  \n",
       "2           2.590777    5.627184  \n",
       "\n",
       "[3 rows x 24 columns]"
      ]
     },
     "execution_count": 66,
     "metadata": {},
     "output_type": "execute_result"
    }
   ],
   "source": [
    "clust_copy.groupby('cluster_3').mean()"
   ]
  },
  {
   "cell_type": "code",
   "execution_count": 67,
   "id": "d925c4a5-7f44-4e51-ac6c-a1e96c29cb01",
   "metadata": {},
   "outputs": [
    {
     "data": {
      "text/html": [
       "<div>\n",
       "<style scoped>\n",
       "    .dataframe tbody tr th:only-of-type {\n",
       "        vertical-align: middle;\n",
       "    }\n",
       "\n",
       "    .dataframe tbody tr th {\n",
       "        vertical-align: top;\n",
       "    }\n",
       "\n",
       "    .dataframe thead th {\n",
       "        text-align: right;\n",
       "    }\n",
       "</style>\n",
       "<table border=\"1\" class=\"dataframe\">\n",
       "  <thead>\n",
       "    <tr style=\"text-align: right;\">\n",
       "      <th>cluster_3</th>\n",
       "      <th>0</th>\n",
       "      <th>1</th>\n",
       "      <th>2</th>\n",
       "    </tr>\n",
       "  </thead>\n",
       "  <tbody>\n",
       "    <tr>\n",
       "      <th>BALANCE</th>\n",
       "      <td>563.883521</td>\n",
       "      <td>2746.401943</td>\n",
       "      <td>1713.200430</td>\n",
       "    </tr>\n",
       "    <tr>\n",
       "      <th>BALANCE_FREQUENCY</th>\n",
       "      <td>0.895128</td>\n",
       "      <td>0.961252</td>\n",
       "      <td>0.979542</td>\n",
       "    </tr>\n",
       "    <tr>\n",
       "      <th>PURCHASES</th>\n",
       "      <td>391.063068</td>\n",
       "      <td>230.364043</td>\n",
       "      <td>2074.501559</td>\n",
       "    </tr>\n",
       "    <tr>\n",
       "      <th>ONEOFF_PURCHASES</th>\n",
       "      <td>172.564842</td>\n",
       "      <td>139.715687</td>\n",
       "      <td>999.150914</td>\n",
       "    </tr>\n",
       "    <tr>\n",
       "      <th>INSTALLMENTS_PURCHASES</th>\n",
       "      <td>207.142375</td>\n",
       "      <td>78.795787</td>\n",
       "      <td>734.838123</td>\n",
       "    </tr>\n",
       "    <tr>\n",
       "      <th>CASH_ADVANCE</th>\n",
       "      <td>171.835916</td>\n",
       "      <td>1918.750672</td>\n",
       "      <td>392.237330</td>\n",
       "    </tr>\n",
       "    <tr>\n",
       "      <th>PURCHASES_FREQUENCY</th>\n",
       "      <td>0.456683</td>\n",
       "      <td>0.184778</td>\n",
       "      <td>0.907200</td>\n",
       "    </tr>\n",
       "    <tr>\n",
       "      <th>ONEOFF_PURCHASES_FREQUENCY</th>\n",
       "      <td>0.100633</td>\n",
       "      <td>0.078145</td>\n",
       "      <td>0.491358</td>\n",
       "    </tr>\n",
       "    <tr>\n",
       "      <th>PURCHASES_INSTALLMENTS_FREQUENCY</th>\n",
       "      <td>0.347641</td>\n",
       "      <td>0.109674</td>\n",
       "      <td>0.686884</td>\n",
       "    </tr>\n",
       "    <tr>\n",
       "      <th>CASH_ADVANCE_FREQUENCY</th>\n",
       "      <td>0.042268</td>\n",
       "      <td>0.341634</td>\n",
       "      <td>0.071351</td>\n",
       "    </tr>\n",
       "    <tr>\n",
       "      <th>CASH_ADVANCE_TRX</th>\n",
       "      <td>0.656925</td>\n",
       "      <td>6.723210</td>\n",
       "      <td>1.368932</td>\n",
       "    </tr>\n",
       "    <tr>\n",
       "      <th>PURCHASES_TRX</th>\n",
       "      <td>7.344602</td>\n",
       "      <td>3.518872</td>\n",
       "      <td>30.216990</td>\n",
       "    </tr>\n",
       "    <tr>\n",
       "      <th>CREDIT_LIMIT</th>\n",
       "      <td>3037.704493</td>\n",
       "      <td>5376.842174</td>\n",
       "      <td>6422.224184</td>\n",
       "    </tr>\n",
       "    <tr>\n",
       "      <th>PAYMENTS</th>\n",
       "      <td>689.356097</td>\n",
       "      <td>1732.670056</td>\n",
       "      <td>2379.563637</td>\n",
       "    </tr>\n",
       "    <tr>\n",
       "      <th>MINIMUM_PAYMENTS</th>\n",
       "      <td>320.371611</td>\n",
       "      <td>940.790488</td>\n",
       "      <td>653.159192</td>\n",
       "    </tr>\n",
       "    <tr>\n",
       "      <th>PRC_FULL_PAYMENT</th>\n",
       "      <td>0.098837</td>\n",
       "      <td>0.027320</td>\n",
       "      <td>0.128401</td>\n",
       "    </tr>\n",
       "    <tr>\n",
       "      <th>TENURE</th>\n",
       "      <td>11.437077</td>\n",
       "      <td>11.364425</td>\n",
       "      <td>11.866990</td>\n",
       "    </tr>\n",
       "    <tr>\n",
       "      <th>cluster_4</th>\n",
       "      <td>1.722792</td>\n",
       "      <td>1.819523</td>\n",
       "      <td>0.583981</td>\n",
       "    </tr>\n",
       "    <tr>\n",
       "      <th>cluster_5</th>\n",
       "      <td>2.402181</td>\n",
       "      <td>0.718004</td>\n",
       "      <td>2.543204</td>\n",
       "    </tr>\n",
       "    <tr>\n",
       "      <th>cluster_6</th>\n",
       "      <td>2.093348</td>\n",
       "      <td>3.195228</td>\n",
       "      <td>2.193204</td>\n",
       "    </tr>\n",
       "    <tr>\n",
       "      <th>cluster_7</th>\n",
       "      <td>1.887459</td>\n",
       "      <td>4.322343</td>\n",
       "      <td>3.976214</td>\n",
       "    </tr>\n",
       "    <tr>\n",
       "      <th>cluster_8</th>\n",
       "      <td>2.755071</td>\n",
       "      <td>4.300217</td>\n",
       "      <td>2.527670</td>\n",
       "    </tr>\n",
       "    <tr>\n",
       "      <th>cluster_9</th>\n",
       "      <td>3.468920</td>\n",
       "      <td>5.104555</td>\n",
       "      <td>2.590777</td>\n",
       "    </tr>\n",
       "    <tr>\n",
       "      <th>cluster_10</th>\n",
       "      <td>2.413086</td>\n",
       "      <td>5.360954</td>\n",
       "      <td>5.627184</td>\n",
       "    </tr>\n",
       "  </tbody>\n",
       "</table>\n",
       "</div>"
      ],
      "text/plain": [
       "cluster_3                                   0            1            2\n",
       "BALANCE                            563.883521  2746.401943  1713.200430\n",
       "BALANCE_FREQUENCY                    0.895128     0.961252     0.979542\n",
       "PURCHASES                          391.063068   230.364043  2074.501559\n",
       "ONEOFF_PURCHASES                   172.564842   139.715687   999.150914\n",
       "INSTALLMENTS_PURCHASES             207.142375    78.795787   734.838123\n",
       "CASH_ADVANCE                       171.835916  1918.750672   392.237330\n",
       "PURCHASES_FREQUENCY                  0.456683     0.184778     0.907200\n",
       "ONEOFF_PURCHASES_FREQUENCY           0.100633     0.078145     0.491358\n",
       "PURCHASES_INSTALLMENTS_FREQUENCY     0.347641     0.109674     0.686884\n",
       "CASH_ADVANCE_FREQUENCY               0.042268     0.341634     0.071351\n",
       "CASH_ADVANCE_TRX                     0.656925     6.723210     1.368932\n",
       "PURCHASES_TRX                        7.344602     3.518872    30.216990\n",
       "CREDIT_LIMIT                      3037.704493  5376.842174  6422.224184\n",
       "PAYMENTS                           689.356097  1732.670056  2379.563637\n",
       "MINIMUM_PAYMENTS                   320.371611   940.790488   653.159192\n",
       "PRC_FULL_PAYMENT                     0.098837     0.027320     0.128401\n",
       "TENURE                              11.437077    11.364425    11.866990\n",
       "cluster_4                            1.722792     1.819523     0.583981\n",
       "cluster_5                            2.402181     0.718004     2.543204\n",
       "cluster_6                            2.093348     3.195228     2.193204\n",
       "cluster_7                            1.887459     4.322343     3.976214\n",
       "cluster_8                            2.755071     4.300217     2.527670\n",
       "cluster_9                            3.468920     5.104555     2.590777\n",
       "cluster_10                           2.413086     5.360954     5.627184"
      ]
     },
     "execution_count": 67,
     "metadata": {},
     "output_type": "execute_result"
    }
   ],
   "source": [
    "clust_copy.groupby('cluster_3').mean().T"
   ]
  },
  {
   "cell_type": "code",
   "execution_count": 68,
   "id": "0ebc4905-4550-4ec2-9823-399aa806da23",
   "metadata": {},
   "outputs": [
    {
     "data": {
      "text/html": [
       "<div>\n",
       "<style scoped>\n",
       "    .dataframe tbody tr th:only-of-type {\n",
       "        vertical-align: middle;\n",
       "    }\n",
       "\n",
       "    .dataframe tbody tr th {\n",
       "        vertical-align: top;\n",
       "    }\n",
       "\n",
       "    .dataframe thead th {\n",
       "        text-align: right;\n",
       "    }\n",
       "</style>\n",
       "<table border=\"1\" class=\"dataframe\">\n",
       "  <thead>\n",
       "    <tr style=\"text-align: right;\">\n",
       "      <th>cluster_3</th>\n",
       "      <th>0</th>\n",
       "      <th>1</th>\n",
       "      <th>2</th>\n",
       "    </tr>\n",
       "  </thead>\n",
       "  <tbody>\n",
       "    <tr>\n",
       "      <th>BALANCE</th>\n",
       "      <td>2.585406e+06</td>\n",
       "      <td>6.330456e+06</td>\n",
       "      <td>3.529193e+06</td>\n",
       "    </tr>\n",
       "    <tr>\n",
       "      <th>BALANCE_FREQUENCY</th>\n",
       "      <td>4.104163e+03</td>\n",
       "      <td>2.215685e+03</td>\n",
       "      <td>2.017856e+03</td>\n",
       "    </tr>\n",
       "    <tr>\n",
       "      <th>PURCHASES</th>\n",
       "      <td>1.793024e+06</td>\n",
       "      <td>5.309891e+05</td>\n",
       "      <td>4.273473e+06</td>\n",
       "    </tr>\n",
       "    <tr>\n",
       "      <th>ONEOFF_PURCHASES</th>\n",
       "      <td>7.912098e+05</td>\n",
       "      <td>3.220447e+05</td>\n",
       "      <td>2.058251e+06</td>\n",
       "    </tr>\n",
       "    <tr>\n",
       "      <th>INSTALLMENTS_PURCHASES</th>\n",
       "      <td>9.497478e+05</td>\n",
       "      <td>1.816243e+05</td>\n",
       "      <td>1.513767e+06</td>\n",
       "    </tr>\n",
       "    <tr>\n",
       "      <th>CASH_ADVANCE</th>\n",
       "      <td>7.878677e+05</td>\n",
       "      <td>4.422720e+06</td>\n",
       "      <td>8.080089e+05</td>\n",
       "    </tr>\n",
       "    <tr>\n",
       "      <th>PURCHASES_FREQUENCY</th>\n",
       "      <td>2.093891e+03</td>\n",
       "      <td>4.259132e+02</td>\n",
       "      <td>1.868833e+03</td>\n",
       "    </tr>\n",
       "    <tr>\n",
       "      <th>ONEOFF_PURCHASES_FREQUENCY</th>\n",
       "      <td>4.614002e+02</td>\n",
       "      <td>1.801232e+02</td>\n",
       "      <td>1.012198e+03</td>\n",
       "    </tr>\n",
       "    <tr>\n",
       "      <th>PURCHASES_INSTALLMENTS_FREQUENCY</th>\n",
       "      <td>1.593935e+03</td>\n",
       "      <td>2.527987e+02</td>\n",
       "      <td>1.414980e+03</td>\n",
       "    </tr>\n",
       "    <tr>\n",
       "      <th>CASH_ADVANCE_FREQUENCY</th>\n",
       "      <td>1.937989e+02</td>\n",
       "      <td>7.874667e+02</td>\n",
       "      <td>1.469820e+02</td>\n",
       "    </tr>\n",
       "    <tr>\n",
       "      <th>CASH_ADVANCE_TRX</th>\n",
       "      <td>3.012000e+03</td>\n",
       "      <td>1.549700e+04</td>\n",
       "      <td>2.820000e+03</td>\n",
       "    </tr>\n",
       "    <tr>\n",
       "      <th>PURCHASES_TRX</th>\n",
       "      <td>3.367500e+04</td>\n",
       "      <td>8.111000e+03</td>\n",
       "      <td>6.224700e+04</td>\n",
       "    </tr>\n",
       "    <tr>\n",
       "      <th>CREDIT_LIMIT</th>\n",
       "      <td>1.392788e+07</td>\n",
       "      <td>1.239362e+07</td>\n",
       "      <td>1.322978e+07</td>\n",
       "    </tr>\n",
       "    <tr>\n",
       "      <th>PAYMENTS</th>\n",
       "      <td>3.160698e+06</td>\n",
       "      <td>3.993804e+06</td>\n",
       "      <td>4.901901e+06</td>\n",
       "    </tr>\n",
       "    <tr>\n",
       "      <th>MINIMUM_PAYMENTS</th>\n",
       "      <td>1.468904e+06</td>\n",
       "      <td>2.168522e+06</td>\n",
       "      <td>1.345508e+06</td>\n",
       "    </tr>\n",
       "    <tr>\n",
       "      <th>PRC_FULL_PAYMENT</th>\n",
       "      <td>4.531673e+02</td>\n",
       "      <td>6.297338e+01</td>\n",
       "      <td>2.645058e+02</td>\n",
       "    </tr>\n",
       "    <tr>\n",
       "      <th>TENURE</th>\n",
       "      <td>5.243900e+04</td>\n",
       "      <td>2.619500e+04</td>\n",
       "      <td>2.444600e+04</td>\n",
       "    </tr>\n",
       "    <tr>\n",
       "      <th>cluster_4</th>\n",
       "      <td>7.899000e+03</td>\n",
       "      <td>4.194000e+03</td>\n",
       "      <td>1.203000e+03</td>\n",
       "    </tr>\n",
       "    <tr>\n",
       "      <th>cluster_5</th>\n",
       "      <td>1.101400e+04</td>\n",
       "      <td>1.655000e+03</td>\n",
       "      <td>5.239000e+03</td>\n",
       "    </tr>\n",
       "    <tr>\n",
       "      <th>cluster_6</th>\n",
       "      <td>9.598000e+03</td>\n",
       "      <td>7.365000e+03</td>\n",
       "      <td>4.518000e+03</td>\n",
       "    </tr>\n",
       "    <tr>\n",
       "      <th>cluster_7</th>\n",
       "      <td>8.654000e+03</td>\n",
       "      <td>9.963000e+03</td>\n",
       "      <td>8.191000e+03</td>\n",
       "    </tr>\n",
       "    <tr>\n",
       "      <th>cluster_8</th>\n",
       "      <td>1.263200e+04</td>\n",
       "      <td>9.912000e+03</td>\n",
       "      <td>5.207000e+03</td>\n",
       "    </tr>\n",
       "    <tr>\n",
       "      <th>cluster_9</th>\n",
       "      <td>1.590500e+04</td>\n",
       "      <td>1.176600e+04</td>\n",
       "      <td>5.337000e+03</td>\n",
       "    </tr>\n",
       "    <tr>\n",
       "      <th>cluster_10</th>\n",
       "      <td>1.106400e+04</td>\n",
       "      <td>1.235700e+04</td>\n",
       "      <td>1.159200e+04</td>\n",
       "    </tr>\n",
       "  </tbody>\n",
       "</table>\n",
       "</div>"
      ],
      "text/plain": [
       "cluster_3                                    0             1             2\n",
       "BALANCE                           2.585406e+06  6.330456e+06  3.529193e+06\n",
       "BALANCE_FREQUENCY                 4.104163e+03  2.215685e+03  2.017856e+03\n",
       "PURCHASES                         1.793024e+06  5.309891e+05  4.273473e+06\n",
       "ONEOFF_PURCHASES                  7.912098e+05  3.220447e+05  2.058251e+06\n",
       "INSTALLMENTS_PURCHASES            9.497478e+05  1.816243e+05  1.513767e+06\n",
       "CASH_ADVANCE                      7.878677e+05  4.422720e+06  8.080089e+05\n",
       "PURCHASES_FREQUENCY               2.093891e+03  4.259132e+02  1.868833e+03\n",
       "ONEOFF_PURCHASES_FREQUENCY        4.614002e+02  1.801232e+02  1.012198e+03\n",
       "PURCHASES_INSTALLMENTS_FREQUENCY  1.593935e+03  2.527987e+02  1.414980e+03\n",
       "CASH_ADVANCE_FREQUENCY            1.937989e+02  7.874667e+02  1.469820e+02\n",
       "CASH_ADVANCE_TRX                  3.012000e+03  1.549700e+04  2.820000e+03\n",
       "PURCHASES_TRX                     3.367500e+04  8.111000e+03  6.224700e+04\n",
       "CREDIT_LIMIT                      1.392788e+07  1.239362e+07  1.322978e+07\n",
       "PAYMENTS                          3.160698e+06  3.993804e+06  4.901901e+06\n",
       "MINIMUM_PAYMENTS                  1.468904e+06  2.168522e+06  1.345508e+06\n",
       "PRC_FULL_PAYMENT                  4.531673e+02  6.297338e+01  2.645058e+02\n",
       "TENURE                            5.243900e+04  2.619500e+04  2.444600e+04\n",
       "cluster_4                         7.899000e+03  4.194000e+03  1.203000e+03\n",
       "cluster_5                         1.101400e+04  1.655000e+03  5.239000e+03\n",
       "cluster_6                         9.598000e+03  7.365000e+03  4.518000e+03\n",
       "cluster_7                         8.654000e+03  9.963000e+03  8.191000e+03\n",
       "cluster_8                         1.263200e+04  9.912000e+03  5.207000e+03\n",
       "cluster_9                         1.590500e+04  1.176600e+04  5.337000e+03\n",
       "cluster_10                        1.106400e+04  1.235700e+04  1.159200e+04"
      ]
     },
     "execution_count": 68,
     "metadata": {},
     "output_type": "execute_result"
    }
   ],
   "source": [
    "clust_copy.groupby('cluster_3').sum().T"
   ]
  },
  {
   "cell_type": "code",
   "execution_count": 69,
   "id": "cde39a78-13ec-40e5-bdf2-44341610ee1c",
   "metadata": {},
   "outputs": [
    {
     "data": {
      "text/html": [
       "<div>\n",
       "<style scoped>\n",
       "    .dataframe tbody tr th:only-of-type {\n",
       "        vertical-align: middle;\n",
       "    }\n",
       "\n",
       "    .dataframe tbody tr th {\n",
       "        vertical-align: top;\n",
       "    }\n",
       "\n",
       "    .dataframe thead th {\n",
       "        text-align: right;\n",
       "    }\n",
       "</style>\n",
       "<table border=\"1\" class=\"dataframe\">\n",
       "  <thead>\n",
       "    <tr style=\"text-align: right;\">\n",
       "      <th></th>\n",
       "      <th>0</th>\n",
       "      <th>0</th>\n",
       "      <th>1</th>\n",
       "      <th>2</th>\n",
       "      <th>0</th>\n",
       "      <th>1</th>\n",
       "      <th>2</th>\n",
       "      <th>3</th>\n",
       "      <th>0</th>\n",
       "      <th>1</th>\n",
       "      <th>...</th>\n",
       "      <th>0</th>\n",
       "      <th>1</th>\n",
       "      <th>2</th>\n",
       "      <th>3</th>\n",
       "      <th>4</th>\n",
       "      <th>5</th>\n",
       "      <th>6</th>\n",
       "      <th>7</th>\n",
       "      <th>8</th>\n",
       "      <th>9</th>\n",
       "    </tr>\n",
       "  </thead>\n",
       "  <tbody>\n",
       "    <tr>\n",
       "      <th>BALANCE</th>\n",
       "      <td>1390.508973</td>\n",
       "      <td>563.883521</td>\n",
       "      <td>2746.401943</td>\n",
       "      <td>1713.200430</td>\n",
       "      <td>1873.704983</td>\n",
       "      <td>772.327413</td>\n",
       "      <td>3051.033828</td>\n",
       "      <td>508.228972</td>\n",
       "      <td>3196.250221</td>\n",
       "      <td>549.708097</td>\n",
       "      <td>...</td>\n",
       "      <td>707.900447</td>\n",
       "      <td>527.471020</td>\n",
       "      <td>1101.393769</td>\n",
       "      <td>114.183209</td>\n",
       "      <td>1334.909551</td>\n",
       "      <td>1492.757752</td>\n",
       "      <td>3521.300155</td>\n",
       "      <td>4421.780252</td>\n",
       "      <td>3457.329462</td>\n",
       "      <td>582.653862</td>\n",
       "    </tr>\n",
       "    <tr>\n",
       "      <th>BALANCE_FREQUENCY</th>\n",
       "      <td>0.931587</td>\n",
       "      <td>0.895128</td>\n",
       "      <td>0.961252</td>\n",
       "      <td>0.979542</td>\n",
       "      <td>0.980325</td>\n",
       "      <td>0.885499</td>\n",
       "      <td>0.966897</td>\n",
       "      <td>0.935171</td>\n",
       "      <td>0.966389</td>\n",
       "      <td>0.956521</td>\n",
       "      <td>...</td>\n",
       "      <td>0.848067</td>\n",
       "      <td>0.957496</td>\n",
       "      <td>0.959628</td>\n",
       "      <td>0.736501</td>\n",
       "      <td>0.991307</td>\n",
       "      <td>0.944092</td>\n",
       "      <td>0.994701</td>\n",
       "      <td>0.985035</td>\n",
       "      <td>0.985175</td>\n",
       "      <td>0.970545</td>\n",
       "    </tr>\n",
       "    <tr>\n",
       "      <th>PURCHASES</th>\n",
       "      <td>737.149330</td>\n",
       "      <td>391.063068</td>\n",
       "      <td>230.364043</td>\n",
       "      <td>2074.501559</td>\n",
       "      <td>2203.409524</td>\n",
       "      <td>268.499873</td>\n",
       "      <td>269.400705</td>\n",
       "      <td>737.889080</td>\n",
       "      <td>304.451369</td>\n",
       "      <td>792.529975</td>\n",
       "      <td>...</td>\n",
       "      <td>266.833364</td>\n",
       "      <td>781.520452</td>\n",
       "      <td>1252.355246</td>\n",
       "      <td>283.289661</td>\n",
       "      <td>147.694434</td>\n",
       "      <td>119.822130</td>\n",
       "      <td>2379.641552</td>\n",
       "      <td>162.433923</td>\n",
       "      <td>1649.089929</td>\n",
       "      <td>2386.959985</td>\n",
       "    </tr>\n",
       "    <tr>\n",
       "      <th>ONEOFF_PURCHASES</th>\n",
       "      <td>354.358139</td>\n",
       "      <td>172.564842</td>\n",
       "      <td>139.715687</td>\n",
       "      <td>999.150914</td>\n",
       "      <td>1185.368242</td>\n",
       "      <td>210.940134</td>\n",
       "      <td>155.580687</td>\n",
       "      <td>97.738389</td>\n",
       "      <td>171.697393</td>\n",
       "      <td>100.964678</td>\n",
       "      <td>...</td>\n",
       "      <td>149.094430</td>\n",
       "      <td>80.863933</td>\n",
       "      <td>981.255358</td>\n",
       "      <td>151.527587</td>\n",
       "      <td>98.498524</td>\n",
       "      <td>88.695296</td>\n",
       "      <td>1138.203132</td>\n",
       "      <td>110.799990</td>\n",
       "      <td>787.239491</td>\n",
       "      <td>1201.701141</td>\n",
       "    </tr>\n",
       "    <tr>\n",
       "      <th>INSTALLMENTS_PURCHASES</th>\n",
       "      <td>295.546214</td>\n",
       "      <td>207.142375</td>\n",
       "      <td>78.795787</td>\n",
       "      <td>734.838123</td>\n",
       "      <td>676.017948</td>\n",
       "      <td>49.082622</td>\n",
       "      <td>97.823193</td>\n",
       "      <td>566.099670</td>\n",
       "      <td>111.929028</td>\n",
       "      <td>603.734331</td>\n",
       "      <td>...</td>\n",
       "      <td>115.209528</td>\n",
       "      <td>615.528808</td>\n",
       "      <td>115.188960</td>\n",
       "      <td>129.196310</td>\n",
       "      <td>49.298282</td>\n",
       "      <td>30.559696</td>\n",
       "      <td>885.388900</td>\n",
       "      <td>50.493448</td>\n",
       "      <td>657.440376</td>\n",
       "      <td>789.836174</td>\n",
       "    </tr>\n",
       "    <tr>\n",
       "      <th>CASH_ADVANCE</th>\n",
       "      <td>672.468924</td>\n",
       "      <td>171.835916</td>\n",
       "      <td>1918.750672</td>\n",
       "      <td>392.237330</td>\n",
       "      <td>423.408333</td>\n",
       "      <td>339.036132</td>\n",
       "      <td>2120.803783</td>\n",
       "      <td>108.748262</td>\n",
       "      <td>2282.693446</td>\n",
       "      <td>118.194887</td>\n",
       "      <td>...</td>\n",
       "      <td>842.445913</td>\n",
       "      <td>92.023341</td>\n",
       "      <td>151.235885</td>\n",
       "      <td>185.530130</td>\n",
       "      <td>329.261479</td>\n",
       "      <td>1834.047707</td>\n",
       "      <td>315.976156</td>\n",
       "      <td>2299.451296</td>\n",
       "      <td>2350.688385</td>\n",
       "      <td>71.351897</td>\n",
       "    </tr>\n",
       "    <tr>\n",
       "      <th>PURCHASES_FREQUENCY</th>\n",
       "      <td>0.490351</td>\n",
       "      <td>0.456683</td>\n",
       "      <td>0.184778</td>\n",
       "      <td>0.907200</td>\n",
       "      <td>0.899372</td>\n",
       "      <td>0.208127</td>\n",
       "      <td>0.212553</td>\n",
       "      <td>0.867760</td>\n",
       "      <td>0.231973</td>\n",
       "      <td>0.905123</td>\n",
       "      <td>...</td>\n",
       "      <td>0.382072</td>\n",
       "      <td>0.908827</td>\n",
       "      <td>0.671440</td>\n",
       "      <td>0.263838</td>\n",
       "      <td>0.159525</td>\n",
       "      <td>0.108662</td>\n",
       "      <td>0.928030</td>\n",
       "      <td>0.137664</td>\n",
       "      <td>0.848944</td>\n",
       "      <td>0.943714</td>\n",
       "    </tr>\n",
       "    <tr>\n",
       "      <th>ONEOFF_PURCHASES_FREQUENCY</th>\n",
       "      <td>0.184773</td>\n",
       "      <td>0.100633</td>\n",
       "      <td>0.078145</td>\n",
       "      <td>0.491358</td>\n",
       "      <td>0.577536</td>\n",
       "      <td>0.117163</td>\n",
       "      <td>0.086007</td>\n",
       "      <td>0.067536</td>\n",
       "      <td>0.093229</td>\n",
       "      <td>0.071036</td>\n",
       "      <td>...</td>\n",
       "      <td>0.096003</td>\n",
       "      <td>0.054786</td>\n",
       "      <td>0.527329</td>\n",
       "      <td>0.070797</td>\n",
       "      <td>0.064840</td>\n",
       "      <td>0.056113</td>\n",
       "      <td>0.511500</td>\n",
       "      <td>0.055456</td>\n",
       "      <td>0.373793</td>\n",
       "      <td>0.615382</td>\n",
       "    </tr>\n",
       "    <tr>\n",
       "      <th>PURCHASES_INSTALLMENTS_FREQUENCY</th>\n",
       "      <td>0.364437</td>\n",
       "      <td>0.347641</td>\n",
       "      <td>0.109674</td>\n",
       "      <td>0.686884</td>\n",
       "      <td>0.630598</td>\n",
       "      <td>0.084104</td>\n",
       "      <td>0.131887</td>\n",
       "      <td>0.812782</td>\n",
       "      <td>0.146983</td>\n",
       "      <td>0.853770</td>\n",
       "      <td>...</td>\n",
       "      <td>0.257954</td>\n",
       "      <td>0.871014</td>\n",
       "      <td>0.170394</td>\n",
       "      <td>0.182283</td>\n",
       "      <td>0.093690</td>\n",
       "      <td>0.052344</td>\n",
       "      <td>0.787303</td>\n",
       "      <td>0.079044</td>\n",
       "      <td>0.664016</td>\n",
       "      <td>0.721867</td>\n",
       "    </tr>\n",
       "    <tr>\n",
       "      <th>CASH_ADVANCE_FREQUENCY</th>\n",
       "      <td>0.126061</td>\n",
       "      <td>0.042268</td>\n",
       "      <td>0.341634</td>\n",
       "      <td>0.071351</td>\n",
       "      <td>0.075522</td>\n",
       "      <td>0.077051</td>\n",
       "      <td>0.370670</td>\n",
       "      <td>0.025859</td>\n",
       "      <td>0.390135</td>\n",
       "      <td>0.026800</td>\n",
       "      <td>...</td>\n",
       "      <td>0.171543</td>\n",
       "      <td>0.022166</td>\n",
       "      <td>0.040837</td>\n",
       "      <td>0.024153</td>\n",
       "      <td>0.089565</td>\n",
       "      <td>0.357815</td>\n",
       "      <td>0.047420</td>\n",
       "      <td>0.364649</td>\n",
       "      <td>0.398566</td>\n",
       "      <td>0.017686</td>\n",
       "    </tr>\n",
       "    <tr>\n",
       "      <th>CASH_ADVANCE_TRX</th>\n",
       "      <td>2.383128</td>\n",
       "      <td>0.656925</td>\n",
       "      <td>6.723210</td>\n",
       "      <td>1.368932</td>\n",
       "      <td>1.451923</td>\n",
       "      <td>1.255001</td>\n",
       "      <td>7.388948</td>\n",
       "      <td>0.452002</td>\n",
       "      <td>7.837166</td>\n",
       "      <td>0.469421</td>\n",
       "      <td>...</td>\n",
       "      <td>2.624299</td>\n",
       "      <td>0.394588</td>\n",
       "      <td>0.667072</td>\n",
       "      <td>0.403877</td>\n",
       "      <td>1.419847</td>\n",
       "      <td>7.311957</td>\n",
       "      <td>0.773019</td>\n",
       "      <td>7.245542</td>\n",
       "      <td>8.175355</td>\n",
       "      <td>0.300763</td>\n",
       "    </tr>\n",
       "    <tr>\n",
       "      <th>PURCHASES_TRX</th>\n",
       "      <td>11.623799</td>\n",
       "      <td>7.344602</td>\n",
       "      <td>3.518872</td>\n",
       "      <td>30.216990</td>\n",
       "      <td>31.209135</td>\n",
       "      <td>3.388773</td>\n",
       "      <td>4.204399</td>\n",
       "      <td>15.877955</td>\n",
       "      <td>4.717837</td>\n",
       "      <td>17.126722</td>\n",
       "      <td>...</td>\n",
       "      <td>4.069159</td>\n",
       "      <td>17.190686</td>\n",
       "      <td>15.455650</td>\n",
       "      <td>4.050081</td>\n",
       "      <td>2.553435</td>\n",
       "      <td>1.836957</td>\n",
       "      <td>34.475375</td>\n",
       "      <td>2.248285</td>\n",
       "      <td>26.000000</td>\n",
       "      <td>34.184733</td>\n",
       "    </tr>\n",
       "    <tr>\n",
       "      <th>CREDIT_LIMIT</th>\n",
       "      <td>4419.137221</td>\n",
       "      <td>3037.704493</td>\n",
       "      <td>5376.842174</td>\n",
       "      <td>6422.224184</td>\n",
       "      <td>6853.895323</td>\n",
       "      <td>3176.689740</td>\n",
       "      <td>5927.371895</td>\n",
       "      <td>3115.794096</td>\n",
       "      <td>6277.297211</td>\n",
       "      <td>3114.127362</td>\n",
       "      <td>...</td>\n",
       "      <td>2259.289720</td>\n",
       "      <td>3086.463915</td>\n",
       "      <td>4481.604625</td>\n",
       "      <td>3945.236941</td>\n",
       "      <td>2817.048346</td>\n",
       "      <td>3369.583333</td>\n",
       "      <td>8525.481799</td>\n",
       "      <td>8260.980172</td>\n",
       "      <td>7254.976303</td>\n",
       "      <td>6522.033310</td>\n",
       "    </tr>\n",
       "    <tr>\n",
       "      <th>PAYMENTS</th>\n",
       "      <td>1347.084165</td>\n",
       "      <td>689.356097</td>\n",
       "      <td>1732.670056</td>\n",
       "      <td>2379.563637</td>\n",
       "      <td>2532.134400</td>\n",
       "      <td>743.923185</td>\n",
       "      <td>1912.194380</td>\n",
       "      <td>862.133413</td>\n",
       "      <td>2051.996367</td>\n",
       "      <td>908.336759</td>\n",
       "      <td>...</td>\n",
       "      <td>432.200281</td>\n",
       "      <td>883.857831</td>\n",
       "      <td>1259.636150</td>\n",
       "      <td>818.685867</td>\n",
       "      <td>638.620512</td>\n",
       "      <td>1604.801329</td>\n",
       "      <td>2615.694338</td>\n",
       "      <td>2188.861110</td>\n",
       "      <td>2838.685436</td>\n",
       "      <td>2862.670915</td>\n",
       "    </tr>\n",
       "    <tr>\n",
       "      <th>MINIMUM_PAYMENTS</th>\n",
       "      <td>556.752385</td>\n",
       "      <td>320.371611</td>\n",
       "      <td>940.790488</td>\n",
       "      <td>653.159192</td>\n",
       "      <td>656.460222</td>\n",
       "      <td>356.219077</td>\n",
       "      <td>1029.602951</td>\n",
       "      <td>375.507210</td>\n",
       "      <td>1067.256590</td>\n",
       "      <td>399.175532</td>\n",
       "      <td>...</td>\n",
       "      <td>272.997319</td>\n",
       "      <td>400.464973</td>\n",
       "      <td>444.728486</td>\n",
       "      <td>163.810616</td>\n",
       "      <td>554.258084</td>\n",
       "      <td>533.955015</td>\n",
       "      <td>1174.364168</td>\n",
       "      <td>1450.963610</td>\n",
       "      <td>1205.025113</td>\n",
       "      <td>235.876176</td>\n",
       "    </tr>\n",
       "    <tr>\n",
       "      <th>PRC_FULL_PAYMENT</th>\n",
       "      <td>0.087223</td>\n",
       "      <td>0.098837</td>\n",
       "      <td>0.027320</td>\n",
       "      <td>0.128401</td>\n",
       "      <td>0.125990</td>\n",
       "      <td>0.056144</td>\n",
       "      <td>0.029035</td>\n",
       "      <td>0.158635</td>\n",
       "      <td>0.030090</td>\n",
       "      <td>0.150048</td>\n",
       "      <td>...</td>\n",
       "      <td>0.071322</td>\n",
       "      <td>0.149578</td>\n",
       "      <td>0.074752</td>\n",
       "      <td>0.147606</td>\n",
       "      <td>0.007520</td>\n",
       "      <td>0.050184</td>\n",
       "      <td>0.014618</td>\n",
       "      <td>0.011710</td>\n",
       "      <td>0.040733</td>\n",
       "      <td>0.259558</td>\n",
       "    </tr>\n",
       "    <tr>\n",
       "      <th>TENURE</th>\n",
       "      <td>11.517318</td>\n",
       "      <td>11.437077</td>\n",
       "      <td>11.364425</td>\n",
       "      <td>11.866990</td>\n",
       "      <td>11.865385</td>\n",
       "      <td>11.458346</td>\n",
       "      <td>11.375536</td>\n",
       "      <td>11.460685</td>\n",
       "      <td>11.368552</td>\n",
       "      <td>11.560331</td>\n",
       "      <td>...</td>\n",
       "      <td>7.128972</td>\n",
       "      <td>11.781624</td>\n",
       "      <td>11.754557</td>\n",
       "      <td>11.820679</td>\n",
       "      <td>11.905852</td>\n",
       "      <td>11.651087</td>\n",
       "      <td>11.959315</td>\n",
       "      <td>11.672154</td>\n",
       "      <td>11.654028</td>\n",
       "      <td>11.893130</td>\n",
       "    </tr>\n",
       "    <tr>\n",
       "      <th>cluster_3</th>\n",
       "      <td>0.717877</td>\n",
       "      <td>NaN</td>\n",
       "      <td>NaN</td>\n",
       "      <td>NaN</td>\n",
       "      <td>1.984375</td>\n",
       "      <td>0.131980</td>\n",
       "      <td>1.011266</td>\n",
       "      <td>0.383985</td>\n",
       "      <td>1.020510</td>\n",
       "      <td>0.461157</td>\n",
       "      <td>...</td>\n",
       "      <td>0.295327</td>\n",
       "      <td>0.421020</td>\n",
       "      <td>0.959903</td>\n",
       "      <td>0.016963</td>\n",
       "      <td>0.177481</td>\n",
       "      <td>0.965217</td>\n",
       "      <td>2.000000</td>\n",
       "      <td>1.000000</td>\n",
       "      <td>1.533175</td>\n",
       "      <td>2.000000</td>\n",
       "    </tr>\n",
       "    <tr>\n",
       "      <th>cluster_4</th>\n",
       "      <td>1.485587</td>\n",
       "      <td>1.722792</td>\n",
       "      <td>1.819523</td>\n",
       "      <td>0.583981</td>\n",
       "      <td>NaN</td>\n",
       "      <td>NaN</td>\n",
       "      <td>NaN</td>\n",
       "      <td>NaN</td>\n",
       "      <td>1.983841</td>\n",
       "      <td>2.954270</td>\n",
       "      <td>...</td>\n",
       "      <td>1.704673</td>\n",
       "      <td>2.983638</td>\n",
       "      <td>0.705954</td>\n",
       "      <td>1.311793</td>\n",
       "      <td>1.110687</td>\n",
       "      <td>1.795652</td>\n",
       "      <td>0.051392</td>\n",
       "      <td>2.000000</td>\n",
       "      <td>1.109005</td>\n",
       "      <td>0.137405</td>\n",
       "    </tr>\n",
       "    <tr>\n",
       "      <th>cluster_5</th>\n",
       "      <td>2.000894</td>\n",
       "      <td>2.402181</td>\n",
       "      <td>0.718004</td>\n",
       "      <td>2.543204</td>\n",
       "      <td>2.931490</td>\n",
       "      <td>2.871305</td>\n",
       "      <td>0.321352</td>\n",
       "      <td>1.357935</td>\n",
       "      <td>NaN</td>\n",
       "      <td>NaN</td>\n",
       "      <td>...</td>\n",
       "      <td>2.829907</td>\n",
       "      <td>1.010069</td>\n",
       "      <td>2.609964</td>\n",
       "      <td>3.916801</td>\n",
       "      <td>2.005725</td>\n",
       "      <td>0.840217</td>\n",
       "      <td>2.935760</td>\n",
       "      <td>0.063100</td>\n",
       "      <td>1.298578</td>\n",
       "      <td>2.902290</td>\n",
       "    </tr>\n",
       "    <tr>\n",
       "      <th>cluster_6</th>\n",
       "      <td>2.400112</td>\n",
       "      <td>2.093348</td>\n",
       "      <td>3.195228</td>\n",
       "      <td>2.193204</td>\n",
       "      <td>2.632212</td>\n",
       "      <td>2.734548</td>\n",
       "      <td>3.556867</td>\n",
       "      <td>0.633382</td>\n",
       "      <td>3.828465</td>\n",
       "      <td>0.103581</td>\n",
       "      <td>...</td>\n",
       "      <td>3.809346</td>\n",
       "      <td>0.026432</td>\n",
       "      <td>2.331713</td>\n",
       "      <td>4.848950</td>\n",
       "      <td>1.022265</td>\n",
       "      <td>3.264130</td>\n",
       "      <td>2.254818</td>\n",
       "      <td>3.886145</td>\n",
       "      <td>2.504739</td>\n",
       "      <td>2.940458</td>\n",
       "    </tr>\n",
       "    <tr>\n",
       "      <th>cluster_7</th>\n",
       "      <td>2.995307</td>\n",
       "      <td>1.887459</td>\n",
       "      <td>4.322343</td>\n",
       "      <td>3.976214</td>\n",
       "      <td>4.584736</td>\n",
       "      <td>2.205136</td>\n",
       "      <td>4.943670</td>\n",
       "      <td>1.244091</td>\n",
       "      <td>5.399627</td>\n",
       "      <td>1.114050</td>\n",
       "      <td>...</td>\n",
       "      <td>0.020561</td>\n",
       "      <td>1.023914</td>\n",
       "      <td>3.522479</td>\n",
       "      <td>2.996769</td>\n",
       "      <td>2.005089</td>\n",
       "      <td>4.442391</td>\n",
       "      <td>4.211991</td>\n",
       "      <td>5.879287</td>\n",
       "      <td>4.402844</td>\n",
       "      <td>4.902290</td>\n",
       "    </tr>\n",
       "    <tr>\n",
       "      <th>cluster_8</th>\n",
       "      <td>3.100670</td>\n",
       "      <td>2.755071</td>\n",
       "      <td>4.300217</td>\n",
       "      <td>2.527670</td>\n",
       "      <td>3.000601</td>\n",
       "      <td>3.888623</td>\n",
       "      <td>4.119099</td>\n",
       "      <td>0.992282</td>\n",
       "      <td>3.882536</td>\n",
       "      <td>0.497521</td>\n",
       "      <td>...</td>\n",
       "      <td>6.003738</td>\n",
       "      <td>0.050975</td>\n",
       "      <td>2.646416</td>\n",
       "      <td>3.997577</td>\n",
       "      <td>3.213740</td>\n",
       "      <td>6.961957</td>\n",
       "      <td>4.237687</td>\n",
       "      <td>1.257888</td>\n",
       "      <td>3.981043</td>\n",
       "      <td>1.981679</td>\n",
       "    </tr>\n",
       "    <tr>\n",
       "      <th>cluster_9</th>\n",
       "      <td>3.688045</td>\n",
       "      <td>3.468920</td>\n",
       "      <td>5.104555</td>\n",
       "      <td>2.590777</td>\n",
       "      <td>2.450721</td>\n",
       "      <td>3.753658</td>\n",
       "      <td>5.216202</td>\n",
       "      <td>3.201158</td>\n",
       "      <td>5.333748</td>\n",
       "      <td>3.144353</td>\n",
       "      <td>...</td>\n",
       "      <td>7.988785</td>\n",
       "      <td>2.996224</td>\n",
       "      <td>0.147023</td>\n",
       "      <td>2.000000</td>\n",
       "      <td>4.996183</td>\n",
       "      <td>4.023913</td>\n",
       "      <td>4.740899</td>\n",
       "      <td>5.927298</td>\n",
       "      <td>6.255924</td>\n",
       "      <td>0.984733</td>\n",
       "    </tr>\n",
       "    <tr>\n",
       "      <th>cluster_10</th>\n",
       "      <td>3.912067</td>\n",
       "      <td>2.413086</td>\n",
       "      <td>5.360954</td>\n",
       "      <td>5.627184</td>\n",
       "      <td>6.427885</td>\n",
       "      <td>3.169901</td>\n",
       "      <td>5.791845</td>\n",
       "      <td>1.401351</td>\n",
       "      <td>6.040398</td>\n",
       "      <td>1.280441</td>\n",
       "      <td>...</td>\n",
       "      <td>NaN</td>\n",
       "      <td>NaN</td>\n",
       "      <td>NaN</td>\n",
       "      <td>NaN</td>\n",
       "      <td>NaN</td>\n",
       "      <td>NaN</td>\n",
       "      <td>NaN</td>\n",
       "      <td>NaN</td>\n",
       "      <td>NaN</td>\n",
       "      <td>NaN</td>\n",
       "    </tr>\n",
       "  </tbody>\n",
       "</table>\n",
       "<p>25 rows × 53 columns</p>\n",
       "</div>"
      ],
      "text/plain": [
       "                                            0            0            1  \\\n",
       "BALANCE                           1390.508973   563.883521  2746.401943   \n",
       "BALANCE_FREQUENCY                    0.931587     0.895128     0.961252   \n",
       "PURCHASES                          737.149330   391.063068   230.364043   \n",
       "ONEOFF_PURCHASES                   354.358139   172.564842   139.715687   \n",
       "INSTALLMENTS_PURCHASES             295.546214   207.142375    78.795787   \n",
       "CASH_ADVANCE                       672.468924   171.835916  1918.750672   \n",
       "PURCHASES_FREQUENCY                  0.490351     0.456683     0.184778   \n",
       "ONEOFF_PURCHASES_FREQUENCY           0.184773     0.100633     0.078145   \n",
       "PURCHASES_INSTALLMENTS_FREQUENCY     0.364437     0.347641     0.109674   \n",
       "CASH_ADVANCE_FREQUENCY               0.126061     0.042268     0.341634   \n",
       "CASH_ADVANCE_TRX                     2.383128     0.656925     6.723210   \n",
       "PURCHASES_TRX                       11.623799     7.344602     3.518872   \n",
       "CREDIT_LIMIT                      4419.137221  3037.704493  5376.842174   \n",
       "PAYMENTS                          1347.084165   689.356097  1732.670056   \n",
       "MINIMUM_PAYMENTS                   556.752385   320.371611   940.790488   \n",
       "PRC_FULL_PAYMENT                     0.087223     0.098837     0.027320   \n",
       "TENURE                              11.517318    11.437077    11.364425   \n",
       "cluster_3                            0.717877          NaN          NaN   \n",
       "cluster_4                            1.485587     1.722792     1.819523   \n",
       "cluster_5                            2.000894     2.402181     0.718004   \n",
       "cluster_6                            2.400112     2.093348     3.195228   \n",
       "cluster_7                            2.995307     1.887459     4.322343   \n",
       "cluster_8                            3.100670     2.755071     4.300217   \n",
       "cluster_9                            3.688045     3.468920     5.104555   \n",
       "cluster_10                           3.912067     2.413086     5.360954   \n",
       "\n",
       "                                            2            0            1  \\\n",
       "BALANCE                           1713.200430  1873.704983   772.327413   \n",
       "BALANCE_FREQUENCY                    0.979542     0.980325     0.885499   \n",
       "PURCHASES                         2074.501559  2203.409524   268.499873   \n",
       "ONEOFF_PURCHASES                   999.150914  1185.368242   210.940134   \n",
       "INSTALLMENTS_PURCHASES             734.838123   676.017948    49.082622   \n",
       "CASH_ADVANCE                       392.237330   423.408333   339.036132   \n",
       "PURCHASES_FREQUENCY                  0.907200     0.899372     0.208127   \n",
       "ONEOFF_PURCHASES_FREQUENCY           0.491358     0.577536     0.117163   \n",
       "PURCHASES_INSTALLMENTS_FREQUENCY     0.686884     0.630598     0.084104   \n",
       "CASH_ADVANCE_FREQUENCY               0.071351     0.075522     0.077051   \n",
       "CASH_ADVANCE_TRX                     1.368932     1.451923     1.255001   \n",
       "PURCHASES_TRX                       30.216990    31.209135     3.388773   \n",
       "CREDIT_LIMIT                      6422.224184  6853.895323  3176.689740   \n",
       "PAYMENTS                          2379.563637  2532.134400   743.923185   \n",
       "MINIMUM_PAYMENTS                   653.159192   656.460222   356.219077   \n",
       "PRC_FULL_PAYMENT                     0.128401     0.125990     0.056144   \n",
       "TENURE                              11.866990    11.865385    11.458346   \n",
       "cluster_3                                 NaN     1.984375     0.131980   \n",
       "cluster_4                            0.583981          NaN          NaN   \n",
       "cluster_5                            2.543204     2.931490     2.871305   \n",
       "cluster_6                            2.193204     2.632212     2.734548   \n",
       "cluster_7                            3.976214     4.584736     2.205136   \n",
       "cluster_8                            2.527670     3.000601     3.888623   \n",
       "cluster_9                            2.590777     2.450721     3.753658   \n",
       "cluster_10                           5.627184     6.427885     3.169901   \n",
       "\n",
       "                                            2            3            0  \\\n",
       "BALANCE                           3051.033828   508.228972  3196.250221   \n",
       "BALANCE_FREQUENCY                    0.966897     0.935171     0.966389   \n",
       "PURCHASES                          269.400705   737.889080   304.451369   \n",
       "ONEOFF_PURCHASES                   155.580687    97.738389   171.697393   \n",
       "INSTALLMENTS_PURCHASES              97.823193   566.099670   111.929028   \n",
       "CASH_ADVANCE                      2120.803783   108.748262  2282.693446   \n",
       "PURCHASES_FREQUENCY                  0.212553     0.867760     0.231973   \n",
       "ONEOFF_PURCHASES_FREQUENCY           0.086007     0.067536     0.093229   \n",
       "PURCHASES_INSTALLMENTS_FREQUENCY     0.131887     0.812782     0.146983   \n",
       "CASH_ADVANCE_FREQUENCY               0.370670     0.025859     0.390135   \n",
       "CASH_ADVANCE_TRX                     7.388948     0.452002     7.837166   \n",
       "PURCHASES_TRX                        4.204399    15.877955     4.717837   \n",
       "CREDIT_LIMIT                      5927.371895  3115.794096  6277.297211   \n",
       "PAYMENTS                          1912.194380   862.133413  2051.996367   \n",
       "MINIMUM_PAYMENTS                  1029.602951   375.507210  1067.256590   \n",
       "PRC_FULL_PAYMENT                     0.029035     0.158635     0.030090   \n",
       "TENURE                              11.375536    11.460685    11.368552   \n",
       "cluster_3                            1.011266     0.383985     1.020510   \n",
       "cluster_4                                 NaN          NaN     1.983841   \n",
       "cluster_5                            0.321352     1.357935          NaN   \n",
       "cluster_6                            3.556867     0.633382     3.828465   \n",
       "cluster_7                            4.943670     1.244091     5.399627   \n",
       "cluster_8                            4.119099     0.992282     3.882536   \n",
       "cluster_9                            5.216202     3.201158     5.333748   \n",
       "cluster_10                           5.791845     1.401351     6.040398   \n",
       "\n",
       "                                            1  ...            0            1  \\\n",
       "BALANCE                            549.708097  ...   707.900447   527.471020   \n",
       "BALANCE_FREQUENCY                    0.956521  ...     0.848067     0.957496   \n",
       "PURCHASES                          792.529975  ...   266.833364   781.520452   \n",
       "ONEOFF_PURCHASES                   100.964678  ...   149.094430    80.863933   \n",
       "INSTALLMENTS_PURCHASES             603.734331  ...   115.209528   615.528808   \n",
       "CASH_ADVANCE                       118.194887  ...   842.445913    92.023341   \n",
       "PURCHASES_FREQUENCY                  0.905123  ...     0.382072     0.908827   \n",
       "ONEOFF_PURCHASES_FREQUENCY           0.071036  ...     0.096003     0.054786   \n",
       "PURCHASES_INSTALLMENTS_FREQUENCY     0.853770  ...     0.257954     0.871014   \n",
       "CASH_ADVANCE_FREQUENCY               0.026800  ...     0.171543     0.022166   \n",
       "CASH_ADVANCE_TRX                     0.469421  ...     2.624299     0.394588   \n",
       "PURCHASES_TRX                       17.126722  ...     4.069159    17.190686   \n",
       "CREDIT_LIMIT                      3114.127362  ...  2259.289720  3086.463915   \n",
       "PAYMENTS                           908.336759  ...   432.200281   883.857831   \n",
       "MINIMUM_PAYMENTS                   399.175532  ...   272.997319   400.464973   \n",
       "PRC_FULL_PAYMENT                     0.150048  ...     0.071322     0.149578   \n",
       "TENURE                              11.560331  ...     7.128972    11.781624   \n",
       "cluster_3                            0.461157  ...     0.295327     0.421020   \n",
       "cluster_4                            2.954270  ...     1.704673     2.983638   \n",
       "cluster_5                                 NaN  ...     2.829907     1.010069   \n",
       "cluster_6                            0.103581  ...     3.809346     0.026432   \n",
       "cluster_7                            1.114050  ...     0.020561     1.023914   \n",
       "cluster_8                            0.497521  ...     6.003738     0.050975   \n",
       "cluster_9                            3.144353  ...     7.988785     2.996224   \n",
       "cluster_10                           1.280441  ...          NaN          NaN   \n",
       "\n",
       "                                            2            3            4  \\\n",
       "BALANCE                           1101.393769   114.183209  1334.909551   \n",
       "BALANCE_FREQUENCY                    0.959628     0.736501     0.991307   \n",
       "PURCHASES                         1252.355246   283.289661   147.694434   \n",
       "ONEOFF_PURCHASES                   981.255358   151.527587    98.498524   \n",
       "INSTALLMENTS_PURCHASES             115.188960   129.196310    49.298282   \n",
       "CASH_ADVANCE                       151.235885   185.530130   329.261479   \n",
       "PURCHASES_FREQUENCY                  0.671440     0.263838     0.159525   \n",
       "ONEOFF_PURCHASES_FREQUENCY           0.527329     0.070797     0.064840   \n",
       "PURCHASES_INSTALLMENTS_FREQUENCY     0.170394     0.182283     0.093690   \n",
       "CASH_ADVANCE_FREQUENCY               0.040837     0.024153     0.089565   \n",
       "CASH_ADVANCE_TRX                     0.667072     0.403877     1.419847   \n",
       "PURCHASES_TRX                       15.455650     4.050081     2.553435   \n",
       "CREDIT_LIMIT                      4481.604625  3945.236941  2817.048346   \n",
       "PAYMENTS                          1259.636150   818.685867   638.620512   \n",
       "MINIMUM_PAYMENTS                   444.728486   163.810616   554.258084   \n",
       "PRC_FULL_PAYMENT                     0.074752     0.147606     0.007520   \n",
       "TENURE                              11.754557    11.820679    11.905852   \n",
       "cluster_3                            0.959903     0.016963     0.177481   \n",
       "cluster_4                            0.705954     1.311793     1.110687   \n",
       "cluster_5                            2.609964     3.916801     2.005725   \n",
       "cluster_6                            2.331713     4.848950     1.022265   \n",
       "cluster_7                            3.522479     2.996769     2.005089   \n",
       "cluster_8                            2.646416     3.997577     3.213740   \n",
       "cluster_9                            0.147023     2.000000     4.996183   \n",
       "cluster_10                                NaN          NaN          NaN   \n",
       "\n",
       "                                            5            6            7  \\\n",
       "BALANCE                           1492.757752  3521.300155  4421.780252   \n",
       "BALANCE_FREQUENCY                    0.944092     0.994701     0.985035   \n",
       "PURCHASES                          119.822130  2379.641552   162.433923   \n",
       "ONEOFF_PURCHASES                    88.695296  1138.203132   110.799990   \n",
       "INSTALLMENTS_PURCHASES              30.559696   885.388900    50.493448   \n",
       "CASH_ADVANCE                      1834.047707   315.976156  2299.451296   \n",
       "PURCHASES_FREQUENCY                  0.108662     0.928030     0.137664   \n",
       "ONEOFF_PURCHASES_FREQUENCY           0.056113     0.511500     0.055456   \n",
       "PURCHASES_INSTALLMENTS_FREQUENCY     0.052344     0.787303     0.079044   \n",
       "CASH_ADVANCE_FREQUENCY               0.357815     0.047420     0.364649   \n",
       "CASH_ADVANCE_TRX                     7.311957     0.773019     7.245542   \n",
       "PURCHASES_TRX                        1.836957    34.475375     2.248285   \n",
       "CREDIT_LIMIT                      3369.583333  8525.481799  8260.980172   \n",
       "PAYMENTS                          1604.801329  2615.694338  2188.861110   \n",
       "MINIMUM_PAYMENTS                   533.955015  1174.364168  1450.963610   \n",
       "PRC_FULL_PAYMENT                     0.050184     0.014618     0.011710   \n",
       "TENURE                              11.651087    11.959315    11.672154   \n",
       "cluster_3                            0.965217     2.000000     1.000000   \n",
       "cluster_4                            1.795652     0.051392     2.000000   \n",
       "cluster_5                            0.840217     2.935760     0.063100   \n",
       "cluster_6                            3.264130     2.254818     3.886145   \n",
       "cluster_7                            4.442391     4.211991     5.879287   \n",
       "cluster_8                            6.961957     4.237687     1.257888   \n",
       "cluster_9                            4.023913     4.740899     5.927298   \n",
       "cluster_10                                NaN          NaN          NaN   \n",
       "\n",
       "                                            8            9  \n",
       "BALANCE                           3457.329462   582.653862  \n",
       "BALANCE_FREQUENCY                    0.985175     0.970545  \n",
       "PURCHASES                         1649.089929  2386.959985  \n",
       "ONEOFF_PURCHASES                   787.239491  1201.701141  \n",
       "INSTALLMENTS_PURCHASES             657.440376   789.836174  \n",
       "CASH_ADVANCE                      2350.688385    71.351897  \n",
       "PURCHASES_FREQUENCY                  0.848944     0.943714  \n",
       "ONEOFF_PURCHASES_FREQUENCY           0.373793     0.615382  \n",
       "PURCHASES_INSTALLMENTS_FREQUENCY     0.664016     0.721867  \n",
       "CASH_ADVANCE_FREQUENCY               0.398566     0.017686  \n",
       "CASH_ADVANCE_TRX                     8.175355     0.300763  \n",
       "PURCHASES_TRX                       26.000000    34.184733  \n",
       "CREDIT_LIMIT                      7254.976303  6522.033310  \n",
       "PAYMENTS                          2838.685436  2862.670915  \n",
       "MINIMUM_PAYMENTS                  1205.025113   235.876176  \n",
       "PRC_FULL_PAYMENT                     0.040733     0.259558  \n",
       "TENURE                              11.654028    11.893130  \n",
       "cluster_3                            1.533175     2.000000  \n",
       "cluster_4                            1.109005     0.137405  \n",
       "cluster_5                            1.298578     2.902290  \n",
       "cluster_6                            2.504739     2.940458  \n",
       "cluster_7                            4.402844     4.902290  \n",
       "cluster_8                            3.981043     1.981679  \n",
       "cluster_9                            6.255924     0.984733  \n",
       "cluster_10                                NaN          NaN  \n",
       "\n",
       "[25 rows x 53 columns]"
      ]
     },
     "execution_count": 69,
     "metadata": {},
     "output_type": "execute_result"
    }
   ],
   "source": [
    "# Mean value gives a good indication of the distribution of data. \n",
    "# So we are finding mean value for each variable for each cluster\n",
    "Profiling_output = pd.concat( [clust_copy.mean().T, \n",
    "                              clust_copy.groupby('cluster_3').mean().T, \n",
    "                              clust_copy.groupby('cluster_4').mean().T,\n",
    "                              clust_copy.groupby('cluster_5').mean().T, \n",
    "                              clust_copy.groupby('cluster_6').mean().T,\n",
    "                              clust_copy.groupby('cluster_7').mean().T, \n",
    "                              clust_copy.groupby('cluster_8').mean().T,\n",
    "                              clust_copy.groupby('cluster_9').mean().T,\n",
    "                              clust_copy.groupby('cluster_10').mean().T], axis = 1 )\n",
    "\n",
    "Profiling_output"
   ]
  },
  {
   "cell_type": "code",
   "execution_count": null,
   "id": "dae7baee-cc0d-4a42-8c0d-6470841585cb",
   "metadata": {},
   "outputs": [],
   "source": []
  },
  {
   "cell_type": "code",
   "execution_count": null,
   "id": "10172936-83d3-449e-923a-c35c0f46c032",
   "metadata": {},
   "outputs": [],
   "source": []
  },
  {
   "cell_type": "code",
   "execution_count": 70,
   "id": "6dff09a7-1399-41c0-baa0-d0ac1981ae12",
   "metadata": {},
   "outputs": [],
   "source": [
    "# Adding a new variable for 4 clusters in the dimensions data"
   ]
  },
  {
   "cell_type": "code",
   "execution_count": 71,
   "id": "a191b845-0ca7-435c-a6eb-2e313d0eb001",
   "metadata": {},
   "outputs": [],
   "source": [
    "cl_4 = km_4.labels_"
   ]
  },
  {
   "cell_type": "code",
   "execution_count": 72,
   "id": "97852aab-1080-4526-b25e-901ee03c89af",
   "metadata": {},
   "outputs": [],
   "source": [
    "cl_4 = pd.Series(cl_4)"
   ]
  },
  {
   "cell_type": "code",
   "execution_count": 73,
   "id": "87fde769-bc75-4898-bde9-e1462222b60a",
   "metadata": {},
   "outputs": [
    {
     "data": {
      "text/plain": [
       "0       1\n",
       "1       2\n",
       "2       0\n",
       "3       1\n",
       "4       1\n",
       "       ..\n",
       "8945    3\n",
       "8946    3\n",
       "8947    3\n",
       "8948    1\n",
       "8949    1\n",
       "Length: 8950, dtype: int32"
      ]
     },
     "execution_count": 73,
     "metadata": {},
     "output_type": "execute_result"
    }
   ],
   "source": [
    "cl_4"
   ]
  },
  {
   "cell_type": "code",
   "execution_count": 74,
   "id": "02323012-5e2e-44f8-8272-fe9656dd3463",
   "metadata": {},
   "outputs": [],
   "source": [
    "dimensions['cl_4'] = cl_4"
   ]
  },
  {
   "cell_type": "code",
   "execution_count": 75,
   "id": "41ae6c26-f8a4-41b1-b5fe-6013940cffa8",
   "metadata": {},
   "outputs": [
    {
     "data": {
      "text/html": [
       "<div>\n",
       "<style scoped>\n",
       "    .dataframe tbody tr th:only-of-type {\n",
       "        vertical-align: middle;\n",
       "    }\n",
       "\n",
       "    .dataframe tbody tr th {\n",
       "        vertical-align: top;\n",
       "    }\n",
       "\n",
       "    .dataframe thead th {\n",
       "        text-align: right;\n",
       "    }\n",
       "</style>\n",
       "<table border=\"1\" class=\"dataframe\">\n",
       "  <thead>\n",
       "    <tr style=\"text-align: right;\">\n",
       "      <th></th>\n",
       "      <th>P1</th>\n",
       "      <th>P2</th>\n",
       "      <th>P3</th>\n",
       "      <th>P4</th>\n",
       "      <th>P5</th>\n",
       "      <th>P6</th>\n",
       "      <th>cl_4</th>\n",
       "    </tr>\n",
       "  </thead>\n",
       "  <tbody>\n",
       "    <tr>\n",
       "      <th>0</th>\n",
       "      <td>-1.637876</td>\n",
       "      <td>-2.369803</td>\n",
       "      <td>0.237368</td>\n",
       "      <td>-0.673316</td>\n",
       "      <td>-0.172906</td>\n",
       "      <td>0.008891</td>\n",
       "      <td>1</td>\n",
       "    </tr>\n",
       "    <tr>\n",
       "      <th>1</th>\n",
       "      <td>-2.149811</td>\n",
       "      <td>2.351193</td>\n",
       "      <td>0.542645</td>\n",
       "      <td>0.992185</td>\n",
       "      <td>-2.203215</td>\n",
       "      <td>0.104840</td>\n",
       "      <td>2</td>\n",
       "    </tr>\n",
       "    <tr>\n",
       "      <th>2</th>\n",
       "      <td>1.198834</td>\n",
       "      <td>0.301369</td>\n",
       "      <td>1.508361</td>\n",
       "      <td>-1.982372</td>\n",
       "      <td>0.786107</td>\n",
       "      <td>0.173647</td>\n",
       "      <td>0</td>\n",
       "    </tr>\n",
       "    <tr>\n",
       "      <th>3</th>\n",
       "      <td>-0.469129</td>\n",
       "      <td>-0.537878</td>\n",
       "      <td>2.456555</td>\n",
       "      <td>-0.730582</td>\n",
       "      <td>-0.292396</td>\n",
       "      <td>1.114697</td>\n",
       "      <td>1</td>\n",
       "    </tr>\n",
       "    <tr>\n",
       "      <th>4</th>\n",
       "      <td>-1.642396</td>\n",
       "      <td>-1.574645</td>\n",
       "      <td>0.177495</td>\n",
       "      <td>-1.443635</td>\n",
       "      <td>0.112804</td>\n",
       "      <td>-0.555603</td>\n",
       "      <td>1</td>\n",
       "    </tr>\n",
       "  </tbody>\n",
       "</table>\n",
       "</div>"
      ],
      "text/plain": [
       "         P1        P2        P3        P4        P5        P6  cl_4\n",
       "0 -1.637876 -2.369803  0.237368 -0.673316 -0.172906  0.008891     1\n",
       "1 -2.149811  2.351193  0.542645  0.992185 -2.203215  0.104840     2\n",
       "2  1.198834  0.301369  1.508361 -1.982372  0.786107  0.173647     0\n",
       "3 -0.469129 -0.537878  2.456555 -0.730582 -0.292396  1.114697     1\n",
       "4 -1.642396 -1.574645  0.177495 -1.443635  0.112804 -0.555603     1"
      ]
     },
     "execution_count": 75,
     "metadata": {},
     "output_type": "execute_result"
    }
   ],
   "source": [
    "dimensions.head()"
   ]
  },
  {
   "cell_type": "code",
   "execution_count": 76,
   "id": "40a038d5-5423-4256-81db-f1e265863fd9",
   "metadata": {},
   "outputs": [
    {
     "data": {
      "text/plain": [
       "(8950, 17)"
      ]
     },
     "execution_count": 76,
     "metadata": {},
     "output_type": "execute_result"
    }
   ],
   "source": [
    "cust_scale.shape"
   ]
  },
  {
   "cell_type": "markdown",
   "id": "45cb5079-a532-465d-bc55-a4dbf8238eb6",
   "metadata": {},
   "source": [
    "# **building a KNN model on dimensions data**"
   ]
  },
  {
   "cell_type": "code",
   "execution_count": 77,
   "id": "eee346d3-faa6-4cc2-ba38-070ab6247198",
   "metadata": {},
   "outputs": [],
   "source": [
    "y = dimensions['cl_4']"
   ]
  },
  {
   "cell_type": "code",
   "execution_count": 78,
   "id": "80bfe3f2-d483-4ba4-af7b-efa883d7abbb",
   "metadata": {},
   "outputs": [
    {
     "data": {
      "text/plain": [
       "0    1\n",
       "1    2\n",
       "2    0\n",
       "3    1\n",
       "4    1\n",
       "Name: cl_4, dtype: int32"
      ]
     },
     "execution_count": 78,
     "metadata": {},
     "output_type": "execute_result"
    }
   ],
   "source": [
    "y.head()"
   ]
  },
  {
   "cell_type": "code",
   "execution_count": 79,
   "id": "0a5204e0-cbd3-44d2-bdb5-654f176c94f6",
   "metadata": {},
   "outputs": [],
   "source": [
    "X = dimensions.columns.difference(['cl_4'])"
   ]
  },
  {
   "cell_type": "code",
   "execution_count": 80,
   "id": "5eeb5bc4-1b05-4143-9c04-5c90a7b15011",
   "metadata": {},
   "outputs": [
    {
     "data": {
      "text/plain": [
       "Index(['P1', 'P2', 'P3', 'P4', 'P5', 'P6'], dtype='object')"
      ]
     },
     "execution_count": 80,
     "metadata": {},
     "output_type": "execute_result"
    }
   ],
   "source": [
    "X"
   ]
  },
  {
   "cell_type": "code",
   "execution_count": 81,
   "id": "252843e1-cb6a-419d-ae67-39f706e66e50",
   "metadata": {},
   "outputs": [],
   "source": [
    "x = dimensions[X]"
   ]
  },
  {
   "cell_type": "code",
   "execution_count": 82,
   "id": "001897dd-1401-42e6-8bd9-b1f872ebf70c",
   "metadata": {},
   "outputs": [
    {
     "data": {
      "text/html": [
       "<div>\n",
       "<style scoped>\n",
       "    .dataframe tbody tr th:only-of-type {\n",
       "        vertical-align: middle;\n",
       "    }\n",
       "\n",
       "    .dataframe tbody tr th {\n",
       "        vertical-align: top;\n",
       "    }\n",
       "\n",
       "    .dataframe thead th {\n",
       "        text-align: right;\n",
       "    }\n",
       "</style>\n",
       "<table border=\"1\" class=\"dataframe\">\n",
       "  <thead>\n",
       "    <tr style=\"text-align: right;\">\n",
       "      <th></th>\n",
       "      <th>P1</th>\n",
       "      <th>P2</th>\n",
       "      <th>P3</th>\n",
       "      <th>P4</th>\n",
       "      <th>P5</th>\n",
       "      <th>P6</th>\n",
       "    </tr>\n",
       "  </thead>\n",
       "  <tbody>\n",
       "    <tr>\n",
       "      <th>0</th>\n",
       "      <td>-1.637876</td>\n",
       "      <td>-2.369803</td>\n",
       "      <td>0.237368</td>\n",
       "      <td>-0.673316</td>\n",
       "      <td>-0.172906</td>\n",
       "      <td>0.008891</td>\n",
       "    </tr>\n",
       "    <tr>\n",
       "      <th>1</th>\n",
       "      <td>-2.149811</td>\n",
       "      <td>2.351193</td>\n",
       "      <td>0.542645</td>\n",
       "      <td>0.992185</td>\n",
       "      <td>-2.203215</td>\n",
       "      <td>0.104840</td>\n",
       "    </tr>\n",
       "    <tr>\n",
       "      <th>2</th>\n",
       "      <td>1.198834</td>\n",
       "      <td>0.301369</td>\n",
       "      <td>1.508361</td>\n",
       "      <td>-1.982372</td>\n",
       "      <td>0.786107</td>\n",
       "      <td>0.173647</td>\n",
       "    </tr>\n",
       "    <tr>\n",
       "      <th>3</th>\n",
       "      <td>-0.469129</td>\n",
       "      <td>-0.537878</td>\n",
       "      <td>2.456555</td>\n",
       "      <td>-0.730582</td>\n",
       "      <td>-0.292396</td>\n",
       "      <td>1.114697</td>\n",
       "    </tr>\n",
       "    <tr>\n",
       "      <th>4</th>\n",
       "      <td>-1.642396</td>\n",
       "      <td>-1.574645</td>\n",
       "      <td>0.177495</td>\n",
       "      <td>-1.443635</td>\n",
       "      <td>0.112804</td>\n",
       "      <td>-0.555603</td>\n",
       "    </tr>\n",
       "  </tbody>\n",
       "</table>\n",
       "</div>"
      ],
      "text/plain": [
       "         P1        P2        P3        P4        P5        P6\n",
       "0 -1.637876 -2.369803  0.237368 -0.673316 -0.172906  0.008891\n",
       "1 -2.149811  2.351193  0.542645  0.992185 -2.203215  0.104840\n",
       "2  1.198834  0.301369  1.508361 -1.982372  0.786107  0.173647\n",
       "3 -0.469129 -0.537878  2.456555 -0.730582 -0.292396  1.114697\n",
       "4 -1.642396 -1.574645  0.177495 -1.443635  0.112804 -0.555603"
      ]
     },
     "execution_count": 82,
     "metadata": {},
     "output_type": "execute_result"
    }
   ],
   "source": [
    "x.head()"
   ]
  },
  {
   "cell_type": "code",
   "execution_count": 84,
   "id": "cdbd865c-2f1c-4121-a1ff-86da64a99c5f",
   "metadata": {},
   "outputs": [],
   "source": [
    "from sklearn.model_selection import train_test_split\n",
    "from sklearn.neighbors import KNeighborsClassifier, KNeighborsRegressor\n",
    "from sklearn.model_selection import GridSearchCV\n",
    "from sklearn.metrics import accuracy_score, precision_score, recall_score, f1_score, roc_auc_score, confusion_matrix, classification_report\n",
    "from sklearn import metrics"
   ]
  },
  {
   "cell_type": "code",
   "execution_count": 85,
   "id": "b9430c7a-fb51-4ed4-a52d-d90131a25f4d",
   "metadata": {},
   "outputs": [],
   "source": [
    "x_train , x_test, y_train, y_test = train_test_split(x,y, test_size = 0.3, random_state =123)"
   ]
  },
  {
   "cell_type": "code",
   "execution_count": 86,
   "id": "f42cdadc-7897-45c6-b7a8-4caf7a193947",
   "metadata": {},
   "outputs": [
    {
     "data": {
      "text/plain": [
       "(6265, 6)"
      ]
     },
     "execution_count": 86,
     "metadata": {},
     "output_type": "execute_result"
    }
   ],
   "source": [
    "x_train.shape"
   ]
  },
  {
   "cell_type": "code",
   "execution_count": 87,
   "id": "81b26352-e97f-475d-a027-95d259ab98a2",
   "metadata": {},
   "outputs": [
    {
     "data": {
      "text/plain": [
       "(6265,)"
      ]
     },
     "execution_count": 87,
     "metadata": {},
     "output_type": "execute_result"
    }
   ],
   "source": [
    "y_train.shape"
   ]
  },
  {
   "cell_type": "code",
   "execution_count": 88,
   "id": "5a0016ee-7e18-4d58-9c12-f02d15ec339a",
   "metadata": {},
   "outputs": [
    {
     "data": {
      "text/plain": [
       "(2685, 6)"
      ]
     },
     "execution_count": 88,
     "metadata": {},
     "output_type": "execute_result"
    }
   ],
   "source": [
    "x_test.shape"
   ]
  },
  {
   "cell_type": "code",
   "execution_count": 89,
   "id": "16a6385f-052e-4b27-9962-ac9669ac3d29",
   "metadata": {},
   "outputs": [
    {
     "data": {
      "text/plain": [
       "(2685,)"
      ]
     },
     "execution_count": 89,
     "metadata": {},
     "output_type": "execute_result"
    }
   ],
   "source": [
    "y_test.shape"
   ]
  },
  {
   "cell_type": "code",
   "execution_count": 109,
   "id": "0f015d53-dddd-4957-acb3-661a3eb7f99a",
   "metadata": {},
   "outputs": [],
   "source": [
    "knn = KNeighborsClassifier(n_neighbors = 5, weights = 'uniform', n_jobs = -1).fit(x_train, y_train) "
   ]
  },
  {
   "cell_type": "code",
   "execution_count": 110,
   "id": "22989f2d-31ac-45fd-a8ab-4b8ff7910bb6",
   "metadata": {},
   "outputs": [],
   "source": [
    "y_train_pred = knn.predict(x_train)"
   ]
  },
  {
   "cell_type": "code",
   "execution_count": 111,
   "id": "e6a4d6df-a82d-43ad-a6c9-b8a600463993",
   "metadata": {},
   "outputs": [],
   "source": [
    "#print('ROC_AUC_Train:', metrics.roc_auc_score(y_train, y_train_pred))"
   ]
  },
  {
   "cell_type": "code",
   "execution_count": 112,
   "id": "fd65dd3f-b13a-4bff-8cbe-8d755e2cc881",
   "metadata": {},
   "outputs": [],
   "source": [
    "#y_train_pred_proba = knn.predict_proba(x_train)[:, 1] "
   ]
  },
  {
   "cell_type": "code",
   "execution_count": 113,
   "id": "0b6f31fe-d0c6-47b6-b554-f1cc4d0fee9e",
   "metadata": {},
   "outputs": [
    {
     "name": "stdout",
     "output_type": "stream",
     "text": [
      "Accuracy: 0.9797286512370311\n",
      "Confusion Matrix:\n",
      " [[1131   15    9   13]\n",
      " [   3 2308   12   12]\n",
      " [   6   21 1291    5]\n",
      " [  12   16    3 1408]]\n",
      "\n",
      "Classification Report:\n",
      "               precision    recall  f1-score   support\n",
      "\n",
      "           0       0.98      0.97      0.97      1168\n",
      "           1       0.98      0.99      0.98      2335\n",
      "           2       0.98      0.98      0.98      1323\n",
      "           3       0.98      0.98      0.98      1439\n",
      "\n",
      "    accuracy                           0.98      6265\n",
      "   macro avg       0.98      0.98      0.98      6265\n",
      "weighted avg       0.98      0.98      0.98      6265\n",
      "\n"
     ]
    }
   ],
   "source": [
    "accuracy = accuracy_score(y_train, y_train_pred)\n",
    "conf_matrix = confusion_matrix(y_train, y_train_pred)\n",
    "\n",
    "print(\"Accuracy:\", accuracy)\n",
    "print(\"Confusion Matrix:\\n\", conf_matrix)\n",
    "print(\"\\nClassification Report:\\n\", classification_report(y_train, y_train_pred))"
   ]
  },
  {
   "cell_type": "code",
   "execution_count": 114,
   "id": "0b2d21a5-cd84-4a45-babe-a1713f0168ec",
   "metadata": {},
   "outputs": [],
   "source": [
    "y_test_pred = knn.predict(x_test)"
   ]
  },
  {
   "cell_type": "code",
   "execution_count": 115,
   "id": "d6e5b0ae-0e05-4197-80fa-0cb5e6082ea1",
   "metadata": {},
   "outputs": [],
   "source": [
    "#print('ROC_AUC_Test:', metrics.roc_auc_score(y_test, y_test_pred))"
   ]
  },
  {
   "cell_type": "code",
   "execution_count": 116,
   "id": "7f1daf9b-26f3-465b-9dea-0cb367615d99",
   "metadata": {},
   "outputs": [],
   "source": [
    "#y_test_pred_proba = knn.predict_proba(x_test)[:, 1] "
   ]
  },
  {
   "cell_type": "code",
   "execution_count": 117,
   "id": "c70d6771-db92-4fcd-9087-b6713a94149d",
   "metadata": {},
   "outputs": [
    {
     "name": "stdout",
     "output_type": "stream",
     "text": [
      "Accuracy: 0.9590316573556797\n",
      "Confusion Matrix:\n",
      " [[474   8   4  10]\n",
      " [  2 985  12  15]\n",
      " [  5  15 514   7]\n",
      " [  9  22   1 602]]\n",
      "\n",
      "Classification Report:\n",
      "               precision    recall  f1-score   support\n",
      "\n",
      "           0       0.97      0.96      0.96       496\n",
      "           1       0.96      0.97      0.96      1014\n",
      "           2       0.97      0.95      0.96       541\n",
      "           3       0.95      0.95      0.95       634\n",
      "\n",
      "    accuracy                           0.96      2685\n",
      "   macro avg       0.96      0.96      0.96      2685\n",
      "weighted avg       0.96      0.96      0.96      2685\n",
      "\n"
     ]
    }
   ],
   "source": [
    "accuracy = accuracy_score(y_test, y_test_pred)\n",
    "conf_matrix = confusion_matrix(y_test, y_test_pred)\n",
    "\n",
    "print(\"Accuracy:\", accuracy)\n",
    "print(\"Confusion Matrix:\\n\", conf_matrix)\n",
    "print(\"\\nClassification Report:\\n\", classification_report(y_test, y_test_pred))"
   ]
  },
  {
   "cell_type": "code",
   "execution_count": null,
   "id": "343e3916-5a8b-401a-a756-d8598fede45e",
   "metadata": {},
   "outputs": [],
   "source": []
  },
  {
   "cell_type": "code",
   "execution_count": null,
   "id": "bc1884c3-6789-43fb-a56e-7ce8828cbc13",
   "metadata": {},
   "outputs": [],
   "source": []
  },
  {
   "cell_type": "markdown",
   "id": "a31aa2eb-a5c0-448c-80a5-5d310ab40f90",
   "metadata": {},
   "source": [
    "# ***DBSCAN clustering***\n",
    "# Density-based spatial clustering of applications with noise (DBSCAN)"
   ]
  },
  {
   "cell_type": "code",
   "execution_count": 118,
   "id": "36bdf7cb-8164-4721-b94d-90630b0332a8",
   "metadata": {},
   "outputs": [
    {
     "data": {
      "text/html": [
       "<style>#sk-container-id-3 {color: black;background-color: white;}#sk-container-id-3 pre{padding: 0;}#sk-container-id-3 div.sk-toggleable {background-color: white;}#sk-container-id-3 label.sk-toggleable__label {cursor: pointer;display: block;width: 100%;margin-bottom: 0;padding: 0.3em;box-sizing: border-box;text-align: center;}#sk-container-id-3 label.sk-toggleable__label-arrow:before {content: \"▸\";float: left;margin-right: 0.25em;color: #696969;}#sk-container-id-3 label.sk-toggleable__label-arrow:hover:before {color: black;}#sk-container-id-3 div.sk-estimator:hover label.sk-toggleable__label-arrow:before {color: black;}#sk-container-id-3 div.sk-toggleable__content {max-height: 0;max-width: 0;overflow: hidden;text-align: left;background-color: #f0f8ff;}#sk-container-id-3 div.sk-toggleable__content pre {margin: 0.2em;color: black;border-radius: 0.25em;background-color: #f0f8ff;}#sk-container-id-3 input.sk-toggleable__control:checked~div.sk-toggleable__content {max-height: 200px;max-width: 100%;overflow: auto;}#sk-container-id-3 input.sk-toggleable__control:checked~label.sk-toggleable__label-arrow:before {content: \"▾\";}#sk-container-id-3 div.sk-estimator input.sk-toggleable__control:checked~label.sk-toggleable__label {background-color: #d4ebff;}#sk-container-id-3 div.sk-label input.sk-toggleable__control:checked~label.sk-toggleable__label {background-color: #d4ebff;}#sk-container-id-3 input.sk-hidden--visually {border: 0;clip: rect(1px 1px 1px 1px);clip: rect(1px, 1px, 1px, 1px);height: 1px;margin: -1px;overflow: hidden;padding: 0;position: absolute;width: 1px;}#sk-container-id-3 div.sk-estimator {font-family: monospace;background-color: #f0f8ff;border: 1px dotted black;border-radius: 0.25em;box-sizing: border-box;margin-bottom: 0.5em;}#sk-container-id-3 div.sk-estimator:hover {background-color: #d4ebff;}#sk-container-id-3 div.sk-parallel-item::after {content: \"\";width: 100%;border-bottom: 1px solid gray;flex-grow: 1;}#sk-container-id-3 div.sk-label:hover label.sk-toggleable__label {background-color: #d4ebff;}#sk-container-id-3 div.sk-serial::before {content: \"\";position: absolute;border-left: 1px solid gray;box-sizing: border-box;top: 0;bottom: 0;left: 50%;z-index: 0;}#sk-container-id-3 div.sk-serial {display: flex;flex-direction: column;align-items: center;background-color: white;padding-right: 0.2em;padding-left: 0.2em;position: relative;}#sk-container-id-3 div.sk-item {position: relative;z-index: 1;}#sk-container-id-3 div.sk-parallel {display: flex;align-items: stretch;justify-content: center;background-color: white;position: relative;}#sk-container-id-3 div.sk-item::before, #sk-container-id-3 div.sk-parallel-item::before {content: \"\";position: absolute;border-left: 1px solid gray;box-sizing: border-box;top: 0;bottom: 0;left: 50%;z-index: -1;}#sk-container-id-3 div.sk-parallel-item {display: flex;flex-direction: column;z-index: 1;position: relative;background-color: white;}#sk-container-id-3 div.sk-parallel-item:first-child::after {align-self: flex-end;width: 50%;}#sk-container-id-3 div.sk-parallel-item:last-child::after {align-self: flex-start;width: 50%;}#sk-container-id-3 div.sk-parallel-item:only-child::after {width: 0;}#sk-container-id-3 div.sk-dashed-wrapped {border: 1px dashed gray;margin: 0 0.4em 0.5em 0.4em;box-sizing: border-box;padding-bottom: 0.4em;background-color: white;}#sk-container-id-3 div.sk-label label {font-family: monospace;font-weight: bold;display: inline-block;line-height: 1.2em;}#sk-container-id-3 div.sk-label-container {text-align: center;}#sk-container-id-3 div.sk-container {/* jupyter's `normalize.less` sets `[hidden] { display: none; }` but bootstrap.min.css set `[hidden] { display: none !important; }` so we also need the `!important` here to be able to override the default hidden behavior on the sphinx rendered scikit-learn.org. See: https://github.com/scikit-learn/scikit-learn/issues/21755 */display: inline-block !important;position: relative;}#sk-container-id-3 div.sk-text-repr-fallback {display: none;}</style><div id=\"sk-container-id-3\" class=\"sk-top-container\"><div class=\"sk-text-repr-fallback\"><pre>DBSCAN(eps=1.9, min_samples=10)</pre><b>In a Jupyter environment, please rerun this cell to show the HTML representation or trust the notebook. <br />On GitHub, the HTML representation is unable to render, please try loading this page with nbviewer.org.</b></div><div class=\"sk-container\" hidden><div class=\"sk-item\"><div class=\"sk-estimator sk-toggleable\"><input class=\"sk-toggleable__control sk-hidden--visually\" id=\"sk-estimator-id-3\" type=\"checkbox\" checked><label for=\"sk-estimator-id-3\" class=\"sk-toggleable__label sk-toggleable__label-arrow\">DBSCAN</label><div class=\"sk-toggleable__content\"><pre>DBSCAN(eps=1.9, min_samples=10)</pre></div></div></div></div></div>"
      ],
      "text/plain": [
       "DBSCAN(eps=1.9, min_samples=10)"
      ]
     },
     "execution_count": 118,
     "metadata": {},
     "output_type": "execute_result"
    }
   ],
   "source": [
    "# DBSCAN with eps = 1 and min_samples = 3\n",
    "db = DBSCAN( eps = 1.9, min_samples = 10)\n",
    "db.fit(cust_scale)"
   ]
  },
  {
   "cell_type": "code",
   "execution_count": 119,
   "id": "576a0af3-6b2c-42ce-9ea7-e4b32634ccd5",
   "metadata": {},
   "outputs": [
    {
     "data": {
      "text/plain": [
       " 0    7917\n",
       "-1    1001\n",
       " 1      32\n",
       "Name: count, dtype: int64"
      ]
     },
     "execution_count": 119,
     "metadata": {},
     "output_type": "execute_result"
    }
   ],
   "source": [
    "pd.Series(db.labels_).value_counts()"
   ]
  },
  {
   "cell_type": "code",
   "execution_count": 120,
   "id": "1710bec1-16d3-4a72-b2ec-aaa641e9a66f",
   "metadata": {},
   "outputs": [
    {
     "data": {
      "text/plain": [
       "array([ 0,  0,  0, ...,  0,  0, -1], dtype=int64)"
      ]
     },
     "execution_count": 120,
     "metadata": {},
     "output_type": "execute_result"
    }
   ],
   "source": [
    "db.labels_"
   ]
  },
  {
   "cell_type": "code",
   "execution_count": 121,
   "id": "de20db4e-1dec-4ecb-aa6e-e88d19832a84",
   "metadata": {},
   "outputs": [],
   "source": [
    "# save the cluster labels and sort by cluster\n",
    "clust_copy['DB_cluster'] = db.labels_"
   ]
  },
  {
   "cell_type": "code",
   "execution_count": 122,
   "id": "4fe216c5-a14b-4470-b2fd-0399dc2b157a",
   "metadata": {},
   "outputs": [
    {
     "data": {
      "text/html": [
       "<div>\n",
       "<style scoped>\n",
       "    .dataframe tbody tr th:only-of-type {\n",
       "        vertical-align: middle;\n",
       "    }\n",
       "\n",
       "    .dataframe tbody tr th {\n",
       "        vertical-align: top;\n",
       "    }\n",
       "\n",
       "    .dataframe thead th {\n",
       "        text-align: right;\n",
       "    }\n",
       "</style>\n",
       "<table border=\"1\" class=\"dataframe\">\n",
       "  <thead>\n",
       "    <tr style=\"text-align: right;\">\n",
       "      <th></th>\n",
       "      <th>BALANCE</th>\n",
       "      <th>BALANCE_FREQUENCY</th>\n",
       "      <th>PURCHASES</th>\n",
       "      <th>ONEOFF_PURCHASES</th>\n",
       "      <th>INSTALLMENTS_PURCHASES</th>\n",
       "      <th>CASH_ADVANCE</th>\n",
       "      <th>PURCHASES_FREQUENCY</th>\n",
       "      <th>ONEOFF_PURCHASES_FREQUENCY</th>\n",
       "      <th>PURCHASES_INSTALLMENTS_FREQUENCY</th>\n",
       "      <th>CASH_ADVANCE_FREQUENCY</th>\n",
       "      <th>...</th>\n",
       "      <th>PRC_FULL_PAYMENT</th>\n",
       "      <th>TENURE</th>\n",
       "      <th>cluster_3</th>\n",
       "      <th>cluster_4</th>\n",
       "      <th>cluster_5</th>\n",
       "      <th>cluster_6</th>\n",
       "      <th>cluster_7</th>\n",
       "      <th>cluster_8</th>\n",
       "      <th>cluster_9</th>\n",
       "      <th>cluster_10</th>\n",
       "    </tr>\n",
       "    <tr>\n",
       "      <th>DB_cluster</th>\n",
       "      <th></th>\n",
       "      <th></th>\n",
       "      <th></th>\n",
       "      <th></th>\n",
       "      <th></th>\n",
       "      <th></th>\n",
       "      <th></th>\n",
       "      <th></th>\n",
       "      <th></th>\n",
       "      <th></th>\n",
       "      <th></th>\n",
       "      <th></th>\n",
       "      <th></th>\n",
       "      <th></th>\n",
       "      <th></th>\n",
       "      <th></th>\n",
       "      <th></th>\n",
       "      <th></th>\n",
       "      <th></th>\n",
       "      <th></th>\n",
       "      <th></th>\n",
       "    </tr>\n",
       "  </thead>\n",
       "  <tbody>\n",
       "    <tr>\n",
       "      <th>-1</th>\n",
       "      <td>2241.244391</td>\n",
       "      <td>0.926928</td>\n",
       "      <td>1422.132335</td>\n",
       "      <td>698.228944</td>\n",
       "      <td>494.626740</td>\n",
       "      <td>1462.374357</td>\n",
       "      <td>0.679124</td>\n",
       "      <td>0.319897</td>\n",
       "      <td>0.478580</td>\n",
       "      <td>0.243556</td>\n",
       "      <td>...</td>\n",
       "      <td>0.088652</td>\n",
       "      <td>10.838162</td>\n",
       "      <td>1.346653</td>\n",
       "      <td>1.172827</td>\n",
       "      <td>1.810190</td>\n",
       "      <td>2.686314</td>\n",
       "      <td>3.613387</td>\n",
       "      <td>3.964036</td>\n",
       "      <td>4.750250</td>\n",
       "      <td>5.340659</td>\n",
       "    </tr>\n",
       "    <tr>\n",
       "      <th>0</th>\n",
       "      <td>1269.728725</td>\n",
       "      <td>0.931923</td>\n",
       "      <td>642.917311</td>\n",
       "      <td>306.669458</td>\n",
       "      <td>267.344669</td>\n",
       "      <td>564.760772</td>\n",
       "      <td>0.464465</td>\n",
       "      <td>0.165772</td>\n",
       "      <td>0.347637</td>\n",
       "      <td>0.109743</td>\n",
       "      <td>...</td>\n",
       "      <td>0.087212</td>\n",
       "      <td>11.601238</td>\n",
       "      <td>0.633194</td>\n",
       "      <td>1.531136</td>\n",
       "      <td>2.020968</td>\n",
       "      <td>2.365543</td>\n",
       "      <td>2.913098</td>\n",
       "      <td>2.983832</td>\n",
       "      <td>3.540356</td>\n",
       "      <td>3.714917</td>\n",
       "    </tr>\n",
       "    <tr>\n",
       "      <th>1</th>\n",
       "      <td>4660.229985</td>\n",
       "      <td>0.994318</td>\n",
       "      <td>2623.615078</td>\n",
       "      <td>1396.127187</td>\n",
       "      <td>1045.296836</td>\n",
       "      <td>2610.909593</td>\n",
       "      <td>0.989583</td>\n",
       "      <td>0.658854</td>\n",
       "      <td>0.950521</td>\n",
       "      <td>0.487847</td>\n",
       "      <td>...</td>\n",
       "      <td>0.045252</td>\n",
       "      <td>12.000000</td>\n",
       "      <td>2.000000</td>\n",
       "      <td>0.000000</td>\n",
       "      <td>3.000000</td>\n",
       "      <td>2.000000</td>\n",
       "      <td>4.000000</td>\n",
       "      <td>5.000000</td>\n",
       "      <td>7.000000</td>\n",
       "      <td>8.000000</td>\n",
       "    </tr>\n",
       "  </tbody>\n",
       "</table>\n",
       "<p>3 rows × 25 columns</p>\n",
       "</div>"
      ],
      "text/plain": [
       "                BALANCE  BALANCE_FREQUENCY    PURCHASES  ONEOFF_PURCHASES  \\\n",
       "DB_cluster                                                                  \n",
       "-1          2241.244391           0.926928  1422.132335        698.228944   \n",
       " 0          1269.728725           0.931923   642.917311        306.669458   \n",
       " 1          4660.229985           0.994318  2623.615078       1396.127187   \n",
       "\n",
       "            INSTALLMENTS_PURCHASES  CASH_ADVANCE  PURCHASES_FREQUENCY  \\\n",
       "DB_cluster                                                              \n",
       "-1                      494.626740   1462.374357             0.679124   \n",
       " 0                      267.344669    564.760772             0.464465   \n",
       " 1                     1045.296836   2610.909593             0.989583   \n",
       "\n",
       "            ONEOFF_PURCHASES_FREQUENCY  PURCHASES_INSTALLMENTS_FREQUENCY  \\\n",
       "DB_cluster                                                                 \n",
       "-1                            0.319897                          0.478580   \n",
       " 0                            0.165772                          0.347637   \n",
       " 1                            0.658854                          0.950521   \n",
       "\n",
       "            CASH_ADVANCE_FREQUENCY  ...  PRC_FULL_PAYMENT     TENURE  \\\n",
       "DB_cluster                          ...                                \n",
       "-1                        0.243556  ...          0.088652  10.838162   \n",
       " 0                        0.109743  ...          0.087212  11.601238   \n",
       " 1                        0.487847  ...          0.045252  12.000000   \n",
       "\n",
       "            cluster_3  cluster_4  cluster_5  cluster_6  cluster_7  cluster_8  \\\n",
       "DB_cluster                                                                     \n",
       "-1           1.346653   1.172827   1.810190   2.686314   3.613387   3.964036   \n",
       " 0           0.633194   1.531136   2.020968   2.365543   2.913098   2.983832   \n",
       " 1           2.000000   0.000000   3.000000   2.000000   4.000000   5.000000   \n",
       "\n",
       "            cluster_9  cluster_10  \n",
       "DB_cluster                         \n",
       "-1           4.750250    5.340659  \n",
       " 0           3.540356    3.714917  \n",
       " 1           7.000000    8.000000  \n",
       "\n",
       "[3 rows x 25 columns]"
      ]
     },
     "execution_count": 122,
     "metadata": {},
     "output_type": "execute_result"
    }
   ],
   "source": [
    "# review the cluster centers\n",
    "clust_copy.groupby('DB_cluster').mean()"
   ]
  },
  {
   "cell_type": "code",
   "execution_count": null,
   "id": "ee75bc7b-ba6c-400d-89d2-3407eb002616",
   "metadata": {},
   "outputs": [],
   "source": []
  },
  {
   "cell_type": "code",
   "execution_count": null,
   "id": "26e759ff-cb30-4538-8276-692e03f3c735",
   "metadata": {},
   "outputs": [],
   "source": []
  },
  {
   "cell_type": "code",
   "execution_count": null,
   "id": "d25e6991-8c94-4381-80c1-a925500ac021",
   "metadata": {},
   "outputs": [],
   "source": []
  }
 ],
 "metadata": {
  "kernelspec": {
   "display_name": "Python 3 (ipykernel)",
   "language": "python",
   "name": "python3"
  },
  "language_info": {
   "codemirror_mode": {
    "name": "ipython",
    "version": 3
   },
   "file_extension": ".py",
   "mimetype": "text/x-python",
   "name": "python",
   "nbconvert_exporter": "python",
   "pygments_lexer": "ipython3",
   "version": "3.11.7"
  }
 },
 "nbformat": 4,
 "nbformat_minor": 5
}
